{
 "cells": [
  {
   "cell_type": "markdown",
   "id": "8df6da45",
   "metadata": {},
   "source": [
    "# Title\n",
    "\n",
    "**Learning Objectives**\n",
    "- \n",
    "- \n",
    "\n",
    "**Why this matters**\n",
    "\n"
   ]
  },
  {
   "cell_type": "markdown",
   "id": "64ee50b8",
   "metadata": {},
   "source": [
    "## Theory (short & visual)\n"
   ]
  },
  {
   "cell_type": "code",
   "execution_count": null,
   "id": "ff1c6f01",
   "metadata": {},
   "outputs": [],
   "source": [
    "# Examples\n"
   ]
  },
  {
   "cell_type": "markdown",
   "id": "3cdcbbd5",
   "metadata": {},
   "source": [
    "## Exercises\n"
   ]
  },
  {
   "cell_type": "code",
   "execution_count": null,
   "id": "2a0d85c9",
   "metadata": {},
   "outputs": [],
   "source": [
    "# Debug‑me cell\n"
   ]
  },
  {
   "cell_type": "markdown",
   "id": "61e3d28a",
   "metadata": {},
   "source": [
    "## Takeaways & further reading\n"
   ]
  }
 ],
 "metadata": {},
 "nbformat": 4,
 "nbformat_minor": 5
}
