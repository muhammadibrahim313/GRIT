{
 "cells": [
  {
   "cell_type": "markdown",
   "id": "b3f62d0a",
   "metadata": {},
   "source": [
    "# DSPY · Day 02 — Data Types & Mutability\n",
    "\n",
    "**Objectives**\n",
    "- Understand Python scalar & container types\n",
    "- Distinguish identity vs equality\n",
    "- Grasp mutability & copying (shallow vs deep)\n",
    "- Avoid common pandas‑related pitfalls rooted in Python types\n"
   ]
  },
  {
   "cell_type": "markdown",
   "id": "f1f386bd",
   "metadata": {},
   "source": [
    "## Big Picture\n",
    "Python data model drives how libraries like NumPy and pandas behave. Knowing when an object is **copied** vs **referenced** prevents subtle bugs and performance hits."
   ]
  },
  {
   "cell_type": "code",
   "execution_count": null,
   "id": "35dfb940",
   "metadata": {},
   "outputs": [],
   "source": [
    "# Scalars and containers\n",
    "n = 7               # int\n",
    "x = 3.14            # float\n",
    "s = \"DSPY\"          # str\n",
    "ok = True           # bool\n",
    "L = [1,2,3]\n",
    "T = (1,2,3)\n",
    "S = {1,2,2,3}\n",
    "D = {\"a\":1,\"b\":2}\n",
    "print(type(n), type(L), type(D))"
   ]
  },
  {
   "cell_type": "markdown",
   "id": "c78c75ff",
   "metadata": {},
   "source": [
    "## Identity vs Equality\n",
    "`==` compares **values**; `is` compares **object identity (memory)**."
   ]
  },
  {
   "cell_type": "code",
   "execution_count": null,
   "id": "a0cf69f1",
   "metadata": {},
   "outputs": [],
   "source": [
    "a = [1,2]\n",
    "b = [1,2]\n",
    "print(a == b)  # True (same values)\n",
    "print(a is b)  # False (different objects)\n",
    "\n",
    "c = a\n",
    "print(a is c)  # True (same object)\n"
   ]
  },
  {
   "cell_type": "markdown",
   "id": "519aea5f",
   "metadata": {},
   "source": [
    "## Mutability & Copying"
   ]
  },
  {
   "cell_type": "code",
   "execution_count": null,
   "id": "26f9b1e2",
   "metadata": {},
   "outputs": [],
   "source": [
    "import copy\n",
    "L = [[1,2],[3,4]]\n",
    "shallow = L.copy()        # shallow copy\n",
    "deep = copy.deepcopy(L)   # deep copy\n",
    "\n",
    "L[0][0] = 99\n",
    "print(\"L     =\", L)\n",
    "print(\"shallow=\", shallow)   # inner list changed (shared)\n",
    "print(\"deep  =\", deep)       # independent\n"
   ]
  },
  {
   "cell_type": "markdown",
   "id": "890b1d0c",
   "metadata": {},
   "source": [
    "## Common Pitfalls\n",
    "- Default arg as mutable: `def f(x=[]):` ❌\n",
    "- Reusing mutable defaults across calls\n",
    "- Confusing `list * n` replication with independent copies"
   ]
  },
  {
   "cell_type": "code",
   "execution_count": null,
   "id": "1de23fb8",
   "metadata": {},
   "outputs": [],
   "source": [
    "# Bad default example & fix\n",
    "def bad(acc=[]):\n",
    "    acc.append(1)\n",
    "    return acc\n",
    "\n",
    "def good(acc=None):\n",
    "    if acc is None:\n",
    "        acc = []\n",
    "    acc.append(1)\n",
    "    return acc\n",
    "\n",
    "print(bad())   # [1]\n",
    "print(bad())   # [1, 1]  <-- surprise\n",
    "print(good())  # [1]\n",
    "print(good())  # [1]\n"
   ]
  },
  {
   "cell_type": "markdown",
   "id": "736eb0c5",
   "metadata": {},
   "source": [
    "## Debug‑me cell\n",
    "Fix the function to return an **independent** list of length `n` filled with zeros (no shared references)."
   ]
  },
  {
   "cell_type": "code",
   "execution_count": null,
   "id": "df42eed4",
   "metadata": {},
   "outputs": [],
   "source": [
    "def zeros_2d(rows, cols):\n",
    "    # BUG: each row must be independent\n",
    "    return [[0]*cols]*rows  # <-- fix this\n",
    "\n",
    "Z = zeros_2d(3, 4)\n",
    "Z[0][0] = 9\n",
    "assert Z[1][0] == 0  # should not change if rows are independent\n",
    "print(\"All tests passed!\")\n"
   ]
  },
  {
   "cell_type": "markdown",
   "id": "3104771c",
   "metadata": {},
   "source": [
    "## Exercises\n",
    "1) Show a case where two different empty tuples compare equal and are identical (`is`). Why?\n",
    "2) Implement `safe_get(d, key, default)` without `try/except`.\n",
    "3) Create a 3x3 identity matrix list‑of‑lists without shared rows.\n",
    "4) Given `a = ([],)`, append `1` inside the list; does the tuple change? Explain.\n",
    "5) Explain when you would use `deepcopy` in data workflows.\n"
   ]
  }
 ],
 "metadata": {},
 "nbformat": 4,
 "nbformat_minor": 5
}
