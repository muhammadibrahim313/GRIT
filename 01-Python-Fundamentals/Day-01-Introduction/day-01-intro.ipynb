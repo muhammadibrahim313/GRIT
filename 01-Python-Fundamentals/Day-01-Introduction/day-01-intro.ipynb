{
 "cells": [
  {
   "cell_type": "markdown",
   "id": "07cd1a68",
   "metadata": {},
   "source": [
    "# DSPY · Day 01 — Python Intro & Behind the Scenes\n",
    "\n",
    "Welcome! This notebook kicks off your Python journey **the way industry uses it**: clear goals, practical code, and quick wins.\n",
    "\n",
    "**You will learn:**\n",
    "1. What Python is good at (and why data teams love it)\n",
    "2. How Python runs your code (interpreter, bytecode, modules)\n",
    "3. Core syntax & types you’ll use every day\n",
    "4. Idiomatic patterns used in real projects\n",
    "5. How to avoid common beginner mistakes\n",
    "\n",
    "> Tip: Run every cell (Shift+Enter) and edit examples to see how behavior changes.\n"
   ]
  },
  {
   "cell_type": "markdown",
   "id": "bb92705f",
   "metadata": {},
   "source": [
    "## Why this matters (job context)\n",
    "\n",
    "- Python is the **glue** in data teams: ETL scripts, notebooks, dashboards, ML training.  \n",
    "- You’ll read other people’s code daily—so **clarity and idioms** matter.  \n",
    "- Knowing how Python executes code helps you debug faster and write reliable notebooks.\n"
   ]
  },
  {
   "cell_type": "code",
   "execution_count": null,
   "id": "46d38d79",
   "metadata": {},
   "outputs": [],
   "source": [
    "# Quick environment check (safe to run)\n",
    "import sys, platform\n",
    "print(\"Python:\", sys.version.split()[0])\n",
    "print(\"Platform:\", platform.platform())\n"
   ]
  },
  {
   "cell_type": "markdown",
   "id": "c728c04b",
   "metadata": {},
   "source": [
    "## Behind the scenes (quick tour)\n",
    "\n",
    "- **Interpreter**: CPython reads your source → compiles to **bytecode (.pyc)** → executes on the Python VM.  \n",
    "- **Modules & packages**: Reusable files/folders you can import.  \n",
    "- **Namespaces**: Where names live; `x = 3` binds name `x` in the current scope.  \n",
    "- **Objects everywhere**: Numbers, strings, functions, even modules are objects.\n"
   ]
  },
  {
   "cell_type": "markdown",
   "id": "d4d07c0e",
   "metadata": {},
   "source": [
    "## Core syntax & types\n",
    "\n",
    "Let’s cover everyday types and operations you’ll use immediately.\n"
   ]
  },
  {
   "cell_type": "code",
   "execution_count": null,
   "id": "0d5af613",
   "metadata": {},
   "outputs": [],
   "source": [
    "# Numbers, strings, booleans\n",
    "a = 10                 # int\n",
    "b = 3.5                # float\n",
    "name = \"Ibrahim\"       # str\n",
    "flag = True            # bool\n",
    "\n",
    "print(a + b)\n",
    "print(f\"Hello, {name}! flag={flag}\")\n",
    "\n",
    "# Lists, tuples, sets, dicts\n",
    "nums = [1, 2, 3]                 # list (mutable)\n",
    "point = (10, 20)                 # tuple (immutable)\n",
    "tags = {\"ai\", \"ml\", \"python\"}    # set (unique, unordered)\n",
    "user = {\"id\": 7, \"name\": \"Ibrahim\"}  # dict (key-value)\n",
    "\n",
    "nums.append(4)\n",
    "user[\"role\"] = \"student\"\n",
    "print(nums, point, sorted(tags), user)\n",
    "\n",
    "# Slicing and comprehension\n",
    "evens = [x for x in range(10) if x % 2 == 0]\n",
    "print(\"evens:\", evens, \"slice evens[1:4] ->\", evens[1:4])\n"
   ]
  },
  {
   "cell_type": "markdown",
   "id": "bcb1c39a",
   "metadata": {},
   "source": [
    "## Control flow & functions (clean patterns)\n"
   ]
  },
  {
   "cell_type": "code",
   "execution_count": null,
   "id": "69dd64e7",
   "metadata": {},
   "outputs": [],
   "source": [
    "def grade(score: float) -> str:\n",
    "    if score >= 90:\n",
    "        return \"A\"\n",
    "    elif score >= 75:\n",
    "        return \"B\"\n",
    "    elif score >= 60:\n",
    "        return \"C\"\n",
    "    return \"D\"\n",
    "\n",
    "def mean(values):\n",
    "    # Defensive: empty input\n",
    "    if not values:\n",
    "        return 0.0\n",
    "    return sum(values) / len(values)\n",
    "\n",
    "scores = [88, 93, 74, 60, 99]\n",
    "print([grade(s) for s in scores])\n",
    "print(\"mean:\", mean(scores))\n"
   ]
  },
  {
   "cell_type": "markdown",
   "id": "8a564097",
   "metadata": {},
   "source": [
    "## Files & errors (tiny real task)\n",
    "\n",
    "Let’s write a small log and read it back. Use `with` to ensure files close properly.\n"
   ]
  },
  {
   "cell_type": "code",
   "execution_count": null,
   "id": "b8861521",
   "metadata": {},
   "outputs": [],
   "source": [
    "from datetime import datetime\n",
    "\n",
    "path = \"day01_log.txt\"\n",
    "with open(path, \"w\", encoding=\"utf-8\") as f:\n",
    "    f.write(f\"[{datetime.now().isoformat(timespec='seconds')}] Hello DSPY!\\n\")\n",
    "\n",
    "with open(path, \"r\", encoding=\"utf-8\") as f:\n",
    "    print(\"File contents:\")\n",
    "    print(f.read())\n"
   ]
  },
  {
   "cell_type": "markdown",
   "id": "c47a75dc",
   "metadata": {},
   "source": [
    "## Idioms you’ll use a lot\n",
    "\n",
    "- Prefer **f-strings** over string concatenation.  \n",
    "- Use **list/dict comprehensions** for clear one‑liners.  \n",
    "- Handle the “no data” case early and return fast.  \n",
    "- Keep functions **small** and **single‑purpose**.\n"
   ]
  },
  {
   "cell_type": "markdown",
   "id": "c6fb0aba",
   "metadata": {},
   "source": [
    "## Debug‑me cell (intentional bug)\n",
    "\n",
    "Fix the bug by following the comment instructions. Don’t scroll past without trying 😉\n"
   ]
  },
  {
   "cell_type": "code",
   "execution_count": null,
   "id": "425b8386",
   "metadata": {},
   "outputs": [],
   "source": [
    "# BUG: The function should return the last name in title case.\n",
    "# Expected: last_name(\"ibrahim kasmi\") -> \"Kasmi\"\n",
    "# Hint: split() the string, take the last part, and use .title()\n",
    "\n",
    "def last_name(full_name: str) -> str:\n",
    "    # TODO: fix this implementation\n",
    "    return full_name  # <- wrong\n",
    "\n",
    "# TESTS (run after you implement)\n",
    "assert last_name(\"ibrahim kasmi\") == \"Kasmi\"\n",
    "assert last_name(\"Ada Lovelace\") == \"Lovelace\"\n",
    "assert last_name(\"grace hopper\") == \"Hopper\"\n",
    "print(\"All tests passed!\")\n"
   ]
  },
  {
   "cell_type": "markdown",
   "id": "5433a44b",
   "metadata": {},
   "source": [
    "## Exercises\n",
    "\n",
    "Time target: ~25–40 minutes. Work in order; each builds on the last.\n",
    "\n",
    "1) Variables: Create `project = \"DSPY\"` and `version = 1`. Print `DSPY v1` using an f‑string.  \n",
    "2) Types: Given `x = \"7\"` and `y = 3`, print the **integer** sum (10) and the **string** repeat (`\"777\"`).  \n",
    "3) Slicing: From `nums = list(range(1, 21))`, print numbers divisible by 3 using slicing or comprehension.  \n",
    "4) Dicts: Build `profile = {\"name\": \"Ibrahim\", \"skills\": [\"python\", \"sql\"]}`; add `\"pandas\"` only if not present.  \n",
    "5) Functions: Write `safe_div(a, b)` that returns 0 when `b == 0`. Add 3 asserts.  \n",
    "6) Sets: From two lists with duplicates, compute unique intersection.  \n",
    "7) Files: Append one line to `day01_log.txt` with a timestamp, then read and print the last line.  \n",
    "8) Errors: Write `as_int(s)` that returns an `int` or `None` if conversion fails.  \n",
    "9) Refactor: Turn this into a function:  \n",
    "   ```python\n",
    "   values = [3, 9, 12, 15, 18]\n",
    "   result = [v for v in values if v % 3 == 0]\n",
    "   print(sum(result)/len(result))\n",
    "   ```\n",
    "10) Stretch: Write `slugify(title)` → lowercase, spaces → `-`, remove punctuation `!?,.` and trim dashes.\n"
   ]
  },
  {
   "cell_type": "markdown",
   "id": "5c70af73",
   "metadata": {},
   "source": [
    "## (Optional) Sample Solutions\n",
    "\n",
    "Try first. Then compare approaches.\n",
    "\n",
    "```python\n",
    "# 1\n",
    "project, version = \"DSPY\", 1\n",
    "print(f\"{project} v{version}\")\n",
    "\n",
    "# 2\n",
    "x, y = \"7\", 3\n",
    "print(int(x) + y)   # 10\n",
    "print(x * y)        # \"777\"\n",
    "\n",
    "# 3\n",
    "nums = list(range(1, 21))\n",
    "print([n for n in nums if n % 3 == 0])\n",
    "\n",
    "# 4\n",
    "profile = {\"name\": \"Ibrahim\", \"skills\": [\"python\", \"sql\"]}\n",
    "if \"pandas\" not in profile[\"skills\"]:\n",
    "    profile[\"skills\"].append(\"pandas\")\n",
    "\n",
    "# 5\n",
    "def safe_div(a, b):\n",
    "    return 0 if b == 0 else a / b\n",
    "assert safe_div(6, 3) == 2\n",
    "assert safe_div(5, 0) == 0\n",
    "assert abs(safe_div(7, 2) - 3.5) < 1e-9\n",
    "\n",
    "# 6\n",
    "a, b = [1,2,2,3,4], [2,2,4,6]\n",
    "print(sorted(set(a) & set(b)))  # [2, 4]\n",
    "\n",
    "# 7\n",
    "from datetime import datetime\n",
    "with open(\"day01_log.txt\", \"a\", encoding=\"utf-8\") as f:\n",
    "    f.write(f\"[{datetime.now().isoformat(timespec='seconds')}] +1 line\\n\")\n",
    "with open(\"day01_log.txt\", \"r\", encoding=\"utf-8\") as f:\n",
    "    print(f.readlines()[-1].strip())\n",
    "\n",
    "# 8\n",
    "def as_int(s):\n",
    "    try:\n",
    "        return int(s)\n",
    "    except (TypeError, ValueError):\n",
    "        return None\n",
    "\n",
    "# 9\n",
    "def mean_divisible_by_3(values):\n",
    "    xs = [v for v in values if v % 3 == 0]\n",
    "    return sum(xs) / len(xs) if xs else 0\n",
    "print(mean_divisible_by_3([3, 9, 12, 15, 18]))\n",
    "\n",
    "# 10\n",
    "import string\n",
    "def slugify(title: str) -> str:\n",
    "    t = title.lower().strip()\n",
    "    for ch in \"!?.,\":\n",
    "        t = t.replace(ch, \"\")\n",
    "    t = \"-\".join(t.split())\n",
    "    return t.strip(\"-\")\n",
    "print(slugify(\"Hello, DSPY! Intro Day 01\"))\n",
    "```\n"
   ]
  },
  {
   "cell_type": "markdown",
   "id": "5ad5c957",
   "metadata": {},
   "source": [
    "## Next steps\n",
    "\n",
    "- Day 02: Data types in depth (mutability, copying, identity vs equality)  \n",
    "- Day 03: Control flow patterns & comprehensions masterclass  \n",
    "- Day 04: Functions with type hints, docstrings, and testing\n"
   ]
  }
 ],
 "metadata": {},
 "nbformat": 4,
 "nbformat_minor": 5
}
