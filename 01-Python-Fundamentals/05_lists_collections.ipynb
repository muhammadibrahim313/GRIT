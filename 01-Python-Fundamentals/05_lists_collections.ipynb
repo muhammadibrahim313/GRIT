{
 "cells": [
  {
   "cell_type": "markdown",
   "metadata": {},
   "source": [
    "# 📋 Day 5: Lists - Working with Collections\n",
    "\n",
    "**Learning Objectives:**\n",
    "- Understand what lists are and how to create them\n",
    "- Learn to access, add, and remove list items\n",
    "- Master list methods and operations\n",
    "- Practice organizing data with lists\n",
    "\n",
    "**Why this matters:** Lists are like shopping lists or todo lists for your computer! They help you store and organize multiple items together.\n",
    "\n",
    "---"
   ]
  },
  {
   "cell_type": "markdown",
   "metadata": {},
   "source": [
    "## 🛒 What are Lists?\n",
    "\n",
    "Lists are containers that can hold multiple items. Think of them as:\n",
    "- Shopping lists\n",
    "- Todo lists  \n",
    "- Collections of related items\n",
    "\n",
    "Lists can contain any type of data: numbers, text, even other lists!"
   ]
  },
  {
   "cell_type": "code",
   "execution_count": 1,
   "metadata": {},
   "outputs": [
    {
     "name": "stdout",
     "output_type": "stream",
     "text": [
      "Empty list: []\n",
      "Fruits: ['apple', 'banana', 'orange', 'grape']\n",
      "Numbers: [1, 2, 3, 4, 5]\n",
      "Mixed: ['hello', 42, True, 3.14]\n"
     ]
    }
   ],
   "source": [
    "# Creating lists\n",
    "\n",
    "# Empty list\n",
    "empty_list = []\n",
    "print(\"Empty list:\", empty_list)\n",
    "\n",
    "# List of strings\n",
    "fruits = [\"apple\", \"banana\", \"orange\", \"grape\"]\n",
    "print(\"Fruits:\", fruits)\n",
    "\n",
    "# List of numbers\n",
    "numbers = [1, 2, 3, 4, 5]\n",
    "print(\"Numbers:\", numbers)\n",
    "\n",
    "# Mixed data types\n",
    "mixed = [\"hello\", 42, True, 3.14]\n",
    "print(\"Mixed:\", mixed)"
   ]
  },
  {
   "cell_type": "markdown",
   "metadata": {},
   "source": [
    "**List Rules:**\n",
    "- Created with square brackets `[]`\n",
    "- Items separated by commas\n",
    "- Can contain any data type\n",
    "- Items stay in order (ordered)"
   ]
  },
  {
   "cell_type": "markdown",
   "metadata": {},
   "source": [
    "## 📍 Accessing List Items\n",
    "\n",
    "Lists are numbered starting from 0. Use square brackets to access items!"
   ]
  },
  {
   "cell_type": "code",
   "execution_count": 2,
   "metadata": {},
   "outputs": [
    {
     "name": "stdout",
     "output_type": "stream",
     "text": [
      "Full list: ['red', 'blue', 'green', 'yellow', 'purple']\n",
      "First color: red\n",
      "Second color: blue\n",
      "Last color: purple\n",
      "Second to last: yellow\n",
      "Number of colors: 5\n"
     ]
    }
   ],
   "source": [
    "# Accessing list items\n",
    "\n",
    "colors = [\"red\", \"blue\", \"green\", \"yellow\", \"purple\"]\n",
    "print(\"Full list:\", colors)\n",
    "\n",
    "# Access by index (position)\n",
    "print(\"First color:\", colors[0])    # red\n",
    "print(\"Second color:\", colors[1])   # blue\n",
    "print(\"Last color:\", colors[-1])    # purple\n",
    "print(\"Second to last:\", colors[-2]) # yellow\n",
    "\n",
    "# Get list length\n",
    "print(\"Number of colors:\", len(colors))"
   ]
  },
  {
   "cell_type": "code",
   "execution_count": 3,
   "metadata": {},
   "outputs": [
    {
     "name": "stdout",
     "output_type": "stream",
     "text": [
      "First 3: [10, 20, 30]\n",
      "Items 2-5: [30, 40, 50, 60]\n",
      "Last 3: [50, 60, 70]\n",
      "Every other: [10, 30, 50, 70]\n"
     ]
    }
   ],
   "source": [
    "# List slicing (getting parts of lists)\n",
    "\n",
    "numbers = [10, 20, 30, 40, 50, 60, 70]\n",
    "\n",
    "# Get first 3 items\n",
    "print(\"First 3:\", numbers[0:3])    # [10, 20, 30]\n",
    "\n",
    "# Get items 2-5\n",
    "print(\"Items 2-5:\", numbers[2:6])  # [30, 40, 50, 60]\n",
    "\n",
    "# Get last 3 items\n",
    "print(\"Last 3:\", numbers[-3:])     # [50, 60, 70]\n",
    "\n",
    "# Every other item\n",
    "print(\"Every other:\", numbers[::2]) # [10, 30, 50, 70]"
   ]
  },
  {
   "cell_type": "markdown",
   "metadata": {},
   "source": [
    "## ➕ Adding Items to Lists\n",
    "\n",
    "Lists can grow and shrink as needed!"
   ]
  },
  {
   "cell_type": "code",
   "execution_count": 4,
   "metadata": {},
   "outputs": [
    {
     "name": "stdout",
     "output_type": "stream",
     "text": [
      "Original list: ['milk', 'bread', 'eggs']\n",
      "After append: ['milk', 'bread', 'eggs', 'cheese']\n",
      "After extend: ['milk', 'bread', 'eggs', 'cheese', 'butter', 'jam']\n",
      "After insert: ['milk', 'apples', 'bread', 'eggs', 'cheese', 'butter', 'jam']\n"
     ]
    }
   ],
   "source": [
    "# Adding items to lists\n",
    "\n",
    "shopping_list = [\"milk\", \"bread\", \"eggs\"]\n",
    "print(\"Original list:\", shopping_list)\n",
    "\n",
    "# Add one item to the end\n",
    "shopping_list.append(\"cheese\")\n",
    "print(\"After append:\", shopping_list)\n",
    "\n",
    "# Add multiple items\n",
    "shopping_list.extend([\"butter\", \"jam\"])\n",
    "print(\"After extend:\", shopping_list)\n",
    "\n",
    "# Insert at specific position\n",
    "shopping_list.insert(1, \"apples\")\n",
    "print(\"After insert:\", shopping_list)"
   ]
  },
  {
   "cell_type": "markdown",
   "metadata": {},
   "source": [
    "## ➖ Removing Items from Lists"
   ]
  },
  {
   "cell_type": "code",
   "execution_count": 5,
   "metadata": {},
   "outputs": [
    {
     "name": "stdout",
     "output_type": "stream",
     "text": [
      "Original tasks: ['wake up', 'brush teeth', 'eat breakfast', 'go to work', 'sleep']\n",
      "After remove: ['wake up', 'eat breakfast', 'go to work', 'sleep']\n",
      "Completed: wake up\n",
      "Remaining tasks: ['eat breakfast', 'go to work', 'sleep']\n",
      "After clear: []\n"
     ]
    }
   ],
   "source": [
    "# Removing items from lists\n",
    "\n",
    "tasks = [\"wake up\", \"brush teeth\", \"eat breakfast\", \"go to work\", \"sleep\"]\n",
    "print(\"Original tasks:\", tasks)\n",
    "\n",
    "# Remove specific item\n",
    "tasks.remove(\"brush teeth\")\n",
    "print(\"After remove:\", tasks)\n",
    "\n",
    "# Remove by position\n",
    "completed_task = tasks.pop(0)  # Remove first item\n",
    "print(f\"Completed: {completed_task}\")\n",
    "print(\"Remaining tasks:\", tasks)\n",
    "\n",
    "# Clear entire list\n",
    "tasks.clear()\n",
    "print(\"After clear:\", tasks)"
   ]
  },
  {
   "cell_type": "markdown",
   "metadata": {},
   "source": [
    "## 🔧 Useful List Methods\n",
    "\n",
    "Lists have many helpful built-in methods!"
   ]
  },
  {
   "cell_type": "code",
   "execution_count": 6,
   "metadata": {},
   "outputs": [
    {
     "name": "stdout",
     "output_type": "stream",
     "text": [
      "Original: [3, 1, 4, 1, 5, 9, 2, 6]\n",
      "Sorted: [1, 1, 2, 3, 4, 5, 6, 9]\n",
      "Reversed: [9, 6, 5, 4, 3, 2, 1, 1]\n",
      "Number of 1's: 2\n",
      "Index of 5: 2\n"
     ]
    }
   ],
   "source": [
    "# List methods\n",
    "\n",
    "numbers = [3, 1, 4, 1, 5, 9, 2, 6]\n",
    "print(\"Original:\", numbers)\n",
    "\n",
    "# Sort the list\n",
    "numbers.sort()\n",
    "print(\"Sorted:\", numbers)\n",
    "\n",
    "# Reverse the list\n",
    "numbers.reverse()\n",
    "print(\"Reversed:\", numbers)\n",
    "\n",
    "# Count occurrences\n",
    "print(\"Number of 1's:\", numbers.count(1))\n",
    "\n",
    "# Find index of item\n",
    "print(\"Index of 5:\", numbers.index(5))"
   ]
  },
  {
   "cell_type": "code",
   "execution_count": 7,
   "metadata": {},
   "outputs": [
    {
     "name": "stdout",
     "output_type": "stream",
     "text": [
      "Original fruits: ['apple', 'banana', 'cherry']\n",
      "Has banana: True\n",
      "Has grape: False\n",
      "Copied list: ['apple', 'banana', 'cherry']\n",
      "As string: apple, banana, cherry\n"
     ]
    }
   ],
   "source": [
    "# More list operations\n",
    "\n",
    "fruits = [\"apple\", \"banana\", \"cherry\"]\n",
    "print(\"Original fruits:\", fruits)\n",
    "\n",
    "# Check if item exists\n",
    "print(\"Has banana:\", \"banana\" in fruits)\n",
    "print(\"Has grape:\", \"grape\" in fruits)\n",
    "\n",
    "# Copy a list\n",
    "fruits_copy = fruits.copy()\n",
    "print(\"Copied list:\", fruits_copy)\n",
    "\n",
    "# Join list into string\n",
    "fruit_string = \", \".join(fruits)\n",
    "print(\"As string:\", fruit_string)"
   ]
  },
  {
   "cell_type": "markdown",
   "metadata": {},
   "source": [
    "## 🔄 List Modification\n",
    "\n",
    "You can change list items just like changing variables!"
   ]
  },
  {
   "cell_type": "code",
   "execution_count": 8,
   "metadata": {},
   "outputs": [
    {
     "name": "stdout",
     "output_type": "stream",
     "text": [
      "Original grades: [85, 92, 78, 95, 88]\n",
      "After changing grade 3: [85, 92, 82, 95, 88]\n",
      "After changing grades 2-4: [85, 90, 85, 93, 88]\n",
      "Updated info: ['John', 26, 'student']\n"
     ]
    }
   ],
   "source": [
    "# Modifying list items\n",
    "\n",
    "grades = [85, 92, 78, 95, 88]\n",
    "print(\"Original grades:\", grades)\n",
    "\n",
    "# Change one grade\n",
    "grades[2] = 82  # Change third grade\n",
    "print(\"After changing grade 3:\", grades)\n",
    "\n",
    "# Change multiple items with slice\n",
    "grades[1:4] = [90, 85, 93]\n",
    "print(\"After changing grades 2-4:\", grades)\n",
    "\n",
    "# Replace with different data types\n",
    "info = [\"John\", 25, \"student\"]\n",
    "info[1] = 26  # Age changes\n",
    "print(\"Updated info:\", info)"
   ]
  },
  {
   "cell_type": "markdown",
   "metadata": {},
   "source": [
    "## 🏆 Practice Time!\n",
    "\n",
    "**Exercise 1:** Grocery shopping list"
   ]
  },
  {
   "cell_type": "code",
   "execution_count": 9,
   "metadata": {},
   "outputs": [],
   "source": [
    "# Create empty shopping list\n",
    "# Add 5 items using append()\n",
    "# Print the first and last items\n",
    "# Remove one item you don't need\n",
    "# Print final list\n",
    "\n",
    "# Write your code here\n",
    "\n"
   ]
  },
  {
   "cell_type": "markdown",
   "metadata": {},
   "source": [
    "**Exercise 2:** Student grades"
   ]
  },
  {
   "cell_type": "code",
   "execution_count": 10,
   "metadata": {},
   "outputs": [],
   "source": [
    "# grades = [78, 85, 92, 88, 76]\n",
    "# Sort the grades\n",
    "# Print highest and lowest grades\n",
    "# Calculate average grade\n",
    "# Check if any grade is above 90\n",
    "\n",
    "# Write your code here\n",
    "\n"
   ]
  },
  {
   "cell_type": "markdown",
   "metadata": {},
   "source": [
    "**Exercise 3:** Todo list manager"
   ]
  },
  {
   "cell_type": "code",
   "execution_count": 11,
   "metadata": {},
   "outputs": [],
   "source": [
    "# Start with: [\"wake up\", \"eat breakfast\", \"go to work\"]\n",
    "# Add 2 more tasks\n",
    "# Mark first task as complete (remove it)\n",
    "# Insert urgent task at position 1\n",
    "# Print remaining tasks\n",
    "\n",
    "# Write your code here\n",
    "\n"
   ]
  },
  {
   "cell_type": "markdown",
   "metadata": {},
   "source": [
    "**Exercise 4:** List slicing practice"
   ]
  },
  {
   "cell_type": "code",
   "execution_count": 12,
   "metadata": {},
   "outputs": [],
   "source": [
    "# numbers = [1, 2, 3, 4, 5, 6, 7, 8, 9, 10]\n",
    "# Get first 5 numbers\n",
    "# Get last 3 numbers\n",
    "# Get every other number (1, 3, 5, 7, 9)\n",
    "# Get middle numbers (4, 5, 6, 7)\n",
    "\n",
    "# Write your code here\n",
    "\n"
   ]
  },
  {
   "cell_type": "markdown",
   "metadata": {},
   "source": [
    "## 🎯 What You Learned Today\n",
    "\n",
    "✅ **Lists:** Ordered collections of items\n",
    "✅ **Indexing:** Accessing items by position [0], [-1]\n",
    "✅ **Slicing:** Getting parts of lists [start:end]\n",
    "✅ **Adding Items:** append(), extend(), insert()\n",
    "✅ **Removing Items:** remove(), pop(), clear()\n",
    "✅ **List Methods:** sort(), reverse(), count(), index()\n",
    "✅ **Modification:** Changing items in lists\n",
    "\n",
    "## 🚀 What's Next?\n",
    "\n",
    "Tomorrow we'll learn about **tuples and dictionaries** - two more ways to organize and store data in Python!\n",
    "\n",
    "**Lists are incredibly useful for organizing data!** Keep practicing with collections. 💪\n",
    "\n",
    "---\n",
    "*Created with ❤️ for GRIT learners*"
   ]
  }
 ],
 "metadata": {
  "kernelspec": {
   "display_name": "ML_Python",
   "language": "python",
   "name": "python3"
  },
  "language_info": {
   "codemirror_mode": {
    "name": "ipython",
    "version": 3
   },
   "file_extension": ".py",
   "mimetype": "text/x-python",
   "name": "python",
   "nbconvert_exporter": "python",
   "pygments_lexer": "ipython3",
   "version": "3.11.7"
  }
 },
 "nbformat": 4,
 "nbformat_minor": 4
}
