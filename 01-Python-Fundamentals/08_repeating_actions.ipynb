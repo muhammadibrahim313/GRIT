{
 "cells": [
  {
   "cell_type": "markdown",
   "metadata": {},
   "source": [
    "# 🔄 Day 8: Repeating Actions - Loops\n",
    "\n",
    "**Learning Objectives:**\n",
    "- Master for loops for definite iteration\n",
    "- Learn while loops for conditional repetition\n",
    "- Understand loop control with break and continue\n",
    "- Practice nested loops and loop patterns\n",
    "\n",
    "**Why this matters:** Loops automate repetitive tasks! Instead of writing the same code 100 times, you write it once and loop it. This is what makes computers powerful!\n",
    "\n",
    "---"
   ]
  },
  {
   "cell_type": "markdown",
   "metadata": {},
   "source": [
    "## 🔢 For Loops - Definite Iteration\n",
    "\n",
    "For loops repeat a specific number of times or through a collection:\n",
    "\n",
    "**Use for loops when you know exactly how many times to repeat!**"
   ]
  },
  {
   "cell_type": "code",
   "execution_count": null,
   "metadata": {},
   "outputs": [],
   "source": [
    "# Basic for loop with range()\n",
    "\n",
    "print(\"Counting to 5:\")\n",
    "for i in range(5):  # 0, 1, 2, 3, 4\n",
    "    print(f\"Count: {i}\")\n",
    "\n",
    "print(\"\\nCounting from 1 to 5:\")\n",
    "for num in range(1, 6):  # 1, 2, 3, 4, 5\n",
    "    print(f\"Number: {num}\")\n",
    "\n",
    "print(\"\\nCounting by 2s:\")\n",
    "for even in range(0, 10, 2):  # 0, 2, 4, 6, 8\n",
    "    print(f\"Even: {even}\")"
   ]
  },
  {
   "cell_type": "code",
   "execution_count": null,
   "metadata": {},
   "outputs": [],
   "source": [
    "# Looping through collections\n",
    "\n",
    "fruits = [\"apple\", \"banana\", \"orange\", \"grape\"]\n",
    "\n",
    "print(\"My favorite fruits:\")\n",
    "for fruit in fruits:\n",
    "    print(f\"I love {fruit}s!\")\n",
    "\n",
    "# Looping through strings\n",
    "word = \"Python\"\n",
    "print(f\"\\nLetters in '{word}':\")\n",
    "for letter in word:\n",
    "    print(letter)\n",
    "\n",
    "# Looping through dictionary\n",
    "student = {\"name\": \"Alice\", \"age\": 16, \"grade\": \"A\"}\n",
    "print(\"\\nStudent information:\")\n",
    "for key, value in student.items():\n",
    "    print(f\"{key}: {value}\")"
   ]
  },
  {
   "cell_type": "markdown",
   "metadata": {},
   "source": [
    "## 🎯 While Loops - Conditional Repetition\n",
    "\n",
    "While loops repeat as long as a condition is true:\n",
    "\n",
    "**Use while loops when you don't know how many times you'll need to repeat!**"
   ]
  },
  {
   "cell_type": "code",
   "execution_count": null,
   "metadata": {},
   "outputs": [],
   "source": [
    "# Basic while loop\n",
    "\n",
    "count = 1\n",
    "print(\"Counting with while loop:\")\n",
    "while count <= 5:\n",
    "    print(f\"Count: {count}\")\n",
    "    count = count + 1  # Don't forget to update the condition!\n",
    "\n",
    "print(\"Loop finished!\")"
   ]
  },
  {
   "cell_type": "code",
   "execution_count": null,
   "metadata": {},
   "outputs": [],
   "source": [
    "# While loop with user input\n",
    "\n",
    "secret_number = 7\n",
    "guess = 0\n",
    "attempts = 0\n",
    "\n",
    "print(\"Guess the secret number (1-10)! Type 0 to quit.\")\n",
    "\n",
    "while guess != secret_number and guess != 0:\n",
    "    guess = int(input(\"Your guess: \"))\n",
    "    attempts = attempts + 1\n",
    "    \n",
    "    if guess == secret_number:\n",
    "        print(f\"🎉 Correct! You found it in {attempts} attempts!\")\n",
    "    elif guess == 0:\n",
    "        print(\"Thanks for playing!\")\n",
    "    elif guess < secret_number:\n",
    "        print(\"Too low! Try higher.\")\n",
    "    else:\n",
    "        print(\"Too high! Try lower.\")\n",
    "\n",
    "print(\"Game over!\")"
   ]
  },
  {
   "cell_type": "markdown",
   "metadata": {},
   "source": [
    "**Warning:** While loops can run forever if the condition never becomes false! Always make sure your condition will eventually be false."
   ]
  },
  {
   "cell_type": "markdown",
   "metadata": {},
   "source": [
    "## 🛑 Loop Control: Break and Continue\n",
    "\n",
    "Control your loops with special keywords!"
   ]
  },
  {
   "cell_type": "code",
   "execution_count": null,
   "metadata": {},
   "outputs": [],
   "source": [
    "# Break - stop the loop immediately\n",
    "\n",
    "print(\"Looking for the number 7:\")\n",
    "for num in range(1, 15):\n",
    "    print(f\"Checking: {num}\")\n",
    "    if num == 7:\n",
    "        print(\"Found it! Stopping the search.\")\n",
    "        break  # Exit the loop\n",
    "\n",
    "print(\"Search complete.\")"
   ]
  },
  {
   "cell_type": "code",
   "execution_count": null,
   "metadata": {},
   "outputs": [],
   "source": [
    "# Continue - skip to next iteration\n",
    "\n",
    "print(\"\\nSkipping even numbers:\")\n",
    "for num in range(1, 10):\n",
    "    if num % 2 == 0:  # If even\n",
    "        continue  # Skip to next number\n",
    "    print(f\"Odd number: {num}\")\n",
    "\n",
    "print(\"Done with odd numbers!\")"
   ]
  },
  {
   "cell_type": "markdown",
   "metadata": {},
   "source": [
    "## 📦 Nested Loops\n",
    "\n",
    "Loops inside loops - perfect for working with grids, tables, and multi-dimensional data!"
   ]
  },
  {
   "cell_type": "code",
   "execution_count": null,
   "metadata": {},
   "outputs": [],
   "source": [
    "# Nested loops - multiplication table\n",
    "\n",
    "print(\"Multiplication Table (1-5):\")\n",
    "print(\"   \", end=\"\")  # Header spacing\n",
    "for i in range(1, 6):\n",
    "    print(f\"{i:2}\", end=\" \")\n",
    "print()  # New line\n",
    "\n",
    "for i in range(1, 6):\n",
    "    print(f\"{i}: \", end=\"\")\n",
    "    for j in range(1, 6):\n",
    "        print(f\"{i*j:2}\", end=\" \")\n",
    "    print()  # New line after each row"
   ]
  },
  {
   "cell_type": "code",
   "execution_count": null,
   "metadata": {},
   "outputs": [],
   "source": [
    "# Nested loops with lists\n",
    "\n",
    "class_grades = [\n",
    "    [85, 92, 78],  # Student 1\n",
    "    [95, 87, 91],  # Student 2\n",
    "    [76, 83, 89]   # Student 3\n",
    "]\n",
    "\n",
    "print(\"Student Grades:\")\n",
    "for student_num, grades in enumerate(class_grades, 1):\n",
    "    print(f\"Student {student_num}: \", end=\"\")\n",
    "    for grade in grades:\n",
    "        print(f\"{grade}\", end=\" \")\n",
    "    average = sum(grades) / len(grades)\n",
    "    print(f\"| Average: {average:.1f}\")"
   ]
  },
  {
   "cell_type": "markdown",
   "metadata": {},
   "source": [
    "## 🎯 Common Loop Patterns\n",
    "\n",
    "Useful patterns you'll use over and over!"
   ]
  },
  {
   "cell_type": "code",
   "execution_count": null,
   "metadata": {},
   "outputs": [],
   "source": [
    "# Pattern 1: Accumulator (summing values)\n",
    "\n",
    "numbers = [1, 2, 3, 4, 5]\n",
    "total = 0\n",
    "\n",
    "for num in numbers:\n",
    "    total = total + num\n",
    "    print(f\"Adding {num}, total now: {total}\")\n",
    "\n",
    "print(f\"\\nFinal sum: {total}\")"
   ]
  },
  {
   "cell_type": "code",
   "execution_count": null,
   "metadata": {},
   "outputs": [],
   "source": [
    "# Pattern 2: Counter (counting occurrences)\n",
    "\n",
    "text = \"Python programming is fun and Python is powerful\"\n",
    "word_count = 0\n",
    "\n",
    "for word in text.split():\n",
    "    if word == \"Python\":\n",
    "        word_count += 1  # Same as word_count = word_count + 1\n",
    "        print(f\"Found 'Python' (count: {word_count})\")\n",
    "\n",
    "print(f\"\\nTotal 'Python' occurrences: {word_count}\")"
   ]
  },
  {
   "cell_type": "code",
   "execution_count": null,
   "metadata": {},
   "outputs": [],
   "source": [
    "# Pattern 3: Finding maximum/minimum\n",
    "\n",
    "scores = [78, 92, 85, 67, 94, 81]\n",
    "highest = scores[0]  # Start with first score\n",
    "lowest = scores[0]\n",
    "\n",
    "for score in scores[1:]:  # Skip first since we already have it\n",
    "    if score > highest:\n",
    "        highest = score\n",
    "    if score < lowest:\n",
    "        lowest = score\n",
    "\n",
    "print(f\"Scores: {scores}\")\n",
    "print(f\"Highest: {highest}, Lowest: {lowest}\")"
   ]
  },
  {
   "cell_type": "markdown",
   "metadata": {},
   "source": [
    "## 🏆 Practice Time!\n",
    "\n",
    "**Exercise 1:** Number sequence"
   ]
  },
  {
   "cell_type": "code",
   "execution_count": null,
   "metadata": {},
   "outputs": [],
   "source": [
    "# Print numbers 1-10 using a for loop\n",
    "# Then print even numbers from 1-20 using a while loop\n",
    "# Finally, print \"Done!\" when complete\n",
    "\n",
    "# Write your code here\n",
    "\n"
   ]
  },
  {
   "cell_type": "markdown",
   "metadata": {},
   "source": [
    "**Exercise 2:** List processor"
   ]
  },
  {
   "cell_type": "code",
   "execution_count": null,
   "metadata": {},
   "outputs": [],
   "source": [
    "# numbers = [12, 7, 9, 15, 3, 8, 22, 5]\n",
    "# Find and print:\n",
    "# - Sum of all numbers\n",
    "# - Count of numbers greater than 10\n",
    "# - The largest number\n",
    "# - Stop when you find the first number divisible by 5\n",
    "\n",
    "# Write your code here\n",
    "\n"
   ]
  },
  {
   "cell_type": "markdown",
   "metadata": {},
   "source": [
    "**Exercise 3:** Password validator"
   ]
  },
  {
   "cell_type": "code",
   "execution_count": null,
   "metadata": {},
   "outputs": [],
   "source": [
    "# Keep asking for password until user enters \"quit\"\n",
    "# Check if password is at least 8 characters\n",
    "# If valid, print \"Password accepted!\"\n",
    "# If invalid, print \"Password too short\" and ask again\n",
    "# Count how many attempts were made\n",
    "\n",
    "# Write your code here\n",
    "\n"
   ]
  },
  {
   "cell_type": "markdown",
   "metadata": {},
   "source": [
    "**Exercise 4:** Shopping cart total"
   ]
  },
  {
   "cell_type": "code",
   "execution_count": null,
   "metadata": {},
   "outputs": [],
   "source": [
    "# prices = [12.99, 8.50, 15.75, 6.25, 9.99]\n",
    "# Use a loop to:\n",
    "# - Print each price with item number\n",
    "# - Calculate running total\n",
    "# - Apply 10% discount if total > $40\n",
    "# - Print final total\n",
    "\n",
    "# Write your code here\n",
    "\n"
   ]
  },
  {
   "cell_type": "markdown",
   "metadata": {},
   "source": [
    "## 🎯 What You Learned Today\n",
    "\n",
    "✅ **For Loops:** Definite iteration through collections and ranges\n",
    "✅ **While Loops:** Conditional repetition with unknown iterations\n",
    "✅ **Break/Continue:** Loop control for early exit and skipping\n",
    "✅ **Nested Loops:** Loops within loops for complex patterns\n",
    "✅ **Loop Patterns:** Accumulator, counter, min/max finder patterns\n",
    "✅ **Range Function:** Generating number sequences\n",
    "✅ **Loop Best Practices:** Avoiding infinite loops, proper indentation\n",
    "\n",
    "## 🚀 What's Next?\n",
    "\n",
    "Tomorrow we'll learn about **functions** - how to create reusable blocks of code that you can call whenever you need them!\n",
    "\n",
    "**Loops make computers powerful by automating repetition!** Keep practicing iteration patterns. 💪\n",
    "\n",
    "---\n",
    "*Created with ❤️ for GRIT learners*"
   ]
  }
 ],
 "metadata": {
  "kernelspec": {
   "display_name": "Python 3",
   "language": "python",
   "name": "python3"
  },
  "language_info": {
   "codemirror_mode": {
    "name": "ipython",
    "version": 3
   },
   "file_extension": ".py",
   "mimetype": "text/x-python",
   "name": "python",
   "nbconvert_exporter": "python",
   "pygments_lexer": "ipython3",
   "version": "3.8.5"
  }
 },
 "nbformat": 4,
 "nbformat_minor": 4
}
