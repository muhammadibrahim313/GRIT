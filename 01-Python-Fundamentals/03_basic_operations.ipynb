{
 "cells": [
  {
   "cell_type": "markdown",
   "metadata": {},
   "source": [
    "# 🔢 Day 3: Basic Operations and Math\n",
    "\n",
    "**Learning Objectives:**\n",
    "- Master basic math operations in Python\n",
    "- Learn comparison operators\n",
    "- Understand logical operations\n",
    "- Practice combining operations\n",
    "\n",
    "**Why this matters:** Operations are how you tell Python to calculate, compare, and make decisions. Just like a calculator, but much more powerful!\n",
    "\n",
    "---"
   ]
  },
  {
   "cell_type": "markdown",
   "metadata": {},
   "source": [
    "## ➕ Basic Math Operations\n",
    "\n",
    "Python can do all the math you learned in school, and more! Let's start with the basics:\n",
    "\n",
    "- `+` Addition\n",
    "- `-` Subtraction\n",
    "- `*` Multiplication\n",
    "- `/` Division\n",
    "- `**` Power/Exponent\n",
    "- `%` Modulo (remainder)\n",
    "- `//` Floor Division (whole number division)"
   ]
  },
  {
   "cell_type": "code",
   "execution_count": null,
   "metadata": {},
   "outputs": [],
   "source": [
    "# Basic math operations\n",
    "\n",
    "# Addition\n",
    "apples = 5 + 3\n",
    "print(\"5 + 3 =\", apples)\n",
    "\n",
    "# Subtraction\n",
    "remaining = 10 - 4\n",
    "print(\"10 - 4 =\", remaining)\n",
    "\n",
    "# Multiplication\n",
    "cookies = 6 * 7\n",
    "print(\"6 × 7 =\", cookies)\n",
    "\n",
    "# Division\n",
    "pieces = 12 / 3\n",
    "print(\"12 ÷ 3 =\", pieces)"
   ]
  },
  {
   "cell_type": "code",
   "execution_count": null,
   "metadata": {},
   "outputs": [],
   "source": [
    "# Advanced operations\n",
    "\n",
    "# Power/Exponent (raising to a power)\n",
    "squared = 5 ** 2\n",
    "print(\"5² =\", squared)\n",
    "\n",
    "cubed = 3 ** 3\n",
    "print(\"3³ =\", cubed)\n",
    "\n",
    "# Modulo (remainder after division)\n",
    "remainder = 17 % 5\n",
    "print(\"17 ÷ 5 remainder =\", remainder)\n",
    "\n",
    "# Floor Division (whole number division)\n",
    "whole_result = 17 // 5\n",
    "print(\"17 ÷ 5 (whole number) =\", whole_result)"
   ]
  },
  {
   "cell_type": "markdown",
   "metadata": {},
   "source": [
    "**Try it yourself!** What would `2 ** 10` give you? What about `25 % 4`?"
   ]
  },
  {
   "cell_type": "markdown",
   "metadata": {},
   "source": [
    "## ⚖️ Comparison Operators\n",
    "\n",
    "Sometimes you need to compare values. Python has special symbols for this:\n",
    "\n",
    "- `==` Equal to\n",
    "- `!=` Not equal to\n",
    "- `>` Greater than\n",
    "- `<` Less than\n",
    "- `>=` Greater than or equal to\n",
    "- `<=` Less than or equal to\n",
    "\n",
    "**These always return True or False!**"
   ]
  },
  {
   "cell_type": "code",
   "execution_count": null,
   "metadata": {},
   "outputs": [],
   "source": [
    "# Comparison examples\n",
    "\n",
    "# Equal to\n",
    "print(\"5 == 5:\", 5 == 5)\n",
    "print(\"5 == 3:\", 5 == 3)\n",
    "\n",
    "# Not equal to\n",
    "print(\"5 != 3:\", 5 != 3)\n",
    "print(\"5 != 5:\", 5 != 5)\n",
    "\n",
    "# Greater than / Less than\n",
    "print(\"10 > 5:\", 10 > 5)\n",
    "print(\"3 < 8:\", 3 < 8)\n",
    "print(\"5 > 10:\", 5 > 10)"
   ]
  },
  {
   "cell_type": "code",
   "execution_count": null,
   "metadata": {},
   "outputs": [],
   "source": [
    "# Real-world comparisons\n",
    "\n",
    "my_age = 25\n",
    "friend_age = 30\n",
    "\n",
    "print(\"Am I older than my friend?\", my_age > friend_age)\n",
    "print(\"Are we the same age?\", my_age == friend_age)\n",
    "print(\"Am I 25 or older?\", my_age >= 25)\n",
    "\n",
    "score = 85\n",
    "passing_grade = 70\n",
    "print(\"Did I pass?\", score >= passing_grade)"
   ]
  },
  {
   "cell_type": "markdown",
   "metadata": {},
   "source": [
    "## 🔗 Logical Operators\n",
    "\n",
    "Logical operators help you combine conditions:\n",
    "\n",
    "- `and` - Both conditions must be True\n",
    "- `or` - At least one condition must be True\n",
    "- `not` - Reverses True/False"
   ]
  },
  {
   "cell_type": "code",
   "execution_count": null,
   "metadata": {},
   "outputs": [],
   "source": [
    "# Logical operators\n",
    "\n",
    "# AND - both must be True\n",
    "print(\"True AND True:\", True and True)\n",
    "print(\"True AND False:\", True and False)\n",
    "print(\"False AND False:\", False and False)\n",
    "\n",
    "# OR - at least one must be True\n",
    "print(\"True OR True:\", True or True)\n",
    "print(\"True OR False:\", True or False)\n",
    "print(\"False OR False:\", False or False)\n",
    "\n",
    "# NOT - reverses True/False\n",
    "print(\"NOT True:\", not True)\n",
    "print(\"NOT False:\", not False)"
   ]
  },
  {
   "cell_type": "code",
   "execution_count": null,
   "metadata": {},
   "outputs": [],
   "source": [
    "# Real-world logical operations\n",
    "\n",
    "age = 25\n",
    "has_license = True\n",
    "\n",
    "# Can drive in most places (age >= 16 AND has license)\n",
    "can_drive = age >= 16 and has_license\n",
    "print(\"Can drive:\", can_drive)\n",
    "\n",
    "# Can get student discount (age <= 25 OR is_student)\n",
    "is_student = False\n",
    "student_discount = age <= 25 or is_student\n",
    "print(\"Student discount:\", student_discount)\n",
    "\n",
    "# Is NOT a teenager\n",
    "is_teenager = age >= 13 and age <= 19\n",
    "not_teenager = not is_teenager\n",
    "print(\"Is not a teenager:\", not_teenager)"
   ]
  },
  {
   "cell_type": "markdown",
   "metadata": {},
   "source": [
    "## 🎯 Combining Operations\n",
    "\n",
    "You can combine math, comparisons, and logic all together!"
   ]
  },
  {
   "cell_type": "code",
   "execution_count": null,
   "metadata": {},
   "outputs": [],
   "source": [
    "# Combining operations\n",
    "\n",
    "score1 = 85\n",
    "score2 = 92\n",
    "score3 = 78\n",
    "\n",
    "# Calculate average\n",
    "average = (score1 + score2 + score3) / 3\n",
    "print(\"Average score:\", average)\n",
    "\n",
    "# Check if average is good (80 or above)\n",
    "good_average = average >= 80\n",
    "print(\"Good average:\", good_average)\n",
    "\n",
    "# Complex condition: average >= 80 AND all scores >= 70\n",
    "all_passed = score1 >= 70 and score2 >= 70 and score3 >= 70\n",
    "excellent = average >= 80 and all_passed\n",
    "print(\"Excellent performance:\", excellent)"
   ]
  },
  {
   "cell_type": "markdown",
   "metadata": {},
   "source": [
    "## 🏆 Practice Time!\n",
    "\n",
    "**Exercise 1:** Calculate with variables"
   ]
  },
  {
   "cell_type": "code",
   "execution_count": null,
   "metadata": {},
   "outputs": [],
   "source": [
    "# Create variables for prices and calculate total\n",
    "# pizza_price = 15, drink_price = 3, tip_percentage = 0.15\n",
    "# Calculate: subtotal, tip amount, total\n",
    "\n",
    "# Write your code here\n",
    "\n"
   ]
  },
  {
   "cell_type": "markdown",
   "metadata": {},
   "source": [
    "**Exercise 2:** Temperature conversion"
   ]
  },
  {
   "cell_type": "code",
   "execution_count": null,
   "metadata": {},
   "outputs": [],
   "source": [
    "# Convert Celsius to Fahrenheit: F = (C × 9/5) + 32\n",
    "# celsius = 25\n",
    "# Calculate Fahrenheit and check if it's hot (>80°F)\n",
    "\n",
    "# Write your code here\n",
    "\n"
   ]
  },
  {
   "cell_type": "markdown",
   "metadata": {},
   "source": [
    "**Exercise 3:** Grade calculator"
   ]
  },
  {
   "cell_type": "code",
   "execution_count": null,
   "metadata": {},
   "outputs": [],
   "source": [
    "# homework = 85, quiz = 90, exam = 88\n",
    "# Calculate final grade: (homework + quiz + exam) / 3\n",
    "# Check if grade is A (>=90), B (>=80), C (>=70), or F (<70)\n",
    "\n",
    "# Write your code here\n",
    "\n"
   ]
  },
  {
   "cell_type": "markdown",
   "metadata": {},
   "source": [
    "**Exercise 4:** Logical decision making"
   ]
  },
  {
   "cell_type": "code",
   "execution_count": null,
   "metadata": {},
   "outputs": [],
   "source": [
    "# age = 16, has_permission = True\n",
    "# Can watch R-rated movie? (age >= 17 OR (age >= 16 AND has_permission))\n",
    "\n",
    "# Write your code here\n",
    "\n"
   ]
  },
  {
   "cell_type": "markdown",
   "metadata": {},
   "source": [
    "## 🎯 What You Learned Today\n",
    "\n",
    "✅ **Math Operations:** +, -, *, /, **, %, //\n",
    "✅ **Comparisons:** ==, !=, >, <, >=, <=\n",
    "✅ **Logical Operators:** and, or, not\n",
    "✅ **Combining Operations:** Math + comparisons + logic\n",
    "✅ **Real-world Applications:** Calculations, decisions, conditions\n",
    "\n",
    "## 🚀 What's Next?\n",
    "\n",
    "Tomorrow we'll learn about **working with text** - how to manipulate strings, combine them, and format them beautifully!\n",
    "\n",
    "**Operations are the building blocks of programming!** Keep practicing. 💪\n",
    "\n",
    "---\n",
    "*Created with ❤️ for GRIT learners*"
   ]
  }
 ],
 "metadata": {
  "kernelspec": {
   "display_name": "Python 3",
   "language": "python",
   "name": "python3"
  },
  "language_info": {
   "codemirror_mode": {
    "name": "ipython",
    "version": 3
   },
   "file_extension": ".py",
   "mimetype": "text/x-python",
   "name": "python",
   "nbconvert_exporter": "python",
   "pygments_lexer": "ipython3",
   "version": "3.8.5"
  }
 },
 "nbformat": 4,
 "nbformat_minor": 4
}