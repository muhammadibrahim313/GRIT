{
 "cells": [
  {
   "cell_type": "markdown",
   "metadata": {},
   "source": [
    "# 🔧 Day 9: Functions - Reusable Code\n",
    "\n",
    "**Learning Objectives:**\n",
    "- Define and call functions\n",
    "- Work with parameters and arguments\n",
    "- Return values from functions\n",
    "- Understand variable scope\n",
    "- Create modular, reusable code\n",
    "\n",
    "**Why this matters:** Functions are like recipes! You write the instructions once, then use them whenever you need. This makes your code organized, reusable, and easier to debug!\n",
    "\n",
    "---"
   ]
  },
  {
   "cell_type": "markdown",
   "metadata": {},
   "source": [
    "## 🍳 What are Functions?\n",
    "\n",
    "Functions are reusable blocks of code that perform specific tasks. Think of them as:\n",
    "- **Recipes**: Instructions you can follow anytime\n",
    "- **Tools**: Ready to use when you need them\n",
    "- **Helpers**: Code that makes your life easier\n",
    "\n",
    "Instead of writing the same code over and over, you write it once as a function!"
   ]
  },
  {
   "cell_type": "code",
   "execution_count": null,
   "metadata": {},
   "outputs": [],
   "source": [
    "# Defining your first function\n",
    "\n",
    "def greet_user():\n",
    "    \"\"\"This function greets the user\"\"\"\n",
    "    print(\"Hello! Welcome to Python functions!\")\n",
    "    print(\"Functions make coding easier!\")\n",
    "\n",
    "# Calling the function\n",
    "print(\"Before calling function:\")\n",
    "greet_user()  # Execute the function\n",
    "print(\"After calling function:\")\n",
    "\n",
    "# Call it again!\n",
    "greet_user()"
   ]
  },
  {
   "cell_type": "markdown",
   "metadata": {},
   "source": [
    "**Function Parts:**\n",
    "- `def` - keyword to define function\n",
    "- `greet_user` - function name\n",
    "- `()` - parentheses for parameters\n",
    "- `:` - colon starts the function body\n",
    "- Indented code - function body\n",
    "- `greet_user()` - calling the function"
   ]
  },
  {
   "cell_type": "markdown",
   "metadata": {},
   "source": [
    "## 📝 Functions with Parameters\n",
    "\n",
    "Parameters let functions accept input data and work with different values!"
   ]
  },
  {
   "cell_type": "code",
   "execution_count": null,
   "metadata": {},
   "outputs": [],
   "source": [
    "# Function with parameters\n",
    "\n",
    "def greet_person(name):\n",
    "    \"\"\"Greet a specific person by name\"\"\"\n",
    "    print(f\"Hello, {name}! How are you today?\")\n",
    "    print(f\"Nice to meet you, {name}!\")\n",
    "\n",
    "# Call with different names\n",
    "greet_person(\"Alice\")\n",
    "greet_person(\"Bob\")\n",
    "greet_person(\"Charlie\")\n",
    "\n",
    "# Multiple parameters\n",
    "def introduce(name, age, city):\n",
    "    \"\"\"Introduce someone with their details\"\"\"\n",
    "    print(f\"Meet {name}, who is {age} years old and lives in {city}.\")\n",
    "\n",
    "introduce(\"Diana\", 28, \"Seattle\")\n",
    "introduce(\"Eve\", 35, \"Boston\")"
   ]
  },
  {
   "cell_type": "markdown",
   "metadata": {},
   "source": [
    "## 🔄 Functions that Return Values\n",
    "\n",
    "Functions can send results back to the caller using `return`!"
   ]
  },
  {
   "cell_type": "code",
   "execution_count": null,
   "metadata": {},
   "outputs": [],
   "source": [
    "# Functions with return values\n",
    "\n",
    "def calculate_area(length, width):\n",
    "    \"\"\"Calculate the area of a rectangle\"\"\"\n",
    "    area = length * width\n",
    "    return area\n",
    "\n",
    "# Use the returned value\n",
    "room1_area = calculate_area(10, 8)\n",
    "room2_area = calculate_area(12, 9)\n",
    "\n",
    "print(f\"Room 1 area: {room1_area} square feet\")\n",
    "print(f\"Room 2 area: {room2_area} square feet\")\n",
    "print(f\"Total area: {room1_area + room2_area} square feet\")\n",
    "\n",
    "# Return multiple values (as tuple)\n",
    "def get_dimensions():\n",
    "    \"\"\"Get length and width from user\"\"\"\n",
    "    length = 15\n",
    "    width = 10\n",
    "    return length, width\n",
    "\n",
    "l, w = get_dimensions()\n",
    "print(f\"Dimensions: {l} x {w}\")"
   ]
  },
  {
   "cell_type": "markdown",
   "metadata": {},
   "source": [
    "**Important:** `return` immediately exits the function and sends the value back!"
   ]
  },
  {
   "cell_type": "markdown",
   "metadata": {},
   "source": [
    "## 🎯 Default Parameters\n",
    "\n",
    "Give parameters default values so they're optional!"
   ]
  },
  {
   "cell_type": "code",
   "execution_count": null,
   "metadata": {},
   "outputs": [],
   "source": [
    "# Default parameters\n",
    "\n",
    "def make_coffee(size=\"medium\", sugar=1):\n",
    "    \"\"\"Make coffee with optional size and sugar\"\"\"\n",
    "    print(f\"Making a {size} coffee with {sugar} sugar(s)...\")\n",
    "    print(\"☕ Coffee ready!\")\n",
    "\n",
    "# Call with defaults\n",
    "make_coffee()\n",
    "\n",
    "# Override some defaults\n",
    "make_coffee(\"large\")\n",
    "make_coffee(\"small\", 2)\n",
    "make_coffee(sugar=0, size=\"extra large\")\n",
    "\n",
    "# Keyword arguments (more explicit)\n",
    "def create_profile(name, age, city=\"Unknown\", job=\"Student\"):\n",
    "    \"\"\"Create a user profile\"\"\"\n",
    "    return {\n",
    "        \"name\": name,\n",
    "        \"age\": age,\n",
    "        \"city\": city,\n",
    "        \"job\": job\n",
    "    }\n",
    "\n",
    "profile1 = create_profile(\"Alice\", 25)\n",
    "profile2 = create_profile(\"Bob\", 30, city=\"New York\", job=\"Engineer\")\n",
    "\n",
    "print(\"Profile 1:\", profile1)\n",
    "print(\"Profile 2:\", profile2)"
   ]
  },
  {
   "cell_type": "markdown",
   "metadata": {},
   "source": [
    "## 🌍 Variable Scope\n",
    "\n",
    "Variables inside functions are separate from variables outside functions!"
   ]
  },
  {
   "cell_type": "code",
   "execution_count": null,
   "metadata": {},
   "outputs": [],
   "source": [
    "# Understanding scope\n",
    "\n",
    "global_variable = \"I am global\"  # Available everywhere\n",
    "\n",
    "def test_scope():\n",
    "    local_variable = \"I am local\"  # Only available inside function\n",
    "    print(\"Inside function:\")\n",
    "    print(\"Global:\", global_variable)\n",
    "    print(\"Local:\", local_variable)\n",
    "\n",
    "test_scope()\n",
    "\n",
    "print(\"\\nOutside function:\")\n",
    "print(\"Global:\", global_variable)\n",
    "# print(local_variable)  # This would cause an error!\n",
    "\n",
    "# Modifying global variables\n",
    "def change_global():\n",
    "    global global_variable  # Declare we want to modify global\n",
    "    global_variable = \"I was changed!\"\n",
    "\n",
    "change_global()\n",
    "print(\"After change:\", global_variable)"
   ]
  },
  {
   "cell_type": "markdown",
   "metadata": {},
   "source": [
    "**Scope Rules:**\n",
    "- Local variables only exist inside their function\n",
    "- Global variables are available everywhere\n",
    "- Use `global` keyword to modify global variables inside functions"
   ]
  },
  {
   "cell_type": "markdown",
   "metadata": {},
   "source": [
    "## 🛠️ Practical Function Examples\n",
    "\n",
    "Real-world functions you'll actually use!"
   ]
  },
  {
   "cell_type": "code",
   "execution_count": null,
   "metadata": {},
   "outputs": [],
   "source": [
    "# Temperature converter\n",
    "\n",
    "def celsius_to_fahrenheit(celsius):\n",
    "    \"\"\"Convert Celsius to Fahrenheit\"\"\"\n",
    "    fahrenheit = (celsius * 9/5) + 32\n",
    "    return fahrenheit\n",
    "\n",
    "def fahrenheit_to_celsius(fahrenheit):\n",
    "    \"\"\"Convert Fahrenheit to Celsius\"\"\"\n",
    "    celsius = (fahrenheit - 32) * 5/9\n",
    "    return celsius\n",
    "\n",
    "# Test conversions\n",
    "temp_c = 25\n",
    "temp_f = celsius_to_fahrenheit(temp_c)\n",
    "print(f\"{temp_c}°C = {temp_f:.1f}°F\")\n",
    "\n",
    "back_to_c = fahrenheit_to_celsius(temp_f)\n",
    "print(f\"{temp_f:.1f}°F = {back_to_c:.1f}°C\")"
   ]
  },
  {
   "cell_type": "code",
   "execution_count": null,
   "metadata": {},
   "outputs": [],
   "source": [
    "# Shopping cart calculator\n",
    "\n",
    "def calculate_total(prices, tax_rate=0.08):\n",
    "    \"\"\"Calculate total with tax\"\"\"\n",
    "    subtotal = sum(prices)\n",
    "    tax = subtotal * tax_rate\n",
    "    total = subtotal + tax\n",
    "    return subtotal, tax, total\n",
    "\n",
    "# Test the function\n",
    "cart = [12.99, 8.50, 15.75, 6.25]\n",
    "subtotal, tax, total = calculate_total(cart)\n",
    "\n",
    "print(\"Shopping Cart:\")\n",
    "for i, price in enumerate(cart, 1):\n",
    "    print(f\"Item {i}: ${price:.2f}\")\n",
    "print(f\"Subtotal: ${subtotal:.2f}\")\n",
    "print(f\"Tax: ${tax:.2f}\")\n",
    "print(f\"Total: ${total:.2f}\")"
   ]
  },
  {
   "cell_type": "markdown",
   "metadata": {},
   "source": [
    "## 🏆 Practice Time!\n",
    "\n",
    "**Exercise 1:** Greeting function"
   ]
  },
  {
   "cell_type": "code",
   "execution_count": null,
   "metadata": {},
   "outputs": [],
   "source": [
    "# Create a function called greet_with_time\n",
    "# It should take name and time_of_day parameters\n",
    "# Return a greeting like \"Good morning, Alice!\"\n",
    "# Call it with different names and times\n",
    "\n",
    "# Write your code here\n",
    "\n"
   ]
  },
  {
   "cell_type": "markdown",
   "metadata": {},
   "source": [
    "**Exercise 2:** Math calculator"
   ]
  },
  {
   "cell_type": "code",
   "execution_count": null,
   "metadata": {},
   "outputs": [],
   "source": [
    "# Create functions for:\n",
    "# - add_numbers(a, b)\n",
    "# - multiply_numbers(a, b)\n",
    "# - power_number(base, exponent)\n",
    "# Test them with different values\n",
    "# Bonus: Add a calculator function that takes operation as parameter\n",
    "\n",
    "# Write your code here\n",
    "\n"
   ]
  },
  {
   "cell_type": "markdown",
   "metadata": {},
   "source": [
    "**Exercise 3:** Grade calculator"
   ]
  },
  {
   "cell_type": "code",
   "execution_count": null,
   "metadata": {},
   "outputs": [],
   "source": [
    "# Create a function that:\n",
    "# Takes a list of grades\n",
    "# Returns average, highest, lowest\n",
    "# Also returns letter grade (A=90+, B=80+, C=70+, D=60+, F=<60)\n",
    "# Test with different grade lists\n",
    "\n",
    "# Write your code here\n",
    "\n"
   ]
  },
  {
   "cell_type": "markdown",
   "metadata": {},
   "source": [
    "**Exercise 4:** Password validator"
   ]
  },
  {
   "cell_type": "code",
   "execution_count": null,
   "metadata": {},
   "outputs": [],
   "source": [
    "# Create a function validate_password that:\n",
    "# Takes a password string\n",
    "# Checks: length >= 8, has uppercase, has lowercase, has digit\n",
    "# Returns True/False and a message\n",
    "# Test with different passwords\n",
    "\n",
    "# Write your code here\n",
    "\n"
   ]
  },
  {
   "cell_type": "markdown",
   "metadata": {},
   "source": [
    "## 🎯 What You Learned Today\n",
    "\n",
    "✅ **Function Definition:** Using `def` to create functions\n",
    "✅ **Parameters:** Accepting input values\n",
    "✅ **Return Values:** Sending results back to caller\n",
    "✅ **Default Parameters:** Optional function arguments\n",
    "✅ **Variable Scope:** Local vs global variables\n",
    "✅ **Docstrings:** Documenting function purpose\n",
    "✅ **Modular Code:** Breaking programs into reusable parts\n",
    "\n",
    "## 🚀 What's Next?\n",
    "\n",
    "Tomorrow we'll learn about **files and error handling** - how to read/write files and handle mistakes gracefully in your programs!\n",
    "\n",
    "**Functions make your code organized and reusable!** Keep practicing function creation. 💪\n",
    "\n",
    "---\n",
    "*Created with ❤️ for GRIT learners*"
   ]
  }
 ],
 "metadata": {
  "kernelspec": {
   "display_name": "Python 3",
   "language": "python",
   "name": "python3"
  },
  "language_info": {
   "codemirror_mode": {
    "name": "ipython",
    "version": 3
   },
   "file_extension": ".py",
   "mimetype": "text/x-python",
   "name": "python",
   "nbconvert_exporter": "python",
   "pygments_lexer": "ipython3",
   "version": "3.8.5"
  }
 },
 "nbformat": 4,
 "nbformat_minor": 4
}
