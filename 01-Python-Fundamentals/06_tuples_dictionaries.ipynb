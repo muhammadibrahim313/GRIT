{
 "cells": [
  {
   "cell_type": "markdown",
   "metadata": {},
   "source": [
    "# 📚 Day 6: Tuples and Dictionaries\n",
    "\n",
    "**Learning Objectives:**\n",
    "- Understand tuples and their immutability\n",
    "- Learn dictionary key-value pairs\n",
    "- Master accessing and modifying dictionaries\n",
    "- Practice using both data structures effectively\n",
    "\n",
    "**Why this matters:** Tuples and dictionaries are like specialized tools in your programming toolbox. Tuples for fixed data, dictionaries for labeled information!\n",
    "\n",
    "---"
   ]
  },
  {
   "cell_type": "markdown",
   "metadata": {},
   "source": [
    "## 🔒 Tuples - Immutable Lists\n",
    "\n",
    "Tuples are like lists, but they cannot be changed after creation. They're \"immutable\" (unchangeable).\n",
    "\n",
    "**When to use tuples:**\n",
    "- Data that should never change (like coordinates, dates)\n",
    "- Dictionary keys (lists can't be dictionary keys)\n",
    "- Returning multiple values from functions"
   ]
  },
  {
   "cell_type": "code",
   "execution_count": null,
   "metadata": {},
   "outputs": [],
   "source": [
    "# Creating tuples\n",
    "\n",
    "# Empty tuple\n",
    "empty_tuple = ()\n",
    "print(\"Empty tuple:\", empty_tuple)\n",
    "\n",
    "# Tuple with items (parentheses are optional)\n",
    "coordinates = (10, 20)\n",
    "print(\"Coordinates:\", coordinates)\n",
    "\n",
    "# Without parentheses (tuple packing)\n",
    "person = \"John\", 25, \"Engineer\"\n",
    "print(\"Person info:\", person)\n",
    "\n",
    "# Single item tuple (comma required!)\n",
    "single_item = (42,)\n",
    "print(\"Single item:\", single_item)"
   ]
  },
  {
   "cell_type": "code",
   "execution_count": null,
   "metadata": {},
   "outputs": [],
   "source": [
    "# Accessing tuple items (same as lists)\n",
    "\n",
    "colors = (\"red\", \"green\", \"blue\", \"yellow\")\n",
    "print(\"Colors tuple:\", colors)\n",
    "\n",
    "# Access by index\n",
    "print(\"First color:\", colors[0])\n",
    "print(\"Last color:\", colors[-1])\n",
    "\n",
    "# Slicing works too\n",
    "print(\"First two:\", colors[0:2])\n",
    "print(\"Every other:\", colors[::2])\n",
    "\n",
    "# Length\n",
    "print(\"Number of colors:\", len(colors))"
   ]
  },
  {
   "cell_type": "code",
   "execution_count": null,
   "metadata": {},
   "outputs": [],
   "source": [
    "# Tuple unpacking - extracting values\n",
    "\n",
    "# Unpack coordinates\n",
    "x, y = coordinates\n",
    "print(f\"X: {x}, Y: {y}\")\n",
    "\n",
    "# Unpack person info\n",
    "name, age, job = person\n",
    "print(f\"{name} is {age} years old and works as {job}\")\n",
    "\n",
    "# Partial unpacking with *\n",
    "first, *middle, last = (1, 2, 3, 4, 5)\n",
    "print(f\"First: {first}, Middle: {middle}, Last: {last}\")"
   ]
  },
  {
   "cell_type": "markdown",
   "metadata": {},
   "source": [
    "**Important:** Tuples cannot be modified after creation!\n",
    "```python\n",
    "# This will cause an error:\n",
    "# colors[0] = \"purple\"  # TypeError!\n",
    "```"
   ]
  },
  {
   "cell_type": "markdown",
   "metadata": {},
   "source": [
    "## 📖 Dictionaries - Key-Value Pairs\n",
    "\n",
    "Dictionaries are like phone books or address books:\n",
    "- **Keys**: Labels (like names)\n",
    "- **Values**: Information (like phone numbers)\n",
    "- Each key maps to exactly one value\n",
    "\n",
    "Think of them as labeled boxes where you can find things by name!"
   ]
  },
  {
   "cell_type": "code",
   "execution_count": null,
   "metadata": {},
   "outputs": [],
   "source": [
    "# Creating dictionaries\n",
    "\n",
    "# Empty dictionary\n",
    "empty_dict = {}\n",
    "print(\"Empty dict:\", empty_dict)\n",
    "\n",
    "# Dictionary with data\n",
    "person = {\n",
    "    \"name\": \"Alice\",\n",
    "    \"age\": 30,\n",
    "    \"city\": \"New York\",\n",
    "    \"job\": \"Designer\"\n",
    "}\n",
    "print(\"Person dictionary:\")\n",
    "for key, value in person.items():\n",
    "    print(f\"  {key}: {value}\")\n",
    "\n",
    "# Alternative syntax\n",
    "scores = dict(math=95, science=87, english=92)\n",
    "print(\"Scores:\", scores)"
   ]
  },
  {
   "cell_type": "code",
   "execution_count": null,
   "metadata": {},
   "outputs": [],
   "source": [
    "# Accessing dictionary values\n",
    "\n",
    "student = {\n",
    "    \"name\": \"Bob\",\n",
    "    \"grade\": \"A\",\n",
    "    \"age\": 16,\n",
    "    \"subjects\": [\"Math\", \"Science\", \"English\"]\n",
    "}\n",
    "\n",
    "# Access by key\n",
    "print(\"Student name:\", student[\"name\"])\n",
    "print(\"Student grade:\", student[\"grade\"])\n",
    "\n",
    "# Safe access with .get() (no error if key doesn't exist)\n",
    "print(\"Student height:\", student.get(\"height\", \"Not specified\"))\n",
    "\n",
    "# Check if key exists\n",
    "print(\"Has 'age' key:\", \"age\" in student)\n",
    "print(\"Has 'phone' key:\", \"phone\" in student)"
   ]
  },
  {
   "cell_type": "markdown",
   "metadata": {},
   "source": [
    "## ✏️ Modifying Dictionaries\n",
    "\n",
    "Dictionaries are flexible - you can add, change, and remove items!"
   ]
  },
  {
   "cell_type": "code",
   "execution_count": null,
   "metadata": {},
   "outputs": [],
   "source": [
    "# Adding and changing dictionary items\n",
    "\n",
    "car = {\n",
    "    \"brand\": \"Toyota\",\n",
    "    \"model\": \"Camry\",\n",
    "    \"year\": 2020\n",
    "}\n",
    "print(\"Original car:\", car)\n",
    "\n",
    "# Add new key-value pair\n",
    "car[\"color\"] = \"blue\"\n",
    "print(\"After adding color:\", car)\n",
    "\n",
    "# Change existing value\n",
    "car[\"year\"] = 2021\n",
    "print(\"After updating year:\", car)\n",
    "\n",
    "# Update multiple values\n",
    "car.update({\"mileage\": 15000, \"price\": 25000})\n",
    "print(\"After bulk update:\", car)"
   ]
  },
  {
   "cell_type": "code",
   "execution_count": null,
   "metadata": {},
   "outputs": [],
   "source": [
    "# Removing dictionary items\n",
    "\n",
    "inventory = {\n",
    "    \"apples\": 10,\n",
    "    \"bananas\": 5,\n",
    "    \"oranges\": 8,\n",
    "    \"grapes\": 3\n",
    "}\n",
    "print(\"Original inventory:\", inventory)\n",
    "\n",
    "# Remove specific key\n",
    "removed_item = inventory.pop(\"bananas\")\n",
    "print(f\"Removed bananas: {removed_item}\")\n",
    "print(\"After pop:\", inventory)\n",
    "\n",
    "# Remove last item (arbitrary)\n",
    "last_key = inventory.popitem()\n",
    "print(f\"Removed last item: {last_key}\")\n",
    "print(\"After popitem:\", inventory)\n",
    "\n",
    "# Clear entire dictionary\n",
    "inventory.clear()\n",
    "print(\"After clear:\", inventory)"
   ]
  },
  {
   "cell_type": "markdown",
   "metadata": {},
   "source": [
    "## 🔧 Dictionary Methods\n",
    "\n",
    "Dictionaries have many useful methods!"
   ]
  },
  {
   "cell_type": "code",
   "execution_count": null,
   "metadata": {},
   "outputs": [],
   "source": [
    "# Dictionary methods\n",
    "\n",
    "student = {\n",
    "    \"name\": \"Emma\",\n",
    "    \"age\": 17,\n",
    "    \"grades\": {\"math\": 95, \"science\": 88}\n",
    "}\n",
    "\n",
    "# Get all keys\n",
    "print(\"Keys:\", list(student.keys()))\n",
    "\n",
    "# Get all values\n",
    "print(\"Values:\", list(student.values()))\n",
    "\n",
    "# Get key-value pairs\n",
    "print(\"Items:\", list(student.items()))\n",
    "\n",
    "# Copy dictionary\n",
    "student_copy = student.copy()\n",
    "print(\"Copied dict:\", student_copy)"
   ]
  },
  {
   "cell_type": "markdown",
   "metadata": {},
   "source": [
    "## 🎯 Real-World Examples\n",
    "\n",
    "Let's see how tuples and dictionaries work together!"
   ]
  },
  {
   "cell_type": "code",
   "execution_count": null,
   "metadata": {},
   "outputs": [],
   "source": [
    "# Real-world example: Student database\n",
    "\n",
    "# Using tuples for immutable data\n",
    "student_ids = (\"S001\", \"S002\", \"S003\")  # IDs never change\n",
    "\n",
    "# Using dictionaries for flexible data\n",
    "students = {\n",
    "    \"S001\": {\"name\": \"Alice\", \"age\": 16, \"grade\": \"A\"},\n",
    "    \"S002\": {\"name\": \"Bob\", \"age\": 17, \"grade\": \"B\"},\n",
    "    \"S003\": {\"name\": \"Charlie\", \"age\": 16, \"grade\": \"A-\"}\n",
    "}\n",
    "\n",
    "# Access student information\n",
    "student_id = \"S001\"\n",
    "student_info = students[student_id]\n",
    "print(f\"Student {student_id}: {student_info['name']}, Grade: {student_info['grade']}\")\n",
    "\n",
    "# Update student grade\n",
    "students[student_id][\"grade\"] = \"A+\"\n",
    "print(f\"Updated grade: {students[student_id]['grade']}\")"
   ]
  },
  {
   "cell_type": "markdown",
   "metadata": {},
   "source": [
    "## 🏆 Practice Time!\n",
    "\n",
    "**Exercise 1:** Coordinate system with tuples"
   ]
  },
  {
   "cell_type": "code",
   "execution_count": null,
   "metadata": {},
   "outputs": [],
   "source": [
    "# Create coordinates for 3 cities as tuples\n",
    "# new_york = (40.7128, -74.0060)\n",
    "# london = (51.5074, -0.1278)\n",
    "# tokyo = (35.6762, 139.6503)\n",
    "# Print each city's coordinates\n",
    "# Calculate distance between cities (just subtract coordinates)\n",
    "\n",
    "# Write your code here\n",
    "\n"
   ]
  },
  {
   "cell_type": "markdown",
   "metadata": {},
   "source": [
    "**Exercise 2:** Personal contact dictionary"
   ]
  },
  {
   "cell_type": "code",
   "execution_count": null,
   "metadata": {},
   "outputs": [],
   "source": [
    "# Create a dictionary with your contact info\n",
    "# Include: name, age, email, phone, address (as a tuple)\n",
    "# Add a new field for favorite_color\n",
    "# Update your age\n",
    "# Print all information nicely formatted\n",
    "\n",
    "# Write your code here\n",
    "\n"
   ]
  },
  {
   "cell_type": "markdown",
   "metadata": {},
   "source": [
    "**Exercise 3:** Inventory system"
   ]
  },
  {
   "cell_type": "code",
   "execution_count": null,
   "metadata": {},
   "outputs": [],
   "source": [
    "# Create inventory dictionary: {\"apples\": 10, \"bananas\": 5, \"oranges\": 8}\n",
    "# Add 3 more fruits\n",
    "# Remove bananas (sold out)\n",
    "# Update apple count to 15\n",
    "# Calculate total fruits in inventory\n",
    "# Print inventory summary\n",
    "\n",
    "# Write your code here\n",
    "\n"
   ]
  },
  {
   "cell_type": "markdown",
   "metadata": {},
   "source": [
    "**Exercise 4:** Student grades system"
   ]
  },
  {
   "cell_type": "code",
   "execution_count": null,
   "metadata": {},
   "outputs": [],
   "source": [
    "# Create dictionary of students with their grades\n",
    "# {\"Alice\": [85, 92, 88], \"Bob\": [78, 85, 90], \"Charlie\": [95, 87, 93]}\n",
    "# Add a new student \"Diana\" with grades [88, 91, 86]\n",
    "# Calculate average grade for each student\n",
    "# Find student with highest average\n",
    "\n",
    "# Write your code here\n",
    "\n"
   ]
  },
  {
   "cell_type": "markdown",
   "metadata": {},
   "source": [
    "## 🎯 What You Learned Today\n",
    "\n",
    "✅ **Tuples:** Immutable ordered collections\n",
    "✅ **Tuple Packing/Unpacking:** Creating and extracting tuple values\n",
    "✅ **Dictionaries:** Key-value pair collections\n",
    "✅ **Dictionary Access:** Using keys to get values\n",
    "✅ **Dictionary Modification:** Adding, changing, removing items\n",
    "✅ **Dictionary Methods:** keys(), values(), items()\n",
    "✅ **Real-World Usage:** Combining tuples and dictionaries\n",
    "\n",
    "## 🚀 What's Next?\n",
    "\n",
    "Tomorrow we'll learn about **making decisions** with if/else statements - how to make your programs smart enough to choose different actions!\n",
    "\n",
    "**Tuples and dictionaries organize your data beautifully!** Keep practicing data structures. 💪\n",
    "\n",
    "---\n",
    "*Created with ❤️ for GRIT learners*"
   ]
  }
 ],
 "metadata": {
  "kernelspec": {
   "display_name": "Python 3",
   "language": "python",
   "name": "python3"
  },
  "language_info": {
   "codemirror_mode": {
    "name": "ipython",
    "version": 3
   },
   "file_extension": ".py",
   "mimetype": "text/x-python",
   "name": "python",
   "nbconvert_exporter": "python",
   "pygments_lexer": "ipython3",
   "version": "3.8.5"
  }
 },
 "nbformat": 4,
 "nbformat_minor": 4
}
