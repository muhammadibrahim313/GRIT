{
 "cells": [
  {
   "cell_type": "markdown",
   "metadata": {},
   "source": [
    "# 🤔 Day 7: Making Decisions - If/Else Statements\n",
    "\n",
    "**Learning Objectives:**\n",
    "- Master if/else conditional statements\n",
    "- Learn elif for multiple conditions\n",
    "- Understand comparison and logical operators in decisions\n",
    "- Practice nested conditions and complex logic\n",
    "\n",
    "**Why this matters:** Decision-making is what makes programs intelligent! Just like you make choices every day, programs need to make decisions based on conditions.\n",
    "\n",
    "---"
   ]
  },
  {
   "cell_type": "markdown",
   "metadata": {},
   "source": [
    "## ❓ What are Conditional Statements?\n",
    "\n",
    "Conditional statements let your program make decisions:\n",
    "\n",
    "**\"If\" this is true, then do this. \"Else\" do that.**\n",
    "\n",
    "It's like:\n",
    "- If it's raining → take umbrella\n",
    "- If you're hungry → eat food\n",
    "- If score >= 90 → grade = A"
   ]
  },
  {
   "cell_type": "code",
   "execution_count": null,
   "metadata": {},
   "outputs": [],
   "source": [
    "# Basic if statement\n",
    "\n",
    "age = 16\n",
    "\n",
    "if age >= 16:\n",
    "    print(\"You can drive!\")\n",
    "    print(\"Don't forget your license!\")\n",
    "\n",
    "print(\"This always runs\")  # Not indented, so always executes"
   ]
  },
  {
   "cell_type": "code",
   "execution_count": null,
   "metadata": {},
   "outputs": [],
   "source": [
    "# If-else statement\n",
    "\n",
    "temperature = 75\n",
    "\n",
    "if temperature > 80:\n",
    "    print(\"It's hot! Wear light clothes.\")\n",
    "    print(\"Drink plenty of water.\")\n",
    "else:\n",
    "    print(\"It's not too hot.\")\n",
    "    print(\"You can wear what you like.\")\n",
    "\n",
    "print(\"Weather check complete!\")"
   ]
  },
  {
   "cell_type": "markdown",
   "metadata": {},
   "source": [
    "**Important:** Code inside if/else blocks must be indented (usually 4 spaces)."
   ]
  },
  {
   "cell_type": "markdown",
   "metadata": {},
   "source": [
    "## 🔀 Multiple Conditions with elif\n",
    "\n",
    "Use `elif` (else if) when you have more than two choices!"
   ]
  },
  {
   "cell_type": "code",
   "execution_count": null,
   "metadata": {},
   "outputs": [],
   "source": [
    "# Grade calculator with elif\n",
    "\n",
    "score = 87\n",
    "\n",
    "if score >= 90:\n",
    "    grade = \"A\"\n",
    "    message = \"Excellent work!\"\n",
    "elif score >= 80:\n",
    "    grade = \"B\"\n",
    "    message = \"Good job!\"\n",
    "elif score >= 70:\n",
    "    grade = \"C\"\n",
    "    message = \"Not bad!\"\n",
    "elif score >= 60:\n",
    "    grade = \"D\"\n",
    "    message = \"You can do better.\"\n",
    "else:\n",
    "    grade = \"F\"\n",
    "    message = \"You need to study more.\"\n",
    "\n",
    "print(f\"Score: {score}, Grade: {grade}\")\n",
    "print(f\"Message: {message}\")"
   ]
  },
  {
   "cell_type": "markdown",
   "metadata": {},
   "source": [
    "**Flow:** Python checks conditions from top to bottom. First true condition wins!"
   ]
  },
  {
   "cell_type": "markdown",
   "metadata": {},
   "source": [
    "## 🔗 Complex Conditions\n",
    "\n",
    "Combine multiple conditions using `and`, `or`, `not`!"
   ]
  },
  {
   "cell_type": "code",
   "execution_count": null,
   "metadata": {},
   "outputs": [],
   "source": [
    "# Complex conditions\n",
    "\n",
    "age = 25\n",
    "has_license = True\n",
    "is_sober = True\n",
    "\n",
    "# AND condition - all must be true\n",
    "if age >= 16 and has_license and is_sober:\n",
    "    print(\"You can legally drive!\")\n",
    "else:\n",
    "    print(\"You cannot drive right now.\")\n",
    "\n",
    "# OR condition - at least one must be true\n",
    "has_money = False\n",
    "has_card = True\n",
    "\n",
    "if has_money or has_card:\n",
    "    print(\"You can make the purchase!\")\n",
    "else:\n",
    "    print(\"You need money or a card.\")\n",
    "\n",
    "# NOT condition - reverse the logic\n",
    "is_weekend = False\n",
    "\n",
    "if not is_weekend:\n",
    "    print(\"It's a weekday - time to work!\")\n",
    "else:\n",
    "    print(\"It's the weekend - relax!\")"
   ]
  },
  {
   "cell_type": "markdown",
   "metadata": {},
   "source": [
    "## 📦 Checking Collections\n",
    "\n",
    "You can check if items exist in lists, strings, and dictionaries!"
   ]
  },
  {
   "cell_type": "code",
   "execution_count": null,
   "metadata": {},
   "outputs": [],
   "source": [
    "# Checking collections\n",
    "\n",
    "shopping_list = [\"milk\", \"bread\", \"eggs\", \"cheese\"]\n",
    "favorite_fruits = \"I love apples and bananas\"\n",
    "student_grades = {\"math\": 95, \"science\": 87}\n",
    "\n",
    "# Check if item in list\n",
    "if \"milk\" in shopping_list:\n",
    "    print(\"✅ Milk is on your shopping list\")\n",
    "else:\n",
    "    print(\"❌ Milk is not on your list\")\n",
    "\n",
    "# Check if substring in string\n",
    "if \"apples\" in favorite_fruits:\n",
    "    print(\"✅ You like apples!\")\n",
    "\n",
    "# Check if key in dictionary\n",
    "if \"math\" in student_grades:\n",
    "    print(f\"✅ Math grade: {student_grades['math']}\")\n",
    "\n",
    "# Check if NOT in collection\n",
    "if \"pizza\" not in shopping_list:\n",
    "    print(\"❌ Pizza is not on your list\")"
   ]
  },
  {
   "cell_type": "markdown",
   "metadata": {},
   "source": [
    "## 🏗️ Nested Conditions\n",
    "\n",
    "You can put if statements inside other if statements!"
   ]
  },
  {
   "cell_type": "code",
   "execution_count": null,
   "metadata": {},
   "outputs": [],
   "source": [
    "# Nested conditions\n",
    "\n",
    "weather = \"rainy\"\n",
    "temperature = 65\n",
    "has_umbrella = True\n",
    "\n",
    "if weather == \"rainy\":\n",
    "    print(\"It's raining!\")\n",
    "    if has_umbrella:\n",
    "        print(\"Good, you have an umbrella! ☂️\")\n",
    "    else:\n",
    "        print(\"You should get an umbrella! 🏃\")\n",
    "        \n",
    "    if temperature < 60:\n",
    "        print(\"It's also cold - bring a jacket! 🧥\")\n",
    "    else:\n",
    "        print(\"At least it's not too cold.\")\n",
    "        \n",
    "elif weather == \"sunny\":\n",
    "    print(\"It's sunny! 😎\")\n",
    "    if temperature > 85:\n",
    "        print(\"It's hot - stay hydrated! 💧\")\n",
    "    \n",
    "else:\n",
    "    print(\"Weather is okay!\")"
   ]
  },
  {
   "cell_type": "markdown",
   "metadata": {},
   "source": [
    "## 🎯 Real-World Examples\n",
    "\n",
    "Let's build some practical decision-making programs!"
   ]
  },
  {
   "cell_type": "code",
   "execution_count": null,
   "metadata": {},
   "outputs": [],
   "source": [
    "# Age category classifier\n",
    "\n",
    "user_age = 28\n",
    "\n",
    "if user_age < 13:\n",
    "    category = \"Child\"\n",
    "    activities = \"Play games, read books\"\n",
    "elif user_age < 20:\n",
    "    category = \"Teenager\"\n",
    "    activities = \"School, sports, friends\"\n",
    "elif user_age < 65:\n",
    "    category = \"Adult\"\n",
    "    activities = \"Work, family, hobbies\"\n",
    "else:\n",
    "    category = \"Senior\"\n",
    "    activities = \"Travel, grandchildren, relaxation\"\n",
    "\n",
    "print(f\"Age: {user_age}, Category: {category}\")\n",
    "print(f\"Typical activities: {activities}\")"
   ]
  },
  {
   "cell_type": "code",
   "execution_count": null,
   "metadata": {},
   "outputs": [],
   "source": [
    "# Password strength checker\n",
    "\n",
    "password = \"MySecret123!\"\n",
    "\n",
    "has_upper = False\n",
    "has_lower = False\n",
    "has_digit = False\n",
    "has_special = False\n",
    "is_long_enough = len(password) >= 8\n",
    "\n",
    "# Check each character\n",
    "for char in password:\n",
    "    if char.isupper():\n",
    "        has_upper = True\n",
    "    elif char.islower():\n",
    "        has_lower = True\n",
    "    elif char.isdigit():\n",
    "        has_digit = True\n",
    "    elif not char.isalnum():\n",
    "        has_special = True\n",
    "\n",
    "# Evaluate strength\n",
    "if has_upper and has_lower and has_digit and has_special and is_long_enough:\n",
    "    strength = \"Very Strong\"\n",
    "    color = \"🟢\"\n",
    "elif has_upper and has_lower and has_digit and is_long_enough:\n",
    "    strength = \"Strong\"\n",
    "    color = \"🟡\"\n",
    "elif has_lower and is_long_enough:\n",
    "    strength = \"Weak\"\n",
    "    color = \"🟠\"\n",
    "else:\n",
    "    strength = \"Very Weak\"\n",
    "    color = \"🔴\"\n",
    "\n",
    "print(f\"Password Strength: {color} {strength}\")"
   ]
  },
  {
   "cell_type": "markdown",
   "metadata": {},
   "source": [
    "## 🏆 Practice Time!\n",
    "\n",
    "**Exercise 1:** Weather advisor"
   ]
  },
  {
   "cell_type": "code",
   "execution_count": null,
   "metadata": {},
   "outputs": [],
   "source": [
    "# temperature = 85, is_raining = False, has_jacket = True\n",
    "# Give advice based on conditions:\n",
    "# - If hot (>80) and not raining: \"Wear light clothes\"\n",
    "# - If hot and raining: \"Stay inside or use umbrella\"\n",
    "# - If cold (<60) and raining: \"Wear jacket and use umbrella\"\n",
    "# - Otherwise: \"Nice weather!\"\n",
    "\n",
    "# Write your code here\n",
    "\n"
   ]
  },
  {
   "cell_type": "markdown",
   "metadata": {},
   "source": [
    "**Exercise 2:** Movie ticket pricing"
   ]
  },
  {
   "cell_type": "code",
   "execution_count": null,
   "metadata": {},
   "outputs": [],
   "source": [
    "# age = 15, is_student = True, day = \"Tuesday\"\n",
    "# Calculate ticket price:\n",
    "# - Children (<12): $8\n",
    "# - Students OR Seniors (65+): $10\n",
    "# - Tuesday special: $6 off any ticket\n",
    "# - Regular adult: $12\n",
    "\n",
    "# Write your code here\n",
    "\n"
   ]
  },
  {
   "cell_type": "markdown",
   "metadata": {},
   "source": [
    "**Exercise 3:** Number classifier"
   ]
  },
  {
   "cell_type": "code",
   "execution_count": null,
   "metadata": {},
   "outputs": [],
   "source": [
    "# number = -15\n",
    "# Classify the number:\n",
    "# - If positive and even: \"Positive even number\"\n",
    "# - If positive and odd: \"Positive odd number\"\n",
    "# - If negative: \"Negative number\"\n",
    "# - If zero: \"Zero\"\n",
    "\n",
    "# Write your code here\n",
    "\n"
   ]
  },
  {
   "cell_type": "markdown",
   "metadata": {},
   "source": [
    "**Exercise 4:** Shopping discount calculator"
   ]
  },
  {
   "cell_type": "code",
   "execution_count": null,
   "metadata": {},
   "outputs": [],
   "source": [
    "# total_amount = 85, is_member = True, coupon_code = \"SAVE10\"\n",
    "# Calculate final price:\n",
    "# - Members get 5% off\n",
    "# - Valid coupon \"SAVE10\" gives $10 off\n",
    "# - Orders over $100 get free shipping\n",
    "# - Tax is 8% on final amount\n",
    "\n",
    "# Write your code here\n",
    "\n"
   ]
  },
  {
   "cell_type": "markdown",
   "metadata": {},
   "source": [
    "## 🎯 What You Learned Today\n",
    "\n",
    "✅ **If Statements:** Basic conditional execution\n",
    "✅ **If-Else:** Two-way decision making\n",
    "✅ **Elif:** Multiple condition handling\n",
    "✅ **Complex Conditions:** Using and/or/not with comparisons\n",
    "✅ **Collection Checks:** Testing membership with `in`\n",
    "✅ **Nested Conditions:** If statements inside if statements\n",
    "✅ **Real-World Logic:** Practical decision-making scenarios\n",
    "\n",
    "## 🚀 What's Next?\n",
    "\n",
    "Tomorrow we'll learn about **loops** - how to repeat actions automatically instead of writing the same code over and over!\n",
    "\n",
    "**Decision-making makes your programs smart!** Keep practicing conditional logic. 💪\n",
    "\n",
    "---\n",
    "*Created with ❤️ for GRIT learners*"
   ]
  }
 ],
 "metadata": {
  "kernelspec": {
   "display_name": "Python 3",
   "language": "python",
   "name": "python3"
  },
  "language_info": {
   "codemirror_mode": {
    "name": "ipython",
    "version": 3
   },
   "file_extension": ".py",
   "mimetype": "text/x-python",
   "name": "python",
   "nbconvert_exporter": "python",
   "pygments_lexer": "ipython3",
   "version": "3.8.5"
  }
 },
 "nbformat": 4,
 "nbformat_minor": 4
}
