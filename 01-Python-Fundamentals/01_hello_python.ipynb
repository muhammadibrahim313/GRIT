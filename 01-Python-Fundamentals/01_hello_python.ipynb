{
 "cells": [
  {
   "cell_type": "markdown",
   "metadata": {},
   "source": [
    "# 🎉 Day 1: Getting Started with Python\n",
    "\n",
    "**Learning Objectives:**\n",
    "- Understand what Python is and why it's useful\n",
    "- Learn how to write and run your first Python program\n",
    "- Master the `print()` function\n",
    "- Learn about comments in code\n",
    "\n",
    "**Why this matters:** Python is like a friendly robot helper that can help you solve problems, create games, analyze data, and build amazing things. Today we learn how to give our first instructions to this robot!\n",
    "\n",
    "---"
   ]
  },
  {
   "cell_type": "markdown",
   "metadata": {},
   "source": [
    "## 🤖 What is Python?\n",
    "\n",
    "Imagine you have a super-smart robot friend who can:\n",
    "- Do math problems instantly\n",
    "- Remember lots of information\n",
    "- Follow your instructions perfectly\n",
    "- Help you build games, websites, and solve real problems\n",
    "\n",
    "**Python is that robot friend!** It's a programming language that helps computers understand what you want them to do.\n",
    "\n",
    "![Python Logo](https://www.python.org/static/community_logos/python-logo-master-v3-TM.png)\n",
    "\n",
    "---"
   ]
  },
  {
   "cell_type": "markdown",
   "metadata": {},
   "source": [
    "## 📝 Your First Python Program: Hello World!\n",
    "\n",
    "Every programmer's journey starts with the same simple program. It's like saying \"Hello\" to the computer world!\n",
    "\n",
    "The `print()` function is like telling your robot friend to speak something out loud."
   ]
  },
  {
   "cell_type": "code",
   "execution_count": null,
   "metadata": {},
   "outputs": [],
   "source": [
    "# This is your first Python program!\n",
    "# The print() function tells Python to display text\n",
    "print(\"Hello, World!\")\n",
    "\n",
    "# Let's try saying hello to someone special\n",
    "print(\"Hello, Python learner!\")\n",
    "print(\"Welcome to your coding journey!\")"
   ]
  },
  {
   "cell_type": "markdown",
   "metadata": {},
   "source": [
    "**What happened?** When you run the code above, Python displays the text inside the quotation marks.\n",
    "\n",
    "The `print()` function is like a speaker - it takes what's inside the parentheses and shows it to you!"
   ]
  },
  {
   "cell_type": "markdown",
   "metadata": {},
   "source": [
    "## 💭 Comments: Notes for Humans\n",
    "\n",
    "Comments are like sticky notes you leave for yourself (or other programmers). Python ignores them completely - they're just for humans!\n",
    "\n",
    "**Why comments matter:** They help you remember what your code does, especially when you come back to it later."
   ]
  },
  {
   "cell_type": "code",
   "execution_count": null,
   "metadata": {},
   "outputs": [],
   "source": [
    "# This is a comment - Python will ignore this line\n",
    "# Comments start with the # symbol\n",
    "\n",
    "print(\"This line will run!\")  # This comment is after code\n",
    "\n",
    "# You can write as many comments as you want:\n",
    "# - They help explain what your code does\n",
    "# - They help other people understand your code\n",
    "# - They help YOU understand your code later!\n",
    "\n",
    "print(\"Comments are super helpful!\")"
   ]
  },
  {
   "cell_type": "markdown",
   "metadata": {},
   "source": [
    "**Remember:** Comments are for humans, code is for computers. Use comments to explain the \"why\" and \"how\" of your code!"
   ]
  },
  {
   "cell_type": "markdown",
   "metadata": {},
   "source": [
    "## 🎨 Making Your Output Pretty\n",
    "\n",
    "You can print multiple lines and make your output look nice!"
   ]
  },
  {
   "cell_type": "code",
   "execution_count": null,
   "metadata": {},
   "outputs": [],
   "source": [
    "# Printing multiple lines\n",
    "print(\"Line 1\")\n",
    "print(\"Line 2\")\n",
    "print(\"Line 3\")\n",
    "\n",
    "# Using empty print() to create space\n",
    "print(\"Hello!\")\n",
    "print()  # This creates an empty line\n",
    "print(\"How are you today?\")\n",
    "\n",
    "# Printing special characters\n",
    "print(\"I love coding! 😊\")\n",
    "print(\"Python is fun! 🚀\")"
   ]
  },
  {
   "cell_type": "markdown",
   "metadata": {},
   "source": [
    "## 🏆 Practice Time!\n",
    "\n",
    "Now it's your turn! Try these exercises to practice what you've learned.\n",
    "\n",
    "**Exercise 1:** Print your name"
   ]
  },
  {
   "cell_type": "code",
   "execution_count": null,
   "metadata": {},
   "outputs": [],
   "source": [
    "# Write your code here\n",
    "# Hint: Use print() with your name in quotation marks\n",
    "\n"
   ]
  },
  {
   "cell_type": "markdown",
   "metadata": {},
   "source": [
    "**Exercise 2:** Print a greeting message"
   ]
  },
  {
   "cell_type": "code",
   "execution_count": null,
   "metadata": {},
   "outputs": [],
   "source": [
    "# Write your code here\n",
    "# Hint: Use print() with a nice greeting message\n",
    "\n"
   ]
  },
  {
   "cell_type": "markdown",
   "metadata": {},
   "source": [
    "**Exercise 3:** Print multiple lines with comments"
   ]
  },
  {
   "cell_type": "code",
   "execution_count": null,
   "metadata": {},
   "outputs": [],
   "source": [
    "# Write your code here\n",
    "# Hint: Use multiple print() statements and add comments explaining what each line does\n",
    "\n"
   ]
  },
  {
   "cell_type": "markdown",
   "metadata": {},
   "source": [
    "## 🎯 What You Learned Today\n",
    "\n",
    "✅ **Python Basics:** Python is a programming language that helps you talk to computers\n",
    "✅ **print() Function:** Use `print()` to display text and information\n",
    "✅ **Comments:** Use `#` to write notes that Python ignores\n",
    "✅ **Hello World:** You wrote your first Python program!\n",
    "\n",
    "## 🚀 What's Next?\n",
    "\n",
    "Tomorrow we'll learn about **variables** - how to store and remember information in Python. You'll be able to create programs that remember your name, favorite color, and more!\n",
    "\n",
    "**Keep practicing!** The more you code, the better you get. 💪\n",
    "\n",
    "---\n",
    "*Created with ❤️ for GRIT learners*"
   ]
  }
 ],
 "metadata": {
  "kernelspec": {
   "display_name": "Python 3",
   "language": "python",
   "name": "python3"
  },
  "language_info": {
   "codemirror_mode": {
    "name": "ipython",
    "version": 3
   },
   "file_extension": ".py",
   "mimetype": "text/x-python",
   "name": "python",
   "nbconvert_exporter": "python",
   "pygments_lexer": "ipython3",
   "version": "3.8.5"
  }
 },
 "nbformat": 4,
 "nbformat_minor": 4
}
