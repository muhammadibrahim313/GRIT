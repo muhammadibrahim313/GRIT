{
 "cells": [
  {
   "cell_type": "markdown",
   "metadata": {},
   "source": [
    "# 📁 Day 10: Files & Error Handling\n",
    "\n",
    "**Learning Objectives:**\n",
    "- Read from and write to files\n",
    "- Handle different file types\n",
    "- Use try/except for error handling\n",
    "- Create robust, fault-tolerant programs\n",
    "- Work with file paths and directories\n",
    "\n",
    "**Why this matters:** Real programs work with files! You need to save data, read configurations, and handle unexpected errors gracefully. This is what separates beginner code from professional code!\n",
    "\n",
    "---"
   ]
  },
  {
   "cell_type": "markdown",
   "metadata": {},
   "source": [
    "## 📖 Reading Files\n",
    "\n",
    "Files store data permanently on your computer. Learning to read files lets your programs access saved information!"
   ]
  },
  {
   "cell_type": "code",
   "execution_count": 1,
   "metadata": {},
   "outputs": [
    {
     "name": "stdout",
     "output_type": "stream",
     "text": [
      "Sample file created!\n",
      "File content:\n",
      "Hello, this is a sample text file!\n",
      "It has multiple lines.\n",
      "Each line ends with a newline character.\n",
      "Python can read all of this easily!\n"
     ]
    }
   ],
   "source": [
    "# Reading text files\n",
    "\n",
    "# First, let's create a sample file to read\n",
    "sample_text = \"\"\"Hello, this is a sample text file!\n",
    "It has multiple lines.\n",
    "Each line ends with a newline character.\n",
    "Python can read all of this easily!\"\"\"\n",
    "\n",
    "# Write the sample file\n",
    "with open(\"sample.txt\", \"w\") as file:\n",
    "    file.write(sample_text)\n",
    "\n",
    "print(\"Sample file created!\")\n",
    "\n",
    "# Now read it back\n",
    "with open(\"sample.txt\", \"r\") as file:\n",
    "    content = file.read()\n",
    "    print(\"File content:\")\n",
    "    print(content)"
   ]
  },
  {
   "cell_type": "code",
   "execution_count": 2,
   "metadata": {},
   "outputs": [
    {
     "name": "stdout",
     "output_type": "stream",
     "text": [
      "Reading line by line:\n",
      "Line 1: Hello, this is a sample text file!\n",
      "Line 2: It has multiple lines.\n",
      "Line 3: Each line ends with a newline character.\n",
      "Line 4: Python can read all of this easily!\n",
      "\n",
      "Reading all lines into a list:\n",
      "Number of lines: 4\n",
      "Line 1: Hello, this is a sample text file!\n",
      "Line 2: It has multiple lines.\n",
      "Line 3: Each line ends with a newline character.\n",
      "Line 4: Python can read all of this easily!\n"
     ]
    }
   ],
   "source": [
    "# Reading files line by line\n",
    "\n",
    "print(\"Reading line by line:\")\n",
    "with open(\"sample.txt\", \"r\") as file:\n",
    "    for line_number, line in enumerate(file, 1):\n",
    "        print(f\"Line {line_number}: {line.strip()}\")\n",
    "\n",
    "# Reading all lines into a list\n",
    "print(\"\\nReading all lines into a list:\")\n",
    "with open(\"sample.txt\", \"r\") as file:\n",
    "    lines = file.readlines()\n",
    "    print(f\"Number of lines: {len(lines)}\")\n",
    "    for i, line in enumerate(lines):\n",
    "        print(f\"Line {i+1}: {line.strip()}\")"
   ]
  },
  {
   "cell_type": "markdown",
   "metadata": {},
   "source": [
    "**File Modes:**\n",
    "- `\"r\"` - Read (default)\n",
    "- `\"w\"` - Write (overwrites existing)\n",
    "- `\"a\"` - Append (adds to existing)\n",
    "- `\"r+\"` - Read and write"
   ]
  },
  {
   "cell_type": "markdown",
   "metadata": {},
   "source": [
    "## ✏️ Writing Files\n",
    "\n",
    "Writing files lets your program save data permanently!"
   ]
  },
  {
   "cell_type": "code",
   "execution_count": 3,
   "metadata": {},
   "outputs": [
    {
     "name": "stdout",
     "output_type": "stream",
     "text": [
      "Shopping list saved!\n",
      "File contents:\n",
      "My Shopping List\n",
      "================\n",
      "\n",
      "- Milk\n",
      "- Bread\n",
      "- Eggs\n",
      "- Cheese\n",
      "- Apples\n",
      "\n"
     ]
    }
   ],
   "source": [
    "# Writing to files\n",
    "\n",
    "# Create a shopping list\n",
    "shopping_list = [\n",
    "    \"Milk\",\n",
    "    \"Bread\",\n",
    "    \"Eggs\",\n",
    "    \"Cheese\",\n",
    "    \"Apples\"\n",
    "]\n",
    "\n",
    "# Write to file\n",
    "with open(\"shopping_list.txt\", \"w\") as file:\n",
    "    file.write(\"My Shopping List\\n\")\n",
    "    file.write(\"================\\n\\n\")\n",
    "    \n",
    "    for item in shopping_list:\n",
    "        file.write(f\"- {item}\\n\")\n",
    "\n",
    "print(\"Shopping list saved!\")\n",
    "\n",
    "# Read it back to verify\n",
    "with open(\"shopping_list.txt\", \"r\") as file:\n",
    "    print(\"File contents:\")\n",
    "    print(file.read())"
   ]
  },
  {
   "cell_type": "code",
   "execution_count": 4,
   "metadata": {},
   "outputs": [
    {
     "name": "stdout",
     "output_type": "stream",
     "text": [
      "Items added to shopping list!\n",
      "Updated shopping list:\n",
      "My Shopping List\n",
      "================\n",
      "\n",
      "- Milk\n",
      "- Bread\n",
      "- Eggs\n",
      "- Cheese\n",
      "- Apples\n",
      "\n",
      "- Bananas (added later)\n",
      "- Orange juice (added later)\n",
      "\n"
     ]
    }
   ],
   "source": [
    "# Appending to files\n",
    "\n",
    "# Add more items to our shopping list\n",
    "with open(\"shopping_list.txt\", \"a\") as file:\n",
    "    file.write(\"\\n- Bananas (added later)\\n\")\n",
    "    file.write(\"- Orange juice (added later)\\n\")\n",
    "\n",
    "print(\"Items added to shopping list!\")\n",
    "\n",
    "# Read the updated file\n",
    "with open(\"shopping_list.txt\", \"r\") as file:\n",
    "    print(\"Updated shopping list:\")\n",
    "    print(file.read())"
   ]
  },
  {
   "cell_type": "markdown",
   "metadata": {},
   "source": [
    "## 🚨 Error Handling with Try/Except\n",
    "\n",
    "Errors happen! Python's try/except lets your program handle mistakes gracefully instead of crashing."
   ]
  },
  {
   "cell_type": "code",
   "execution_count": 5,
   "metadata": {},
   "outputs": [
    {
     "name": "stdout",
     "output_type": "stream",
     "text": [
      "10 ÷ 2 = 5.0\n",
      "Error: Cannot divide by zero!\n",
      "10 ÷ 0 = None\n",
      "15 ÷ 3 = 5.0\n"
     ]
    }
   ],
   "source": [
    "# Basic error handling\n",
    "\n",
    "def safe_divide(a, b):\n",
    "    \"\"\"Divide two numbers safely\"\"\"\n",
    "    try:\n",
    "        result = a / b\n",
    "        return result\n",
    "    except ZeroDivisionError:\n",
    "        print(\"Error: Cannot divide by zero!\")\n",
    "        return None\n",
    "\n",
    "# Test the function\n",
    "print(\"10 ÷ 2 =\", safe_divide(10, 2))\n",
    "print(\"10 ÷ 0 =\", safe_divide(10, 0))\n",
    "print(\"15 ÷ 3 =\", safe_divide(15, 3))"
   ]
  },
  {
   "cell_type": "code",
   "execution_count": 6,
   "metadata": {},
   "outputs": [
    {
     "name": "stdout",
     "output_type": "stream",
     "text": [
      "File read successfully!\n",
      "Error: File 'nonexistent.txt' not found!\n",
      "File reading failed as expected.\n"
     ]
    }
   ],
   "source": [
    "# Handling file errors\n",
    "\n",
    "def read_file_safely(filename):\n",
    "    \"\"\"Read a file safely with error handling\"\"\"\n",
    "    try:\n",
    "        with open(filename, \"r\") as file:\n",
    "            content = file.read()\n",
    "            return content\n",
    "    except FileNotFoundError:\n",
    "        print(f\"Error: File '{filename}' not found!\")\n",
    "        return None\n",
    "    except PermissionError:\n",
    "        print(f\"Error: No permission to read '{filename}'!\")\n",
    "        return None\n",
    "    except Exception as e:\n",
    "        print(f\"Unexpected error reading file: {e}\")\n",
    "        return None\n",
    "\n",
    "# Test with existing file\n",
    "content = read_file_safely(\"sample.txt\")\n",
    "if content:\n",
    "    print(\"File read successfully!\")\n",
    "\n",
    "# Test with non-existent file\n",
    "content = read_file_safely(\"nonexistent.txt\")\n",
    "if content is None:\n",
    "    print(\"File reading failed as expected.\")"
   ]
  },
  {
   "cell_type": "markdown",
   "metadata": {},
   "source": [
    "**Common Exceptions:**\n",
    "- `FileNotFoundError` - File doesn't exist\n",
    "- `PermissionError` - No read/write permission\n",
    "- `ZeroDivisionError` - Division by zero\n",
    "- `ValueError` - Wrong value type\n",
    "- `TypeError` - Wrong operation for data type"
   ]
  },
  {
   "cell_type": "markdown",
   "metadata": {},
   "source": [
    "## 🛡️ Finally and Else Blocks\n",
    "\n",
    "Advanced error handling with cleanup and success actions!"
   ]
  },
  {
   "cell_type": "code",
   "execution_count": 7,
   "metadata": {},
   "outputs": [
    {
     "name": "stdout",
     "output_type": "stream",
     "text": [
      "File has 25 words\n",
      "File processed successfully!\n",
      "File closed.\n",
      "\n",
      "File 'missing.txt' not found!\n"
     ]
    }
   ],
   "source": [
    "# Complete try/except/else/finally\n",
    "\n",
    "def process_file(filename):\n",
    "    \"\"\"Process a file with complete error handling\"\"\"\n",
    "    file = None\n",
    "    try:\n",
    "        file = open(filename, \"r\")\n",
    "        content = file.read()\n",
    "        \n",
    "        # Process the content\n",
    "        word_count = len(content.split())\n",
    "        print(f\"File has {word_count} words\")\n",
    "        \n",
    "    except FileNotFoundError:\n",
    "        print(f\"File '{filename}' not found!\")\n",
    "        \n",
    "    else:\n",
    "        print(\"File processed successfully!\")  # Only runs if no exception\n",
    "        \n",
    "    finally:\n",
    "        if file:\n",
    "            file.close()  # Always runs, even if error occurred\n",
    "            print(\"File closed.\")\n",
    "\n",
    "# Test with existing file\n",
    "process_file(\"sample.txt\")\n",
    "\n",
    "print()\n",
    "\n",
    "# Test with non-existent file\n",
    "process_file(\"missing.txt\")"
   ]
  },
  {
   "cell_type": "markdown",
   "metadata": {},
   "source": [
    "**Execution Order:**\n",
    "1. `try` - Attempt the risky operation\n",
    "2. `except` - Handle any errors\n",
    "3. `else` - Run if no errors occurred\n",
    "4. `finally` - Always run (cleanup code)"
   ]
  },
  {
   "cell_type": "markdown",
   "metadata": {},
   "source": [
    "## 🎯 Practical File Operations\n",
    "\n",
    "Real-world examples you'll actually use!"
   ]
  },
  {
   "cell_type": "code",
   "execution_count": 8,
   "metadata": {},
   "outputs": [
    {
     "name": "stdout",
     "output_type": "stream",
     "text": [
      "Grades saved to class_grades.txt\n",
      "Loaded grades: {'Alice': 'A', 'Bob': 'B+', 'Charlie': 'A-', 'Diana': 'B'}\n"
     ]
    }
   ],
   "source": [
    "# Student grade tracker\n",
    "\n",
    "def save_grades(filename, grades):\n",
    "    \"\"\"Save student grades to file\"\"\"\n",
    "    try:\n",
    "        with open(filename, \"w\") as file:\n",
    "            file.write(\"Student Grades\\n\")\n",
    "            file.write(\"==============\\n\\n\")\n",
    "            \n",
    "            for student, grade in grades.items():\n",
    "                file.write(f\"{student}: {grade}\\n\")\n",
    "                \n",
    "        print(f\"Grades saved to {filename}\")\n",
    "        \n",
    "    except Exception as e:\n",
    "        print(f\"Error saving grades: {e}\")\n",
    "\n",
    "def load_grades(filename):\n",
    "    \"\"\"Load student grades from file\"\"\"\n",
    "    try:\n",
    "        grades = {}\n",
    "        with open(filename, \"r\") as file:\n",
    "            lines = file.readlines()[3:]  # Skip header\n",
    "            \n",
    "            for line in lines:\n",
    "                if \":\" in line:\n",
    "                    student, grade = line.strip().split(\": \")\n",
    "                    grades[student] = grade\n",
    "                    \n",
    "        return grades\n",
    "        \n",
    "    except FileNotFoundError:\n",
    "        print(f\"Grade file '{filename}' not found\")\n",
    "        return {}\n",
    "    except Exception as e:\n",
    "        print(f\"Error loading grades: {e}\")\n",
    "        return {}\n",
    "\n",
    "# Test the functions\n",
    "student_grades = {\n",
    "    \"Alice\": \"A\",\n",
    "    \"Bob\": \"B+\",\n",
    "    \"Charlie\": \"A-\",\n",
    "    \"Diana\": \"B\"\n",
    "}\n",
    "\n",
    "save_grades(\"class_grades.txt\", student_grades)\n",
    "loaded_grades = load_grades(\"class_grades.txt\")\n",
    "print(\"Loaded grades:\", loaded_grades)"
   ]
  },
  {
   "cell_type": "markdown",
   "metadata": {},
   "source": [
    "## 🏆 Practice Time!\n",
    "\n",
    "**Exercise 1:** Safe file reader"
   ]
  },
  {
   "cell_type": "code",
   "execution_count": 9,
   "metadata": {},
   "outputs": [],
   "source": [
    "# Create a function that:\n",
    "# Takes a filename as parameter\n",
    "# Tries to read the file\n",
    "# Handles FileNotFoundError with a friendly message\n",
    "# Returns the content if successful, None if failed\n",
    "# Test with existing and non-existing files\n",
    "\n",
    "# Write your code here\n",
    "\n"
   ]
  },
  {
   "cell_type": "markdown",
   "metadata": {},
   "source": [
    "**Exercise 2:** Number processor with error handling"
   ]
  },
  {
   "cell_type": "code",
   "execution_count": 10,
   "metadata": {},
   "outputs": [],
   "source": [
    "# Create a function that:\n",
    "# Asks user for two numbers\n",
    "# Handles ValueError if non-numbers entered\n",
    "# Handles ZeroDivisionError if dividing by zero\n",
    "# Performs addition, subtraction, multiplication, division\n",
    "# Shows results or appropriate error messages\n",
    "\n",
    "# Write your code here\n",
    "\n"
   ]
  },
  {
   "cell_type": "markdown",
   "metadata": {},
   "source": [
    "**Exercise 3:** Todo list file manager"
   ]
  },
  {
   "cell_type": "code",
   "execution_count": 11,
   "metadata": {},
   "outputs": [],
   "source": [
    "# Create functions to:\n",
    "# save_todos(filename, todos_list) - Save todos to file\n",
    "# load_todos(filename) - Load todos from file\n",
    "# add_todo(filename, new_todo) - Add todo to existing file\n",
    "# Handle all file errors gracefully\n",
    "# Test all functions\n",
    "\n",
    "# Write your code here\n",
    "\n"
   ]
  },
  {
   "cell_type": "markdown",
   "metadata": {},
   "source": [
    "**Exercise 4:** Configuration file handler"
   ]
  },
  {
   "cell_type": "code",
   "execution_count": 12,
   "metadata": {},
   "outputs": [],
   "source": [
    "# Create a simple config system:\n",
    "# save_config(filename, config_dict) - Save settings\n",
    "# load_config(filename) - Load settings with defaults\n",
    "# Handle file not found (use defaults)\n",
    "# Handle corrupted config files\n",
    "# Test with different scenarios\n",
    "\n",
    "# Write your code here\n",
    "\n"
   ]
  },
  {
   "cell_type": "markdown",
   "metadata": {},
   "source": [
    "## 🎯 What You Learned Today\n",
    "\n",
    "✅ **File Reading:** Opening and reading text files\n",
    "✅ **File Writing:** Creating and writing to files\n",
    "✅ **File Modes:** Read, write, append modes\n",
    "✅ **Error Handling:** Try/except blocks\n",
    "✅ **Exception Types:** Different kinds of errors\n",
    "✅ **Finally Block:** Cleanup code that always runs\n",
    "✅ **Robust Programs:** Handling errors gracefully\n",
    "✅ **File Operations:** Practical file management\n",
    "\n",
    "## 🎉 Congratulations! You've Completed Python Fundamentals!\n",
    "\n",
    "**You've learned:**\n",
    "- ✅ Python basics and data types\n",
    "- ✅ Variables, operations, and logic\n",
    "- ✅ Strings, lists, tuples, dictionaries\n",
    "- ✅ Control flow and loops\n",
    "- ✅ Functions and modular code\n",
    "- ✅ Files and error handling\n",
    "\n",
    "**You're now ready for:** SQL, data analysis, web development, automation, and more!\n",
    "\n",
    "**Keep coding!** The journey has just begun. 🚀\n",
    "\n",
    "---\n",
    "*Created with ❤️ for GRIT learners*"
   ]
  }
 ],
 "metadata": {
  "kernelspec": {
   "display_name": "ML_Python",
   "language": "python",
   "name": "python3"
  },
  "language_info": {
   "codemirror_mode": {
    "name": "ipython",
    "version": 3
   },
   "file_extension": ".py",
   "mimetype": "text/x-python",
   "name": "python",
   "nbconvert_exporter": "python",
   "pygments_lexer": "ipython3",
   "version": "3.11.7"
  }
 },
 "nbformat": 4,
 "nbformat_minor": 4
}
