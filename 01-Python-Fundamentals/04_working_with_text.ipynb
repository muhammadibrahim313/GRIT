{
 "cells": [
  {
   "cell_type": "markdown",
   "metadata": {},
   "source": [
    "# 📝 Day 4: Working with Text (Strings)\n",
    "\n",
    "**Learning Objectives:**\n",
    "- Understand what strings are and how to create them\n",
    "- Learn to combine and manipulate text\n",
    "- Master string methods and formatting\n",
    "- Practice text processing techniques\n",
    "\n",
    "**Why this matters:** Most real-world programs work with text! Names, messages, data - everything involves strings. Learning to work with text is like learning to read and write in programming!\n",
    "\n",
    "---"
   ]
  },
  {
   "cell_type": "markdown",
   "metadata": {},
   "source": [
    "## 📄 What are Strings?\n",
    "\n",
    "Strings are sequences of characters - letters, numbers, symbols, spaces. Think of them as words or sentences that computers can understand.\n",
    "\n",
    "In Python, strings are created using:\n",
    "- Single quotes: `'Hello'`\n",
    "- Double quotes: `\"Hello\"`\n",
    "- Triple quotes: `\"\"\"Hello\"\"\"` (for multi-line text)"
   ]
  },
  {
   "cell_type": "code",
   "execution_count": null,
   "metadata": {},
   "outputs": [],
   "source": [
    "# Different ways to create strings\n",
    "\n",
    "# Single quotes\n",
    "name = 'Alice'\n",
    "print(\"Single quotes:\", name)\n",
    "\n",
    "# Double quotes\n",
    "greeting = \"Hello, World!\"\n",
    "print(\"Double quotes:\", greeting)\n",
    "\n",
    "# Triple quotes for multi-line\n",
    "story = \"\"\"Once upon a time,\n",
    "there was a programmer\n",
    "who loved Python.\"\"\"\n",
    "print(\"Multi-line:\")\n",
    "print(story)"
   ]
  },
  {
   "cell_type": "markdown",
   "metadata": {},
   "source": [
    "**When to use each:**\n",
    "- Single quotes: Simple text\n",
    "- Double quotes: Text with apostrophes (don't, can't)\n",
    "- Triple quotes: Multi-line text or text with both quote types"
   ]
  },
  {
   "cell_type": "markdown",
   "metadata": {},
   "source": [
    "## 🔗 Combining Strings (Concatenation)\n",
    "\n",
    "You can join strings together using the `+` operator, just like adding numbers!"
   ]
  },
  {
   "cell_type": "code",
   "execution_count": null,
   "metadata": {},
   "outputs": [],
   "source": [
    "# Combining strings\n",
    "\n",
    "first_name = \"John\"\n",
    "last_name = \"Doe\"\n",
    "\n",
    "# Method 1: Using +\n",
    "full_name = first_name + \" \" + last_name\n",
    "print(\"Full name (+):\", full_name)\n",
    "\n",
    "# Method 2: Using f-strings (modern way)\n",
    "full_name2 = f\"{first_name} {last_name}\"\n",
    "print(\"Full name (f-string):\", full_name2)\n",
    "\n",
    "# Method 3: Using .format()\n",
    "full_name3 = \"{} {}\".format(first_name, last_name)\n",
    "print(\"Full name (format):\", full_name3)"
   ]
  },
  {
   "cell_type": "markdown",
   "metadata": {},
   "source": [
    "**f-strings are the most modern and readable way!** They're like fill-in-the-blank stories."
   ]
  },
  {
   "cell_type": "markdown",
   "metadata": {},
   "source": [
    "## 🔍 String Methods\n",
    "\n",
    "Strings have built-in methods (tools) for common tasks:\n",
    "\n",
    "- `.upper()` - Make uppercase\n",
    "- `.lower()` - Make lowercase\n",
    "- `.title()` - Capitalize each word\n",
    "- `.strip()` - Remove spaces\n",
    "- `.replace()` - Replace text\n",
    "- `.split()` - Split into list"
   ]
  },
  {
   "cell_type": "code",
   "execution_count": null,
   "metadata": {},
   "outputs": [],
   "source": [
    "# String methods\n",
    "\n",
    "text = \"  hello world!  \"\n",
    "\n",
    "# Change case\n",
    "print(\"Upper:\", text.upper())\n",
    "print(\"Lower:\", text.lower())\n",
    "print(\"Title:\", text.title())\n",
    "\n",
    "# Remove spaces\n",
    "print(\"Stripped:\", text.strip())\n",
    "\n",
    "# Replace text\n",
    "message = \"I like cats\"\n",
    "print(\"Replaced:\", message.replace(\"cats\", \"dogs\"))"
   ]
  },
  {
   "cell_type": "markdown",
   "metadata": {},
   "source": [
    "## 🎨 Advanced String Formatting\n",
    "\n",
    "Make your text look professional with formatting!"
   ]
  },
  {
   "cell_type": "code",
   "execution_count": null,
   "metadata": {},
   "outputs": [],
   "source": [
    "# Advanced formatting with f-strings\n",
    "\n",
    "name = \"Sarah\"\n",
    "age = 28\n",
    "city = \"Boston\"\n",
    "salary = 75000\n",
    "\n",
    "# Basic f-string\n",
    "print(f\"Hello, my name is {name}!\")\n",
    "\n",
    "# With multiple variables\n",
    "print(f\"{name} is {age} years old and lives in {city}.\")\n",
    "\n",
    "# With number formatting\n",
    "print(f\"{name} earns ${salary:,.0f} per year.\")\n",
    "\n",
    "# With calculations\n",
    "print(f\"In 5 years, {name} will be {age + 5} years old.\")"
   ]
  },
  {
   "cell_type": "markdown",
   "metadata": {},
   "source": [
    "## 📊 String Length and Indexing\n",
    "\n",
    "Strings are like trains - each character has a position number (index) starting from 0."
   ]
  },
  {
   "cell_type": "code",
   "execution_count": null,
   "metadata": {},
   "outputs": [],
   "source": [
    "# String indexing\n",
    "\n",
    "word = \"Python\"\n",
    "print(f\"Word: {word}\")\n",
    "print(f\"Length: {len(word)} characters\")\n",
    "\n",
    "# Access individual characters\n",
    "print(f\"First letter: {word[0]}\")    # P\n",
    "print(f\"Second letter: {word[1]}\")   # y\n",
    "print(f\"Last letter: {word[-1]}\")    # n\n",
    "print(f\"Second to last: {word[-2]}\") # o\n",
    "\n",
    "# Slices (parts of string)\n",
    "print(f\"First 3 letters: {word[0:3]}\")  # Pyt\n",
    "print(f\"Last 3 letters: {word[-3:]}\")  # hon"
   ]
  },
  {
   "cell_type": "markdown",
   "metadata": {},
   "source": [
    "**Index Rules:**\n",
    "- Starts at 0 (not 1!)\n",
    "- Negative numbers count from the end\n",
    "- `[start:end]` gives characters from start to end-1"
   ]
  },
  {
   "cell_type": "markdown",
   "metadata": {},
   "source": [
    "## 🏆 Practice Time!\n",
    "\n",
    "**Exercise 1:** Personal introduction"
   ]
  },
  {
   "cell_type": "code",
   "execution_count": null,
   "metadata": {},
   "outputs": [],
   "source": [
    "# Create variables: name, age, city, hobby\n",
    "# Use f-string to create introduction: \"Hi, I'm [name] from [city]. I'm [age] and love [hobby]!\"\n",
    "\n",
    "# Write your code here\n",
    "\n"
   ]
  },
  {
   "cell_type": "markdown",
   "metadata": {},
   "source": [
    "**Exercise 2:** Text processing"
   ]
  },
  {
   "cell_type": "code",
   "execution_count": null,
   "metadata": {},
   "outputs": [],
   "source": [
    "# text = \"  PYTHON programming is FUN!  \"\n",
    "# 1. Remove spaces, make lowercase\n",
    "# 2. Replace \"python\" with \"JavaScript\"\n",
    "# 3. Count how many 'o's are in the result\n",
    "\n",
    "# Write your code here\n",
    "\n"
   ]
  },
  {
   "cell_type": "markdown",
   "metadata": {},
   "source": [
    "**Exercise 3:** String slicing"
   ]
  },
  {
   "cell_type": "code",
   "execution_count": null,
   "metadata": {},
   "outputs": [],
   "source": [
    "# word = \"Programming\"\n",
    "# Extract: first 3 letters, last 3 letters, middle letters (without first/last 2)\n",
    "\n",
    "# Write your code here\n",
    "\n"
   ]
  },
  {
   "cell_type": "markdown",
   "metadata": {},
   "source": [
    "**Exercise 4:** Email formatter"
   ]
  },
  {
   "cell_type": "code",
   "execution_count": null,
   "metadata": {},
   "outputs": [],
   "source": [
    "# first = \"john\", last = \"doe\", domain = \"company.com\"\n",
    "# Create email: \"john.doe@company.com\"\n",
    "# Also create: \"John Doe <john.doe@company.com>\"\n",
    "\n",
    "# Write your code here\n",
    "\n"
   ]
  },
  {
   "cell_type": "markdown",
   "metadata": {},
   "source": [
    "## 🎯 What You Learned Today\n",
    "\n",
    "✅ **Strings:** Text data in Python\n",
    "✅ **Concatenation:** Combining strings with + and f-strings\n",
    "✅ **String Methods:** upper(), lower(), strip(), replace(), split()\n",
    "✅ **Formatting:** f-strings for beautiful text\n",
    "✅ **Indexing:** Accessing characters by position\n",
    "✅ **Slicing:** Extracting parts of strings\n",
    "\n",
    "## 🚀 What's Next?\n",
    "\n",
    "Tomorrow we'll learn about **lists** - how to store collections of items and work with them like a pro!\n",
    "\n",
    "**Strings are everywhere in programming!** Keep practicing text manipulation. 💪\n",
    "\n",
    "---\n",
    "*Created with ❤️ for GRIT learners*"
   ]
  }
 ],
 "metadata": {
  "kernelspec": {
   "display_name": "Python 3",
   "language": "python",
   "name": "python3"
  },
  "language_info": {
   "codemirror_mode": {
    "name": "ipython",
    "version": 3
   },
   "file_extension": ".py",
   "mimetype": "text/x-python",
   "name": "python",
   "nbconvert_exporter": "python",
   "pygments_lexer": "ipython3",
   "version": "3.8.5"
  }
 },
 "nbformat": 4,
 "nbformat_minor": 4
}