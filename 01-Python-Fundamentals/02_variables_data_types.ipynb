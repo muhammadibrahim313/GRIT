{
 "cells": [
  {
   "cell_type": "markdown",
   "metadata": {},
   "source": [
    "# 📦 Day 2: Variables and Data Types\n",
    "\n",
    "**Learning Objectives:**\n",
    "- Understand what variables are and how to use them\n",
    "- Learn about different types of data in Python\n",
    "- Practice storing and retrieving information\n",
    "- Discover how to check data types\n",
    "\n",
    "**Why this matters:** Variables are like labeled boxes where you can store information. Just like you put your toys in different boxes, Python lets you store different kinds of information in variables!\n",
    "\n",
    "---"
   ]
  },
  {
   "cell_type": "markdown",
   "metadata": {},
   "source": [
    "## 🏷️ What are Variables?\n",
    "\n",
    "Think of variables like **labeled boxes** in your room:\n",
    "- You can put things in boxes\n",
    "- Each box has a name/label\n",
    "- You can take things out when you need them\n",
    "- You can change what's inside a box\n",
    "\n",
    "![Variables as Boxes](https://i.imgur.com/8JlqZJf.png)\n",
    "\n",
    "In Python, variables store information so you can use it later!"
   ]
  },
  {
   "cell_type": "code",
   "execution_count": 1,
   "metadata": {},
   "outputs": [
    {
     "name": "stdout",
     "output_type": "stream",
     "text": [
      "Hello, my name is Alice\n",
      "I am 25 years old\n",
      "I live in New York\n"
     ]
    }
   ],
   "source": [
    "# Creating your first variables\n",
    "# Use the = sign to store information\n",
    "\n",
    "name = \"Alice\"  # Store a name\n",
    "age = 25        # Store a number\n",
    "city = \"New York\"  # Store a city name\n",
    "\n",
    "# Now let's use our variables\n",
    "print(\"Hello, my name is\", name)\n",
    "print(\"I am\", age, \"years old\")\n",
    "print(\"I live in\", city)"
   ]
  },
  {
   "cell_type": "markdown",
   "metadata": {},
   "source": [
    "**What happened?** We created variables to remember information, then used them in our print statements. Much easier than typing everything out each time!"
   ]
  },
  {
   "cell_type": "markdown",
   "metadata": {},
   "source": [
    "## 📊 Data Types: Different Kinds of Information\n",
    "\n",
    "Python can store different types of information, just like different boxes hold different things:\n",
    "\n",
    "- **Text (Strings)**: Words and sentences\n",
    "- **Numbers (Integers)**: Whole numbers like 1, 2, 100\n",
    "- **Decimal Numbers (Floats)**: Numbers with decimals like 3.14, 2.5\n",
    "- **True/False (Booleans)**: Yes or No answers"
   ]
  },
  {
   "cell_type": "code",
   "execution_count": 2,
   "metadata": {},
   "outputs": [
    {
     "name": "stdout",
     "output_type": "stream",
     "text": [
      "Favorite food: pizza\n",
      "Number of siblings: 2\n",
      "Height: 5.6 feet\n",
      "Likes coding: True\n"
     ]
    }
   ],
   "source": [
    "# Different data types\n",
    "\n",
    "# Strings (text)\n",
    "favorite_food = \"pizza\"\n",
    "hobby = \"reading books\"\n",
    "\n",
    "# Integers (whole numbers)\n",
    "siblings = 2\n",
    "favorite_number = 7\n",
    "\n",
    "# Floats (decimal numbers)\n",
    "height = 5.6\n",
    "temperature = 72.5\n",
    "\n",
    "# Booleans (True/False)\n",
    "likes_coding = True\n",
    "has_pet = False\n",
    "\n",
    "# Let's see what we stored\n",
    "print(\"Favorite food:\", favorite_food)\n",
    "print(\"Number of siblings:\", siblings)\n",
    "print(\"Height:\", height, \"feet\")\n",
    "print(\"Likes coding:\", likes_coding)"
   ]
  },
  {
   "cell_type": "markdown",
   "metadata": {},
   "source": [
    "## 🔍 Checking Data Types\n",
    "\n",
    "Sometimes you need to know what type of data is stored in a variable. Python has a built-in function called `type()` that tells you!"
   ]
  },
  {
   "cell_type": "code",
   "execution_count": 3,
   "metadata": {},
   "outputs": [
    {
     "name": "stdout",
     "output_type": "stream",
     "text": [
      "Name is: <class 'str'>\n",
      "Age is: <class 'int'>\n",
      "Weight is: <class 'float'>\n",
      "Is student is: <class 'bool'>\n"
     ]
    }
   ],
   "source": [
    "# Checking data types\n",
    "\n",
    "name = \"John\"\n",
    "age = 30\n",
    "weight = 150.5\n",
    "is_student = True\n",
    "\n",
    "# Use type() to check what kind of data each variable holds\n",
    "print(\"Name is:\", type(name))\n",
    "print(\"Age is:\", type(age))\n",
    "print(\"Weight is:\", type(weight))\n",
    "print(\"Is student is:\", type(is_student))"
   ]
  },
  {
   "cell_type": "markdown",
   "metadata": {},
   "source": [
    "**Data Type Results:**\n",
    "- `<class 'str'>` = String (text)\n",
    "- `<class 'int'>` = Integer (whole number)\n",
    "- `<class 'float'>` = Float (decimal number)\n",
    "- `<class 'bool'>` = Boolean (True/False)"
   ]
  },
  {
   "cell_type": "markdown",
   "metadata": {},
   "source": [
    "## 🔄 Changing Variables\n",
    "\n",
    "Variables can change their contents, just like you can put different things in the same box!"
   ]
  },
  {
   "cell_type": "code",
   "execution_count": 4,
   "metadata": {},
   "outputs": [
    {
     "name": "stdout",
     "output_type": "stream",
     "text": [
      "Current mood: happy\n",
      "New mood: excited\n",
      "Score: 95 <class 'int'>\n",
      "Score: Excellent! <class 'str'>\n"
     ]
    }
   ],
   "source": [
    "# Changing variable values\n",
    "\n",
    "mood = \"happy\"\n",
    "print(\"Current mood:\", mood)\n",
    "\n",
    "# Change the mood\n",
    "mood = \"excited\"\n",
    "print(\"New mood:\", mood)\n",
    "\n",
    "# You can even change the data type!\n",
    "score = 95\n",
    "print(\"Score:\", score, type(score))\n",
    "\n",
    "# Change to a string\n",
    "score = \"Excellent!\"\n",
    "print(\"Score:\", score, type(score))"
   ]
  },
  {
   "cell_type": "markdown",
   "metadata": {},
   "source": [
    "**Important:** When you change a variable, the old value is completely replaced with the new value."
   ]
  },
  {
   "cell_type": "markdown",
   "metadata": {},
   "source": [
    "## 📝 Variable Naming Rules\n",
    "\n",
    "Variable names have some rules:\n",
    "- Start with a letter or underscore (_)\n",
    "- Can contain letters, numbers, and underscores\n",
    "- Cannot contain spaces\n",
    "- Cannot be Python keywords (like `print`, `type`)\n",
    "- Use lowercase with underscores: `my_variable_name`"
   ]
  },
  {
   "cell_type": "code",
   "execution_count": 5,
   "metadata": {},
   "outputs": [
    {
     "name": "stdout",
     "output_type": "stream",
     "text": [
      "Maria Garcia\n",
      "Age: 28\n",
      "Is teacher: True\n"
     ]
    }
   ],
   "source": [
    "# Good variable names\n",
    "first_name = \"Maria\"\n",
    "last_name = \"Garcia\"\n",
    "age_in_years = 28\n",
    "is_teacher = True\n",
    "\n",
    "# Print them all\n",
    "print(first_name, last_name)\n",
    "print(\"Age:\", age_in_years)\n",
    "print(\"Is teacher:\", is_teacher)"
   ]
  },
  {
   "cell_type": "markdown",
   "metadata": {},
   "source": [
    "## 🏆 Practice Time!\n",
    "\n",
    "**Exercise 1:** Create variables for your personal information"
   ]
  },
  {
   "cell_type": "code",
   "execution_count": 6,
   "metadata": {},
   "outputs": [],
   "source": [
    "# Create variables for:\n",
    "# - Your name (string)\n",
    "# - Your age (integer)\n",
    "# - Your height in feet (float)\n",
    "# - Whether you like pizza (boolean)\n",
    "\n",
    "# Write your code here\n",
    "\n"
   ]
  },
  {
   "cell_type": "markdown",
   "metadata": {},
   "source": [
    "**Exercise 2:** Print your information using the variables"
   ]
  },
  {
   "cell_type": "code",
   "execution_count": 7,
   "metadata": {},
   "outputs": [],
   "source": [
    "# Use print() to display all your information\n",
    "# Hint: Use the variables you created above\n",
    "\n",
    "# Write your code here\n",
    "\n"
   ]
  },
  {
   "cell_type": "markdown",
   "metadata": {},
   "source": [
    "**Exercise 3:** Check data types of your variables"
   ]
  },
  {
   "cell_type": "code",
   "execution_count": 8,
   "metadata": {},
   "outputs": [],
   "source": [
    "# Use type() to check what kind of data each variable holds\n",
    "# Hint: Use the variables you created in exercise 1\n",
    "\n",
    "# Write your code here\n",
    "\n"
   ]
  },
  {
   "cell_type": "markdown",
   "metadata": {},
   "source": [
    "**Exercise 4:** Change a variable's value"
   ]
  },
  {
   "cell_type": "code",
   "execution_count": 9,
   "metadata": {},
   "outputs": [],
   "source": [
    "# Create a variable, print it, then change it and print again\n",
    "# Example: weather = \"sunny\", then change to \"rainy\"\n",
    "\n",
    "# Write your code here\n",
    "\n"
   ]
  },
  {
   "cell_type": "markdown",
   "metadata": {},
   "source": [
    "## 🎯 What You Learned Today\n",
    "\n",
    "✅ **Variables:** Labeled containers for storing information\n",
    "✅ **Data Types:** Strings, integers, floats, and booleans\n",
    "✅ **type() Function:** Check what kind of data a variable holds\n",
    "✅ **Variable Names:** Rules for naming your variables\n",
    "✅ **Changing Variables:** How to update variable values\n",
    "\n",
    "## 🚀 What's Next?\n",
    "\n",
    "Tomorrow we'll learn about **basic operations** - how to do math, make comparisons, and work with logical operations in Python!\n",
    "\n",
    "**Keep practicing with variables!** They're the foundation of all programming. 💪\n",
    "\n",
    "---\n",
    "*Created with ❤️ for GRIT learners*"
   ]
  }
 ],
 "metadata": {
  "kernelspec": {
   "display_name": "ML_Python",
   "language": "python",
   "name": "python3"
  },
  "language_info": {
   "codemirror_mode": {
    "name": "ipython",
    "version": 3
   },
   "file_extension": ".py",
   "mimetype": "text/x-python",
   "name": "python",
   "nbconvert_exporter": "python",
   "pygments_lexer": "ipython3",
   "version": "3.11.7"
  }
 },
 "nbformat": 4,
 "nbformat_minor": 4
}
