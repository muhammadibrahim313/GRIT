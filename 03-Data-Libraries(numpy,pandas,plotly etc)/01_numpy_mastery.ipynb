{
 "cells": [
  {
   "cell_type": "markdown",
   "metadata": {},
   "source": [
    "# 🚀 NumPy Mastery: The Foundation of Data Science\n",
    "\n",
    "<img src='https://numpy.org/images/logo.svg' width='300' alt='NumPy Logo'>\n",
    "\n",
    "## 📚 What You'll Master Today\n",
    "\n",
    "NumPy (Numerical Python) is the **foundation of the entire Python data science ecosystem**. Think of it as the engine that powers everything from pandas to scikit-learn to TensorFlow!\n",
    "\n",
    "### 🎯 Why NumPy is Essential:\n",
    "- **10-100x faster** than Python lists for numerical operations\n",
    "- **Memory efficient** - stores data in contiguous blocks\n",
    "- **Vectorized operations** - no need for loops!\n",
    "- **Broadcasting** - smart operations between different shaped arrays\n",
    "- **Foundation for ML** - all ML libraries use NumPy arrays\n",
    "\n",
    "### 📊 What We'll Cover:\n",
    "1. **Array Creation & Basics** - Your first steps\n",
    "2. **Array Operations** - Math at lightning speed\n",
    "3. **Indexing & Slicing** - Access any data point\n",
    "4. **Broadcasting** - The magic of NumPy\n",
    "5. **Linear Algebra** - Matrix operations\n",
    "6. **Random Numbers** - Statistical simulations\n",
    "7. **Advanced Techniques** - Pro-level skills\n",
    "8. **Real-World Projects** - Apply everything!\n",
    "\n",
    "---\n",
    "\n",
    "## 🎬 Let's Begin!"
   ]
  },
  {
   "cell_type": "code",
   "execution_count": 1,
   "metadata": {},
   "outputs": [
    {
     "name": "stdout",
     "output_type": "stream",
     "text": [
      "NumPy Version: 1.26.4\n",
      "\n",
      "🎉 NumPy loaded successfully! Let's dive in!\n"
     ]
    }
   ],
   "source": [
    "# Import NumPy - the standard convention is 'np'\n",
    "import numpy as np\n",
    "\n",
    "# Check version\n",
    "print(f\"NumPy Version: {np.__version__}\")\n",
    "print(\"\\n🎉 NumPy loaded successfully! Let's dive in!\")"
   ]
  },
  {
   "cell_type": "markdown",
   "metadata": {},
   "source": [
    "---\n",
    "\n",
    "## 📌 Section 1: Array Creation & Basics\n",
    "\n",
    "### 🔍 Understanding NumPy Arrays\n",
    "\n",
    "Think of NumPy arrays as **supercharged Python lists**. While lists are like boxes that can hold anything, NumPy arrays are like **specialized containers** optimized for numbers.\n",
    "\n",
    "<img src='https://miro.medium.com/max/1400/1*Ikn1J6siiiCSk4ivYUhdgw.png' width='600' alt='Array vs List'>"
   ]
  },
  {
   "cell_type": "code",
   "execution_count": 2,
   "metadata": {},
   "outputs": [
    {
     "name": "stdout",
     "output_type": "stream",
     "text": [
      "📦 Creating Arrays from Lists\n",
      "========================================\n",
      "Python List: [1, 2, 3, 4, 5]\n",
      "NumPy Array: [1 2 3 4 5]\n",
      "Type: <class 'numpy.ndarray'>\n",
      "Data Type: int32\n"
     ]
    }
   ],
   "source": [
    "# 1.1 Creating Arrays from Lists\n",
    "print(\"📦 Creating Arrays from Lists\\n\" + \"=\"*40)\n",
    "\n",
    "# Simple 1D array (vector)\n",
    "python_list = [1, 2, 3, 4, 5]\n",
    "numpy_array = np.array(python_list)\n",
    "\n",
    "print(f\"Python List: {python_list}\")\n",
    "print(f\"NumPy Array: {numpy_array}\")\n",
    "print(f\"Type: {type(numpy_array)}\")\n",
    "print(f\"Data Type: {numpy_array.dtype}\")"
   ]
  },
  {
   "cell_type": "code",
   "execution_count": 3,
   "metadata": {},
   "outputs": [
    {
     "name": "stdout",
     "output_type": "stream",
     "text": [
      "🎯 2D Arrays (Matrices)\n",
      "========================================\n",
      "Matrix:\n",
      "[[1 2 3]\n",
      " [4 5 6]\n",
      " [7 8 9]]\n",
      "\n",
      "Shape: (3, 3) (rows, columns)\n",
      "Dimensions: 2D\n",
      "Total elements: 9\n"
     ]
    }
   ],
   "source": [
    "# 1.2 Creating 2D Arrays (Matrices)\n",
    "print(\"🎯 2D Arrays (Matrices)\\n\" + \"=\"*40)\n",
    "\n",
    "# Think of this as a spreadsheet or table\n",
    "matrix = np.array([\n",
    "    [1, 2, 3],\n",
    "    [4, 5, 6],\n",
    "    [7, 8, 9]\n",
    "])\n",
    "\n",
    "print(\"Matrix:\")\n",
    "print(matrix)\n",
    "print(f\"\\nShape: {matrix.shape} (rows, columns)\")\n",
    "print(f\"Dimensions: {matrix.ndim}D\")\n",
    "print(f\"Total elements: {matrix.size}\")"
   ]
  },
  {
   "cell_type": "code",
   "execution_count": 4,
   "metadata": {},
   "outputs": [
    {
     "name": "stdout",
     "output_type": "stream",
     "text": [
      "🛠️ Array Creation Functions\n",
      "========================================\n",
      "Zeros array:\n",
      "[[0. 0. 0. 0.]\n",
      " [0. 0. 0. 0.]\n",
      " [0. 0. 0. 0.]]\n",
      "\n",
      "Ones array:\n",
      "[[1. 1. 1.]\n",
      " [1. 1. 1.]]\n",
      "\n",
      "Identity matrix:\n",
      "[[1. 0. 0. 0.]\n",
      " [0. 1. 0. 0.]\n",
      " [0. 0. 1. 0.]\n",
      " [0. 0. 0. 1.]]\n",
      "\n",
      "Range array: [0 2 4 6 8]\n",
      "Linspace array: [0.   0.25 0.5  0.75 1.  ]\n"
     ]
    }
   ],
   "source": [
    "# 1.3 Array Creation Functions - The Power Tools!\n",
    "print(\"🛠️ Array Creation Functions\\n\" + \"=\"*40)\n",
    "\n",
    "# Zeros - Initialize with zeros\n",
    "zeros = np.zeros((3, 4))  # 3 rows, 4 columns\n",
    "print(\"Zeros array:\")\n",
    "print(zeros)\n",
    "\n",
    "# Ones - Initialize with ones\n",
    "ones = np.ones((2, 3))\n",
    "print(\"\\nOnes array:\")\n",
    "print(ones)\n",
    "\n",
    "# Identity matrix - diagonal ones\n",
    "identity = np.eye(4)\n",
    "print(\"\\nIdentity matrix:\")\n",
    "print(identity)\n",
    "\n",
    "# Range arrays\n",
    "range_array = np.arange(0, 10, 2)  # start, stop, step\n",
    "print(f\"\\nRange array: {range_array}\")\n",
    "\n",
    "# Linspace - evenly spaced numbers\n",
    "linspace_array = np.linspace(0, 1, 5)  # 5 numbers from 0 to 1\n",
    "print(f\"Linspace array: {linspace_array}\")"
   ]
  },
  {
   "cell_type": "code",
   "execution_count": 5,
   "metadata": {},
   "outputs": [
    {
     "name": "stdout",
     "output_type": "stream",
     "text": [
      "💎 Data Types in NumPy\n",
      "========================================\n",
      "Integer array: [1 2 3], dtype: int32\n",
      "Float array: [1. 2. 3.], dtype: float64\n",
      "Complex array: [1.+2.j 3.+4.j], dtype: complex128\n",
      "\n",
      "Memory usage (bytes):\n",
      "int32: 12 bytes\n",
      "float64: 24 bytes\n"
     ]
    }
   ],
   "source": [
    "# 1.4 Data Types - Precision Matters!\n",
    "print(\"💎 Data Types in NumPy\\n\" + \"=\"*40)\n",
    "\n",
    "# Different data types for different needs\n",
    "int_array = np.array([1, 2, 3], dtype=np.int32)\n",
    "float_array = np.array([1, 2, 3], dtype=np.float64)\n",
    "complex_array = np.array([1+2j, 3+4j], dtype=np.complex128)\n",
    "\n",
    "print(f\"Integer array: {int_array}, dtype: {int_array.dtype}\")\n",
    "print(f\"Float array: {float_array}, dtype: {float_array.dtype}\")\n",
    "print(f\"Complex array: {complex_array}, dtype: {complex_array.dtype}\")\n",
    "\n",
    "# Memory usage comparison\n",
    "print(f\"\\nMemory usage (bytes):\")\n",
    "print(f\"int32: {int_array.nbytes} bytes\")\n",
    "print(f\"float64: {float_array.nbytes} bytes\")"
   ]
  },
  {
   "cell_type": "markdown",
   "metadata": {},
   "source": [
    "### 🏋️ Exercise 1: Array Creation Challenge\n",
    "\n",
    "Create the following arrays:\n",
    "1. A 5x5 matrix filled with the value 7\n",
    "2. An array of even numbers from 0 to 20\n",
    "3. A 3x3 matrix with random integers between 1 and 10"
   ]
  },
  {
   "cell_type": "code",
   "execution_count": 6,
   "metadata": {},
   "outputs": [
    {
     "name": "stdout",
     "output_type": "stream",
     "text": [
      "5x5 matrix of 7s:\n",
      "[[7 7 7 7 7]\n",
      " [7 7 7 7 7]\n",
      " [7 7 7 7 7]\n",
      " [7 7 7 7 7]\n",
      " [7 7 7 7 7]]\n",
      "\n",
      "Even numbers: [ 0  2  4  6  8 10 12 14 16 18 20]\n",
      "\n",
      "Random 3x3 matrix:\n",
      "[[ 4 10  7]\n",
      " [ 2  6  6]\n",
      " [ 9  1  2]]\n"
     ]
    }
   ],
   "source": [
    "# Your solution here:\n",
    "# Hint: Use np.full(), np.arange(), and np.random.randint()\n",
    "\n",
    "# Solution:\n",
    "matrix_7 = np.full((5, 5), 7)\n",
    "even_numbers = np.arange(0, 21, 2)\n",
    "random_matrix = np.random.randint(1, 11, size=(3, 3))\n",
    "\n",
    "print(\"5x5 matrix of 7s:\")\n",
    "print(matrix_7)\n",
    "print(f\"\\nEven numbers: {even_numbers}\")\n",
    "print(\"\\nRandom 3x3 matrix:\")\n",
    "print(random_matrix)"
   ]
  },
  {
   "cell_type": "markdown",
   "metadata": {},
   "source": [
    "---\n",
    "\n",
    "## 📌 Section 2: Array Operations - Lightning Fast Math\n",
    "\n",
    "### ⚡ Vectorized Operations\n",
    "\n",
    "This is where NumPy shines! No more loops - operations happen on entire arrays at once!"
   ]
  },
  {
   "cell_type": "code",
   "execution_count": 7,
   "metadata": {},
   "outputs": [
    {
     "name": "stdout",
     "output_type": "stream",
     "text": [
      "➕ Basic Arithmetic\n",
      "========================================\n",
      "Array 1: [10 20 30 40 50]\n",
      "Array 2: [1 2 3 4 5]\n",
      "\n",
      "Addition: [11 22 33 44 55]\n",
      "Subtraction: [ 9 18 27 36 45]\n",
      "Multiplication: [ 10  40  90 160 250]\n",
      "Division: [10. 10. 10. 10. 10.]\n",
      "Power: [ 1  4  9 16 25]\n",
      "Modulo: [1 2 0 1 2]\n"
     ]
    }
   ],
   "source": [
    "# 2.1 Basic Arithmetic Operations\n",
    "print(\"➕ Basic Arithmetic\\n\" + \"=\"*40)\n",
    "\n",
    "arr1 = np.array([10, 20, 30, 40, 50])\n",
    "arr2 = np.array([1, 2, 3, 4, 5])\n",
    "\n",
    "print(f\"Array 1: {arr1}\")\n",
    "print(f\"Array 2: {arr2}\")\n",
    "print(f\"\\nAddition: {arr1 + arr2}\")\n",
    "print(f\"Subtraction: {arr1 - arr2}\")\n",
    "print(f\"Multiplication: {arr1 * arr2}\")\n",
    "print(f\"Division: {arr1 / arr2}\")\n",
    "print(f\"Power: {arr2 ** 2}\")\n",
    "print(f\"Modulo: {arr1 % 3}\")"
   ]
  },
  {
   "cell_type": "code",
   "execution_count": null,
   "metadata": {},
   "outputs": [
    {
     "name": "stdout",
     "output_type": "stream",
     "text": [
      "🏎️ Speed Test: NumPy vs Python Lists\n",
      "========================================\n",
      "Python List Time: 0.9147 seconds\n",
      "NumPy Array Time: 0.0090 seconds\n",
      "\n",
      "🚀 NumPy is 101.2x faster!\n"
     ]
    }
   ],
   "source": [
    "#   2.2 Speed Comparison: NumPy vs Python Lists\n",
    "import time\n",
    "\n",
    "print(\"🏎️ Speed Test: NumPy vs Python Lists\\n\" + \"=\"*40)\n",
    "\n",
    "# Create large datasets\n",
    "size = 1000000\n",
    "list1 = list(range(size))\n",
    "list2 = list(range(size))\n",
    "np_array1 = np.arange(size)\n",
    "np_array2 = np.arange(size)\n",
    "\n",
    "# Python list operation\n",
    "start = time.time()\n",
    "result_list = [a + b for a, b in zip(list1, list2)]\n",
    "python_time = time.time() - start\n",
    "\n",
    "# NumPy operation\n",
    "start = time.time()\n",
    "result_numpy = np_array1 + np_array2\n",
    "numpy_time = time.time() - start\n",
    "\n",
    "print(f\"Python List Time: {python_time:.4f} seconds\")\n",
    "print(f\"NumPy Array Time: {numpy_time:.4f} seconds\")\n",
    "print(f\"\\n🚀 NumPy is {python_time/numpy_time:.1f}x faster!\")"
   ]
  },
  {
   "cell_type": "code",
   "execution_count": 9,
   "metadata": {},
   "outputs": [
    {
     "name": "stdout",
     "output_type": "stream",
     "text": [
      "🔧 Universal Functions\n",
      "========================================\n",
      "Angles (degrees): [ 0 30 45 60 90]\n",
      "Angles (radians): [0.         0.52359878 0.78539816 1.04719755 1.57079633]\n",
      "\n",
      "Sine values: [0.         0.5        0.70710678 0.8660254  1.        ]\n",
      "Cosine values: [1.00000000e+00 8.66025404e-01 7.07106781e-01 5.00000000e-01\n",
      " 6.12323400e-17]\n",
      "\n",
      "Original: [ 1.7  2.3 -3.5  4.8]\n",
      "Absolute: [1.7 2.3 3.5 4.8]\n",
      "Ceiling: [ 2.  3. -3.  5.]\n",
      "Floor: [ 1.  2. -4.  4.]\n",
      "Round: [ 2.  2. -4.  5.]\n",
      "\n",
      "Exponential of [1 2 3]: [ 2.71828183  7.3890561  20.08553692]\n",
      "Natural log of [1 2 3]: [0.         0.69314718 1.09861229]\n",
      "Log base 10 of [10, 100, 1000]: [1. 2. 3.]\n"
     ]
    }
   ],
   "source": [
    "# 2.3 Universal Functions (ufuncs)\n",
    "print(\"🔧 Universal Functions\\n\" + \"=\"*40)\n",
    "\n",
    "angles = np.array([0, 30, 45, 60, 90])\n",
    "radians = np.deg2rad(angles)\n",
    "\n",
    "print(f\"Angles (degrees): {angles}\")\n",
    "print(f\"Angles (radians): {radians}\")\n",
    "print(f\"\\nSine values: {np.sin(radians)}\")\n",
    "print(f\"Cosine values: {np.cos(radians)}\")\n",
    "\n",
    "# More useful functions\n",
    "numbers = np.array([1.7, 2.3, -3.5, 4.8])\n",
    "print(f\"\\nOriginal: {numbers}\")\n",
    "print(f\"Absolute: {np.abs(numbers)}\")\n",
    "print(f\"Ceiling: {np.ceil(numbers)}\")\n",
    "print(f\"Floor: {np.floor(numbers)}\")\n",
    "print(f\"Round: {np.round(numbers)}\")\n",
    "\n",
    "# Exponential and logarithm\n",
    "exp_array = np.array([1, 2, 3])\n",
    "print(f\"\\nExponential of {exp_array}: {np.exp(exp_array)}\")\n",
    "print(f\"Natural log of {exp_array}: {np.log(exp_array)}\")\n",
    "print(f\"Log base 10 of [10, 100, 1000]: {np.log10([10, 100, 1000])}\")"
   ]
  },
  {
   "cell_type": "code",
   "execution_count": 10,
   "metadata": {},
   "outputs": [
    {
     "name": "stdout",
     "output_type": "stream",
     "text": [
      "📊 Aggregation Functions\n",
      "========================================\n",
      "Data: [23 45 67 89 12 34 56 78 90 21]\n",
      "\n",
      "Statistics:\n",
      "Sum: 515\n",
      "Mean: 51.50\n",
      "Median: 50.5\n",
      "Standard Deviation: 27.39\n",
      "Variance: 750.25\n",
      "Min: 12\n",
      "Max: 90\n",
      "ArgMin (index of min): 4\n",
      "ArgMax (index of max): 8\n",
      "\n",
      "Percentiles:\n",
      "25th percentile: 25.75\n",
      "50th percentile (median): 50.5\n",
      "75th percentile: 75.25\n"
     ]
    }
   ],
   "source": [
    "# 2.4 Aggregation Functions\n",
    "print(\"📊 Aggregation Functions\\n\" + \"=\"*40)\n",
    "\n",
    "data = np.array([23, 45, 67, 89, 12, 34, 56, 78, 90, 21])\n",
    "\n",
    "print(f\"Data: {data}\")\n",
    "print(f\"\\nStatistics:\")\n",
    "print(f\"Sum: {np.sum(data)}\")\n",
    "print(f\"Mean: {np.mean(data):.2f}\")\n",
    "print(f\"Median: {np.median(data)}\")\n",
    "print(f\"Standard Deviation: {np.std(data):.2f}\")\n",
    "print(f\"Variance: {np.var(data):.2f}\")\n",
    "print(f\"Min: {np.min(data)}\")\n",
    "print(f\"Max: {np.max(data)}\")\n",
    "print(f\"ArgMin (index of min): {np.argmin(data)}\")\n",
    "print(f\"ArgMax (index of max): {np.argmax(data)}\")\n",
    "\n",
    "# Percentiles\n",
    "print(f\"\\nPercentiles:\")\n",
    "print(f\"25th percentile: {np.percentile(data, 25)}\")\n",
    "print(f\"50th percentile (median): {np.percentile(data, 50)}\")\n",
    "print(f\"75th percentile: {np.percentile(data, 75)}\")"
   ]
  },
  {
   "cell_type": "markdown",
   "metadata": {},
   "source": [
    "### 🏋️ Exercise 2: Array Operations Challenge\n",
    "\n",
    "Given temperature data in Celsius, convert to Fahrenheit and find:\n",
    "1. The hottest day\n",
    "2. The coldest day\n",
    "3. Average temperature\n",
    "4. Days above 25°C"
   ]
  },
  {
   "cell_type": "code",
   "execution_count": 11,
   "metadata": {},
   "outputs": [
    {
     "name": "stdout",
     "output_type": "stream",
     "text": [
      "Celsius: [22 24 19 26 28 21 23]\n",
      "Fahrenheit: [71.6 75.2 66.2 78.8 82.4 69.8 73.4]\n",
      "\n",
      "Hottest day: Fri (28°C)\n",
      "Coldest day: Wed (19°C)\n",
      "Average temperature: 23.3°C\n",
      "Days above 25°C: ['Thu', 'Fri']\n"
     ]
    }
   ],
   "source": [
    "# Temperature data for a week (in Celsius)\n",
    "celsius = np.array([22, 24, 19, 26, 28, 21, 23])\n",
    "days = ['Mon', 'Tue', 'Wed', 'Thu', 'Fri', 'Sat', 'Sun']\n",
    "\n",
    "# Your solution here:\n",
    "fahrenheit = (celsius * 9/5) + 32\n",
    "hottest_idx = np.argmax(celsius)\n",
    "coldest_idx = np.argmin(celsius)\n",
    "avg_temp = np.mean(celsius)\n",
    "hot_days = celsius > 25\n",
    "\n",
    "print(f\"Celsius: {celsius}\")\n",
    "print(f\"Fahrenheit: {fahrenheit}\")\n",
    "print(f\"\\nHottest day: {days[hottest_idx]} ({celsius[hottest_idx]}°C)\")\n",
    "print(f\"Coldest day: {days[coldest_idx]} ({celsius[coldest_idx]}°C)\")\n",
    "print(f\"Average temperature: {avg_temp:.1f}°C\")\n",
    "print(f\"Days above 25°C: {[days[i] for i in range(len(days)) if hot_days[i]]}\")"
   ]
  },
  {
   "cell_type": "markdown",
   "metadata": {},
   "source": [
    "---\n",
    "\n",
    "## 📌 Section 3: Indexing & Slicing - Data Access Mastery\n",
    "\n",
    "### 🎯 Accessing Your Data"
   ]
  },
  {
   "cell_type": "code",
   "execution_count": 12,
   "metadata": {},
   "outputs": [
    {
     "name": "stdout",
     "output_type": "stream",
     "text": [
      "📍 1D Array Indexing\n",
      "========================================\n",
      "Array: [10 20 30 40 50 60 70 80 90]\n",
      "First element: 10\n",
      "Last element: 90\n",
      "Third element: 30\n",
      "\n",
      "Slicing:\n",
      "First 3 elements: [10 20 30]\n",
      "Last 3 elements: [70 80 90]\n",
      "Middle elements: [30 40 50 60 70]\n",
      "Every 2nd element: [10 30 50 70 90]\n",
      "Reversed array: [90 80 70 60 50 40 30 20 10]\n"
     ]
    }
   ],
   "source": [
    "# 3.1 Basic Indexing\n",
    "print(\"📍 1D Array Indexing\\n\" + \"=\"*40)\n",
    "\n",
    "arr = np.array([10, 20, 30, 40, 50, 60, 70, 80, 90])\n",
    "print(f\"Array: {arr}\")\n",
    "print(f\"First element: {arr[0]}\")\n",
    "print(f\"Last element: {arr[-1]}\")\n",
    "print(f\"Third element: {arr[2]}\")\n",
    "\n",
    "# Slicing\n",
    "print(f\"\\nSlicing:\")\n",
    "print(f\"First 3 elements: {arr[:3]}\")\n",
    "print(f\"Last 3 elements: {arr[-3:]}\")\n",
    "print(f\"Middle elements: {arr[2:7]}\")\n",
    "print(f\"Every 2nd element: {arr[::2]}\")\n",
    "print(f\"Reversed array: {arr[::-1]}\")"
   ]
  },
  {
   "cell_type": "code",
   "execution_count": 13,
   "metadata": {},
   "outputs": [
    {
     "name": "stdout",
     "output_type": "stream",
     "text": [
      "📍 2D Array Indexing\n",
      "========================================\n",
      "Matrix:\n",
      "[[ 1  2  3  4]\n",
      " [ 5  6  7  8]\n",
      " [ 9 10 11 12]\n",
      " [13 14 15 16]]\n",
      "\n",
      "Element at row 2, col 3: 7\n",
      "First row: [1 2 3 4]\n",
      "First column: [ 1  5  9 13]\n",
      "\n",
      "Top-left 2x2 submatrix:\n",
      "[[1 2]\n",
      " [5 6]]\n",
      "\n",
      "Bottom-right 2x2 submatrix:\n",
      "[[11 12]\n",
      " [15 16]]\n"
     ]
    }
   ],
   "source": [
    "# 3.2 2D Array Indexing\n",
    "print(\"📍 2D Array Indexing\\n\" + \"=\"*40)\n",
    "\n",
    "matrix = np.array([\n",
    "    [1, 2, 3, 4],\n",
    "    [5, 6, 7, 8],\n",
    "    [9, 10, 11, 12],\n",
    "    [13, 14, 15, 16]\n",
    "])\n",
    "\n",
    "print(\"Matrix:\")\n",
    "print(matrix)\n",
    "\n",
    "print(f\"\\nElement at row 2, col 3: {matrix[1, 2]}\")\n",
    "print(f\"First row: {matrix[0]}\")\n",
    "print(f\"First column: {matrix[:, 0]}\")\n",
    "print(f\"\\nTop-left 2x2 submatrix:\")\n",
    "print(matrix[:2, :2])\n",
    "print(f\"\\nBottom-right 2x2 submatrix:\")\n",
    "print(matrix[-2:, -2:])"
   ]
  },
  {
   "cell_type": "code",
   "execution_count": 14,
   "metadata": {},
   "outputs": [
    {
     "name": "stdout",
     "output_type": "stream",
     "text": [
      "🔍 Boolean Indexing\n",
      "========================================\n",
      "Scores: [85 92 78 95 88 73 99 67 91 82]\n",
      "Names: ['Alice' 'Bob' 'Charlie' 'David' 'Eve' 'Frank' 'Grace' 'Henry' 'Ivy'\n",
      " 'Jack']\n",
      "\n",
      "High scores mask: [False  True False  True False False  True False  True False]\n",
      "High scorers: ['Bob' 'David' 'Grace' 'Ivy']\n",
      "Their scores: [92 95 99 91]\n",
      "\n",
      "Scores between 80-89: [85 88 82]\n"
     ]
    }
   ],
   "source": [
    "# 3.3 Boolean Indexing (Filtering)\n",
    "print(\"🔍 Boolean Indexing\\n\" + \"=\"*40)\n",
    "\n",
    "scores = np.array([85, 92, 78, 95, 88, 73, 99, 67, 91, 82])\n",
    "names = np.array(['Alice', 'Bob', 'Charlie', 'David', 'Eve', \n",
    "                  'Frank', 'Grace', 'Henry', 'Ivy', 'Jack'])\n",
    "\n",
    "print(f\"Scores: {scores}\")\n",
    "print(f\"Names: {names}\")\n",
    "\n",
    "# Find high scorers (>= 90)\n",
    "high_scores_mask = scores >= 90\n",
    "print(f\"\\nHigh scores mask: {high_scores_mask}\")\n",
    "print(f\"High scorers: {names[high_scores_mask]}\")\n",
    "print(f\"Their scores: {scores[high_scores_mask]}\")\n",
    "\n",
    "# Complex conditions\n",
    "medium_scores = scores[(scores >= 80) & (scores < 90)]\n",
    "print(f\"\\nScores between 80-89: {medium_scores}\")"
   ]
  },
  {
   "cell_type": "code",
   "execution_count": 16,
   "metadata": {},
   "outputs": [
    {
     "name": "stdout",
     "output_type": "stream",
     "text": [
      "✨ Fancy Indexing\n",
      "========================================\n",
      "Array: [100 200 300 400 500 600 700]\n",
      "Select indices [1, 3, 5]: [200 400 600]\n",
      "\n",
      "Matrix:\n",
      "[[ 1  2  3  4]\n",
      " [ 5  6  7  8]\n",
      " [ 9 10 11 12]\n",
      " [13 14 15 16]]\n",
      "\n",
      "Select elements at (0,1) and (2,3): [ 2 12]\n"
     ]
    }
   ],
   "source": [
    "# 3.4 Fancy Indexing\n",
    "print(\"✨ Fancy Indexing\\n\" + \"=\"*40)\n",
    "\n",
    "arr = np.array([100, 200, 300, 400, 500, 600, 700])\n",
    "indices = [1, 3, 5]\n",
    "\n",
    "print(f\"Array: {arr}\")\n",
    "print(f\"Select indices {indices}: {arr[indices]}\")\n",
    "\n",
    "# 2D fancy indexing\n",
    "matrix = np.arange(1, 17).reshape(4, 4)\n",
    "print(f\"\\nMatrix:\")\n",
    "print(matrix)\n",
    "\n",
    "rows = [0, 2]\n",
    "cols = [1, 3]\n",
    "print(f\"\\nSelect elements at (0,1) and (2,3): {matrix[rows, cols]}\")"
   ]
  },
  {
   "cell_type": "markdown",
   "metadata": {},
   "source": [
    "---\n",
    "\n",
    "## 📌 Section 4: Broadcasting - The Magic of NumPy\n",
    "\n",
    "### 🎩 Understanding Broadcasting\n",
    "\n",
    "Broadcasting allows NumPy to perform operations on arrays of different shapes!"
   ]
  },
  {
   "cell_type": "code",
   "execution_count": null,
   "metadata": {},
   "outputs": [],
   "source": [
    "# 4.1 Simple Broadcasting\n",
    "print(\"📡 Broadcasting Basics\\n\" + \"=\"*40)\n",
    "\n",
    "# Scalar and array\n",
    "arr = np.array([1, 2, 3, 4, 5])\n",
    "print(f\"Array: {arr}\")\n",
    "print(f\"Array + 10: {arr + 10}\")\n",
    "print(f\"Array * 2: {arr * 2}\")\n",
    "\n",
    "# Broadcasting with different shapes\n",
    "matrix = np.array([[1, 2, 3],\n",
    "                   [4, 5, 6],\n",
    "                   [7, 8, 9]])\n",
    "\n",
    "row_vector = np.array([10, 20, 30])\n",
    "col_vector = np.array([[100], [200], [300]])\n",
    "\n",
    "print(f\"\\nMatrix:\")\n",
    "print(matrix)\n",
    "print(f\"\\nRow vector: {row_vector}\")\n",
    "print(f\"\\nMatrix + Row vector:\")\n",
    "print(matrix + row_vector)\n",
    "\n",
    "print(f\"\\nColumn vector:\")\n",
    "print(col_vector)\n",
    "print(f\"\\nMatrix + Column vector:\")\n",
    "print(matrix + col_vector)"
   ]
  },
  {
   "cell_type": "code",
   "execution_count": 17,
   "metadata": {},
   "outputs": [
    {
     "name": "stdout",
     "output_type": "stream",
     "text": [
      "💼 Real-World Broadcasting\n",
      "========================================\n",
      "Sales (units):\n",
      "[[120 135 155]\n",
      " [200 210 195]\n",
      " [ 80  95 110]]\n",
      "\n",
      "Prices: $[10 15 20]\n",
      "\n",
      "Revenue:\n",
      "[[1200 1350 1550]\n",
      " [3000 3150 2925]\n",
      " [1600 1900 2200]]\n",
      "\n",
      "Monthly totals: {'Jan': 5800, 'Feb': 6400, 'Mar': 6675}\n"
     ]
    }
   ],
   "source": [
    "# 4.2 Practical Broadcasting Example\n",
    "print(\"💼 Real-World Broadcasting\\n\" + \"=\"*40)\n",
    "\n",
    "# Sales data: rows = products, columns = months\n",
    "sales = np.array([\n",
    "    [120, 135, 155],  # Product A\n",
    "    [200, 210, 195],  # Product B\n",
    "    [80, 95, 110]     # Product C\n",
    "])\n",
    "\n",
    "prices = np.array([10, 15, 20])  # Price per unit for each product\n",
    "months = ['Jan', 'Feb', 'Mar']\n",
    "products = ['Product A', 'Product B', 'Product C']\n",
    "\n",
    "print(\"Sales (units):\")\n",
    "print(sales)\n",
    "print(f\"\\nPrices: ${prices}\")\n",
    "\n",
    "# Calculate revenue using broadcasting\n",
    "revenue = sales * prices.reshape(-1, 1)\n",
    "print(f\"\\nRevenue:\")\n",
    "print(revenue)\n",
    "\n",
    "# Total revenue per month\n",
    "monthly_total = np.sum(revenue, axis=0)\n",
    "print(f\"\\nMonthly totals: {dict(zip(months, monthly_total))}\")"
   ]
  },
  {
   "cell_type": "markdown",
   "metadata": {},
   "source": [
    "---\n",
    "\n",
    "## 📌 Section 5: Reshaping & Manipulation\n",
    "\n",
    "### 🔄 Transform Your Arrays"
   ]
  },
  {
   "cell_type": "code",
   "execution_count": 18,
   "metadata": {},
   "outputs": [
    {
     "name": "stdout",
     "output_type": "stream",
     "text": [
      "🔄 Reshaping Arrays\n",
      "========================================\n",
      "Original 1D array: [ 1  2  3  4  5  6  7  8  9 10 11 12]\n",
      "Shape: (12,)\n",
      "\n",
      "Reshaped to 3x4:\n",
      "[[ 1  2  3  4]\n",
      " [ 5  6  7  8]\n",
      " [ 9 10 11 12]]\n",
      "\n",
      "Reshaped to 2x6:\n",
      "[[ 1  2  3  4  5  6]\n",
      " [ 7  8  9 10 11 12]]\n",
      "\n",
      "Reshaped to 4x(auto):\n",
      "[[ 1  2  3]\n",
      " [ 4  5  6]\n",
      " [ 7  8  9]\n",
      " [10 11 12]]\n"
     ]
    }
   ],
   "source": [
    "# 5.1 Reshaping Arrays\n",
    "print(\"🔄 Reshaping Arrays\\n\" + \"=\"*40)\n",
    "\n",
    "# Create a 1D array\n",
    "arr = np.arange(1, 13)\n",
    "print(f\"Original 1D array: {arr}\")\n",
    "print(f\"Shape: {arr.shape}\")\n",
    "\n",
    "# Reshape to 2D\n",
    "matrix_3x4 = arr.reshape(3, 4)\n",
    "print(f\"\\nReshaped to 3x4:\")\n",
    "print(matrix_3x4)\n",
    "\n",
    "# Reshape to 2x6\n",
    "matrix_2x6 = arr.reshape(2, 6)\n",
    "print(f\"\\nReshaped to 2x6:\")\n",
    "print(matrix_2x6)\n",
    "\n",
    "# Use -1 to automatically calculate dimension\n",
    "matrix_auto = arr.reshape(4, -1)\n",
    "print(f\"\\nReshaped to 4x(auto):\")\n",
    "print(matrix_auto)"
   ]
  },
  {
   "cell_type": "code",
   "execution_count": 19,
   "metadata": {},
   "outputs": [
    {
     "name": "stdout",
     "output_type": "stream",
     "text": [
      "📚 Stacking Arrays\n",
      "========================================\n",
      "Vertical stack:\n",
      "[[1 2 3]\n",
      " [4 5 6]\n",
      " [7 8 9]]\n",
      "\n",
      "Horizontal stack: [1 2 3 4 5 6 7 8 9]\n",
      "\n",
      "✂️ Splitting Arrays\n",
      "Original: [1 2 3 4 5 6 7 8 9]\n",
      "Split into 3: [array([1, 2, 3]), array([4, 5, 6]), array([7, 8, 9])]\n"
     ]
    }
   ],
   "source": [
    "# 5.2 Stacking and Splitting\n",
    "print(\"📚 Stacking Arrays\\n\" + \"=\"*40)\n",
    "\n",
    "arr1 = np.array([1, 2, 3])\n",
    "arr2 = np.array([4, 5, 6])\n",
    "arr3 = np.array([7, 8, 9])\n",
    "\n",
    "# Vertical stack\n",
    "v_stack = np.vstack([arr1, arr2, arr3])\n",
    "print(\"Vertical stack:\")\n",
    "print(v_stack)\n",
    "\n",
    "# Horizontal stack\n",
    "h_stack = np.hstack([arr1, arr2, arr3])\n",
    "print(f\"\\nHorizontal stack: {h_stack}\")\n",
    "\n",
    "# Splitting\n",
    "print(\"\\n✂️ Splitting Arrays\")\n",
    "arr = np.arange(1, 10)\n",
    "splits = np.split(arr, 3)\n",
    "print(f\"Original: {arr}\")\n",
    "print(f\"Split into 3: {splits}\")"
   ]
  },
  {
   "cell_type": "code",
   "execution_count": 20,
   "metadata": {},
   "outputs": [
    {
     "name": "stdout",
     "output_type": "stream",
     "text": [
      "🔄 Transpose Operations\n",
      "========================================\n",
      "Original matrix:\n",
      "[[1 2 3]\n",
      " [4 5 6]]\n",
      "Shape: (2, 3)\n",
      "\n",
      "Transposed:\n",
      "[[1 4]\n",
      " [2 5]\n",
      " [3 6]]\n",
      "Shape: (3, 2)\n"
     ]
    }
   ],
   "source": [
    "# 5.3 Transpose and Swapaxes\n",
    "print(\"🔄 Transpose Operations\\n\" + \"=\"*40)\n",
    "\n",
    "matrix = np.array([[1, 2, 3],\n",
    "                   [4, 5, 6]])\n",
    "\n",
    "print(\"Original matrix:\")\n",
    "print(matrix)\n",
    "print(f\"Shape: {matrix.shape}\")\n",
    "\n",
    "# Transpose\n",
    "transposed = matrix.T\n",
    "print(\"\\nTransposed:\")\n",
    "print(transposed)\n",
    "print(f\"Shape: {transposed.shape}\")"
   ]
  },
  {
   "cell_type": "markdown",
   "metadata": {},
   "source": [
    "---\n",
    "\n",
    "## 📌 Section 6: Linear Algebra\n",
    "\n",
    "### 🔢 Matrix Operations"
   ]
  },
  {
   "cell_type": "code",
   "execution_count": 21,
   "metadata": {},
   "outputs": [
    {
     "name": "stdout",
     "output_type": "stream",
     "text": [
      "✖️ Matrix Multiplication\n",
      "========================================\n",
      "Matrix A:\n",
      "[[1 2]\n",
      " [3 4]]\n",
      "\n",
      "Matrix B:\n",
      "[[5 6]\n",
      " [7 8]]\n",
      "\n",
      "Element-wise multiplication (A * B):\n",
      "[[ 5 12]\n",
      " [21 32]]\n",
      "\n",
      "Matrix multiplication (A @ B):\n",
      "[[19 22]\n",
      " [43 50]]\n",
      "\n",
      "Using np.dot(A, B):\n",
      "[[19 22]\n",
      " [43 50]]\n"
     ]
    }
   ],
   "source": [
    "# 6.1 Matrix Multiplication\n",
    "print(\"✖️ Matrix Multiplication\\n\" + \"=\"*40)\n",
    "\n",
    "A = np.array([[1, 2],\n",
    "              [3, 4]])\n",
    "\n",
    "B = np.array([[5, 6],\n",
    "              [7, 8]])\n",
    "\n",
    "print(\"Matrix A:\")\n",
    "print(A)\n",
    "print(\"\\nMatrix B:\")\n",
    "print(B)\n",
    "\n",
    "# Element-wise multiplication\n",
    "print(\"\\nElement-wise multiplication (A * B):\")\n",
    "print(A * B)\n",
    "\n",
    "# Matrix multiplication (dot product)\n",
    "print(\"\\nMatrix multiplication (A @ B):\")\n",
    "print(A @ B)\n",
    "\n",
    "# Alternative: np.dot\n",
    "print(\"\\nUsing np.dot(A, B):\")\n",
    "print(np.dot(A, B))"
   ]
  },
  {
   "cell_type": "code",
   "execution_count": 22,
   "metadata": {},
   "outputs": [
    {
     "name": "stdout",
     "output_type": "stream",
     "text": [
      "🔧 Linear Algebra Operations\n",
      "========================================\n",
      "Matrix:\n",
      "[[4 2]\n",
      " [1 3]]\n",
      "\n",
      "Determinant: 10.00\n",
      "\n",
      "Inverse:\n",
      "[[ 0.3 -0.2]\n",
      " [-0.1  0.4]]\n",
      "\n",
      "Matrix * Inverse (should be identity):\n",
      "[[ 1.  0.]\n",
      " [-0.  1.]]\n",
      "\n",
      "Eigenvalues: [5. 2.]\n",
      "Eigenvectors:\n",
      "[[ 0.89442719 -0.70710678]\n",
      " [ 0.4472136   0.70710678]]\n"
     ]
    }
   ],
   "source": [
    "# 6.2 Linear Algebra Operations\n",
    "print(\"🔧 Linear Algebra Operations\\n\" + \"=\"*40)\n",
    "\n",
    "matrix = np.array([[4, 2],\n",
    "                   [1, 3]])\n",
    "\n",
    "print(\"Matrix:\")\n",
    "print(matrix)\n",
    "\n",
    "# Determinant\n",
    "det = np.linalg.det(matrix)\n",
    "print(f\"\\nDeterminant: {det:.2f}\")\n",
    "\n",
    "# Inverse\n",
    "if det != 0:\n",
    "    inverse = np.linalg.inv(matrix)\n",
    "    print(\"\\nInverse:\")\n",
    "    print(inverse)\n",
    "    \n",
    "    # Verify: A * A^(-1) = I\n",
    "    identity = np.dot(matrix, inverse)\n",
    "    print(\"\\nMatrix * Inverse (should be identity):\")\n",
    "    print(np.round(identity))\n",
    "\n",
    "# Eigenvalues and eigenvectors\n",
    "eigenvalues, eigenvectors = np.linalg.eig(matrix)\n",
    "print(f\"\\nEigenvalues: {eigenvalues}\")\n",
    "print(\"Eigenvectors:\")\n",
    "print(eigenvectors)"
   ]
  },
  {
   "cell_type": "code",
   "execution_count": 23,
   "metadata": {},
   "outputs": [
    {
     "name": "stdout",
     "output_type": "stream",
     "text": [
      "🎯 Solving Linear Equations\n",
      "========================================\n",
      "System of equations:\n",
      "2x + 3y = 7\n",
      "4x - y = 2\n",
      "\n",
      "Solution: x = 0.93, y = 1.71\n",
      "\n",
      "Verification:\n",
      "2(0.93) + 3(1.71) = 7.00\n",
      "4(0.93) - 1.71 = 2.00\n"
     ]
    }
   ],
   "source": [
    "# 6.3 Solving Linear Equations\n",
    "print(\"🎯 Solving Linear Equations\\n\" + \"=\"*40)\n",
    "\n",
    "# Solve: 2x + 3y = 7\n",
    "#        4x - y = 2\n",
    "\n",
    "# Coefficient matrix\n",
    "A = np.array([[2, 3],\n",
    "              [4, -1]])\n",
    "\n",
    "# Constants vector\n",
    "b = np.array([7, 2])\n",
    "\n",
    "print(\"System of equations:\")\n",
    "print(\"2x + 3y = 7\")\n",
    "print(\"4x - y = 2\")\n",
    "\n",
    "# Solve\n",
    "solution = np.linalg.solve(A, b)\n",
    "x, y = solution\n",
    "\n",
    "print(f\"\\nSolution: x = {x:.2f}, y = {y:.2f}\")\n",
    "\n",
    "# Verify\n",
    "print(f\"\\nVerification:\")\n",
    "print(f\"2({x:.2f}) + 3({y:.2f}) = {2*x + 3*y:.2f}\")\n",
    "print(f\"4({x:.2f}) - {y:.2f} = {4*x - y:.2f}\")"
   ]
  },
  {
   "cell_type": "markdown",
   "metadata": {},
   "source": [
    "---\n",
    "\n",
    "## 📌 Section 7: Random Numbers & Distributions\n",
    "\n",
    "### 🎲 Generate Random Data"
   ]
  },
  {
   "cell_type": "code",
   "execution_count": 24,
   "metadata": {},
   "outputs": [
    {
     "name": "stdout",
     "output_type": "stream",
     "text": [
      "🎲 Random Numbers\n",
      "========================================\n",
      "Random integers (1-99): [52 93 15 72 61 21 83 87 75 75]\n",
      "\n",
      "Random floats [0,1): [0.86617615 0.60111501 0.70807258 0.02058449 0.96990985]\n",
      "\n",
      "Random choices: ['green' 'green' 'green' 'red' 'red' 'green' 'green' 'red' 'red' 'red']\n",
      "\n",
      "Shuffled array: [1 5 4 8 0 7 6 3 2 9]\n"
     ]
    }
   ],
   "source": [
    "# 7.1 Random Number Generation\n",
    "print(\"🎲 Random Numbers\\n\" + \"=\"*40)\n",
    "\n",
    "# Set seed for reproducibility\n",
    "np.random.seed(42)\n",
    "\n",
    "# Random integers\n",
    "random_ints = np.random.randint(1, 100, size=10)\n",
    "print(f\"Random integers (1-99): {random_ints}\")\n",
    "\n",
    "# Random floats [0, 1)\n",
    "random_floats = np.random.random(5)\n",
    "print(f\"\\nRandom floats [0,1): {random_floats}\")\n",
    "\n",
    "# Random choice\n",
    "choices = np.random.choice(['red', 'green', 'blue'], size=10)\n",
    "print(f\"\\nRandom choices: {choices}\")\n",
    "\n",
    "# Shuffle array\n",
    "arr = np.arange(10)\n",
    "np.random.shuffle(arr)\n",
    "print(f\"\\nShuffled array: {arr}\")"
   ]
  },
  {
   "cell_type": "code",
   "execution_count": 25,
   "metadata": {},
   "outputs": [
    {
     "name": "stdout",
     "output_type": "stream",
     "text": [
      "📊 Statistical Distributions\n",
      "========================================\n",
      "Normal distribution (mean=100, std=15):\n",
      "Sample mean: 100.71\n",
      "Sample std: 15.84\n",
      "\n",
      "Uniform distribution [0,10):\n",
      "Sample mean: 4.90\n",
      "Sample min: 0.00\n",
      "Sample max: 9.97\n",
      "\n",
      "Binomial (10 coin flips):\n",
      "Average heads: 5.07\n",
      "\n",
      "Poisson distribution (λ=3):\n",
      "Sample mean: 2.96\n"
     ]
    }
   ],
   "source": [
    "# 7.2 Statistical Distributions\n",
    "print(\"📊 Statistical Distributions\\n\" + \"=\"*40)\n",
    "\n",
    "# Normal distribution\n",
    "normal = np.random.normal(loc=100, scale=15, size=1000)  # IQ scores\n",
    "print(f\"Normal distribution (mean=100, std=15):\")\n",
    "print(f\"Sample mean: {np.mean(normal):.2f}\")\n",
    "print(f\"Sample std: {np.std(normal):.2f}\")\n",
    "\n",
    "# Uniform distribution\n",
    "uniform = np.random.uniform(low=0, high=10, size=1000)\n",
    "print(f\"\\nUniform distribution [0,10):\")\n",
    "print(f\"Sample mean: {np.mean(uniform):.2f}\")\n",
    "print(f\"Sample min: {np.min(uniform):.2f}\")\n",
    "print(f\"Sample max: {np.max(uniform):.2f}\")\n",
    "\n",
    "# Binomial distribution (coin flips)\n",
    "coin_flips = np.random.binomial(n=10, p=0.5, size=1000)  # 10 flips, 1000 times\n",
    "print(f\"\\nBinomial (10 coin flips):\")\n",
    "print(f\"Average heads: {np.mean(coin_flips):.2f}\")\n",
    "\n",
    "# Poisson distribution\n",
    "poisson = np.random.poisson(lam=3, size=1000)  # Events per time interval\n",
    "print(f\"\\nPoisson distribution (λ=3):\")\n",
    "print(f\"Sample mean: {np.mean(poisson):.2f}\")"
   ]
  },
  {
   "cell_type": "markdown",
   "metadata": {},
   "source": [
    "---\n",
    "\n",
    "## 📌 Section 8: Advanced NumPy Techniques\n",
    "\n",
    "### 🚀 Pro-Level Skills"
   ]
  },
  {
   "cell_type": "code",
   "execution_count": 26,
   "metadata": {},
   "outputs": [
    {
     "name": "stdout",
     "output_type": "stream",
     "text": [
      "👁️ Views vs Copies\n",
      "========================================\n",
      "Original: [1 2 3 4 5]\n",
      "View: [2 3 4]\n",
      "Copy: [2 3 4]\n",
      "\n",
      "After modifying view[0] = 999:\n",
      "Original: [  1 999   3   4   5]\n",
      "View: [999   3   4]\n",
      "\n",
      "After modifying copy[0] = 888:\n",
      "Original: [  1 999   3   4   5]\n",
      "Copy: [888   3   4]\n"
     ]
    }
   ],
   "source": [
    "# 8.1 Views vs Copies\n",
    "print(\"👁️ Views vs Copies\\n\" + \"=\"*40)\n",
    "\n",
    "original = np.array([1, 2, 3, 4, 5])\n",
    "view = original[1:4]  # This is a view\n",
    "copy = original[1:4].copy()  # This is a copy\n",
    "\n",
    "\n",
    "print(f\"Original: {original}\")\n",
    "print(f\"View: {view}\")\n",
    "print(f\"Copy: {copy}\")\n",
    "\n",
    "# Modify the view\n",
    "view[0] = 999\n",
    "print(f\"\\nAfter modifying view[0] = 999:\")\n",
    "print(f\"Original: {original}\")  # Original is affected!\n",
    "print(f\"View: {view}\")\n",
    "\n",
    "# Modify the copy\n",
    "copy[0] = 888\n",
    "print(f\"\\nAfter modifying copy[0] = 888:\")\n",
    "print(f\"Original: {original}\")  # Original is NOT affected\n",
    "print(f\"Copy: {copy}\")"
   ]
  },
  {
   "cell_type": "code",
   "execution_count": 27,
   "metadata": {},
   "outputs": [
    {
     "name": "stdout",
     "output_type": "stream",
     "text": [
      "💾 Memory Layout\n",
      "========================================\n",
      "C-order (row-major):\n",
      "[[1 2 3]\n",
      " [4 5 6]]\n",
      "C-contiguous: True\n",
      "\n",
      "F-order (column-major):\n",
      "[[1 2 3]\n",
      " [4 5 6]]\n",
      "F-contiguous: True\n"
     ]
    }
   ],
   "source": [
    "# 8.2 Memory Layout: C vs Fortran Order\n",
    "print(\"💾 Memory Layout\\n\" + \"=\"*40)\n",
    "\n",
    "# C-order (row-major, default)\n",
    "c_array = np.array([[1, 2, 3],\n",
    "                    [4, 5, 6]], order='C')\n",
    "\n",
    "# Fortran-order (column-major)\n",
    "f_array = np.array([[1, 2, 3],\n",
    "                    [4, 5, 6]], order='F')\n",
    "\n",
    "print(\"C-order (row-major):\")\n",
    "print(c_array)\n",
    "print(f\"C-contiguous: {c_array.flags['C_CONTIGUOUS']}\")\n",
    "\n",
    "print(\"\\nF-order (column-major):\")\n",
    "print(f_array)\n",
    "print(f\"F-contiguous: {f_array.flags['F_CONTIGUOUS']}\")"
   ]
  },
  {
   "cell_type": "code",
   "execution_count": 28,
   "metadata": {},
   "outputs": [
    {
     "name": "stdout",
     "output_type": "stream",
     "text": [
      "🏗️ Structured Arrays\n",
      "========================================\n",
      "Employees structured array:\n",
      "[('Alice', 25, 50000.) ('Bob', 30, 60000.) ('Charlie', 35, 70000.)\n",
      " ('David', 28, 55000.)]\n",
      "\n",
      "Names: ['Alice' 'Bob' 'Charlie' 'David']\n",
      "Ages: [25 30 35 28]\n",
      "Average salary: $58,750.00\n",
      "\n",
      "High earners (>$55k): ['Bob' 'Charlie']\n"
     ]
    }
   ],
   "source": [
    "# 8.3 Structured Arrays\n",
    "print(\"🏗️ Structured Arrays\\n\" + \"=\"*40)\n",
    "\n",
    "# Define the structure\n",
    "dt = np.dtype([('name', 'U10'), ('age', 'i4'), ('salary', 'f8')])\n",
    "\n",
    "# Create structured array\n",
    "employees = np.array([\n",
    "    ('Alice', 25, 50000.0),\n",
    "    ('Bob', 30, 60000.0),\n",
    "    ('Charlie', 35, 70000.0),\n",
    "    ('David', 28, 55000.0)\n",
    "], dtype=dt)\n",
    "\n",
    "print(\"Employees structured array:\")\n",
    "print(employees)\n",
    "\n",
    "print(f\"\\nNames: {employees['name']}\")\n",
    "print(f\"Ages: {employees['age']}\")\n",
    "print(f\"Average salary: ${employees['salary'].mean():,.2f}\")\n",
    "\n",
    "# Filter by condition\n",
    "high_earners = employees[employees['salary'] > 55000]\n",
    "print(f\"\\nHigh earners (>$55k): {high_earners['name']}\")"
   ]
  },
  {
   "cell_type": "code",
   "execution_count": 29,
   "metadata": {},
   "outputs": [
    {
     "name": "stdout",
     "output_type": "stream",
     "text": [
      "🎯 Where and Select\n",
      "========================================\n",
      "Original: [1 2 3 4 5 6 7 8 9]\n",
      "Double if > 5: [ 1  2  3  4  5 12 14 16 18]\n",
      "\n",
      "Indices where > 5: [5 6 7 8]\n",
      "\n",
      "Categorized: ['small' 'small' 'medium' 'medium' 'medium' 'medium' 'large' 'large'\n",
      " 'large']\n"
     ]
    }
   ],
   "source": [
    "# 8.4 Where and Select Functions\n",
    "print(\"🎯 Where and Select\\n\" + \"=\"*40)\n",
    "\n",
    "# np.where - conditional selection\n",
    "arr = np.array([1, 2, 3, 4, 5, 6, 7, 8, 9])\n",
    "condition = arr > 5\n",
    "\n",
    "# Replace values based on condition\n",
    "result = np.where(condition, arr * 2, arr)\n",
    "print(f\"Original: {arr}\")\n",
    "print(f\"Double if > 5: {result}\")\n",
    "\n",
    "# Find indices where condition is true\n",
    "indices = np.where(arr > 5)\n",
    "print(f\"\\nIndices where > 5: {indices[0]}\")\n",
    "\n",
    "# np.select - multiple conditions\n",
    "conditions = [\n",
    "    arr < 3,\n",
    "    (arr >= 3) & (arr < 7),\n",
    "    arr >= 7\n",
    "]\n",
    "choices = ['small', 'medium', 'large']\n",
    "categories = np.select(conditions, choices)\n",
    "print(f\"\\nCategorized: {categories}\")"
   ]
  },
  {
   "cell_type": "markdown",
   "metadata": {},
   "source": [
    "---\n",
    "\n",
    "## 🎯 Section 9: Real-World Projects\n",
    "\n",
    "### Project 1: Image Processing with NumPy"
   ]
  },
  {
   "cell_type": "code",
   "execution_count": 30,
   "metadata": {},
   "outputs": [
    {
     "name": "stdout",
     "output_type": "stream",
     "text": [
      "🖼️ Image Processing\n",
      "========================================\n",
      "Original image (8x8 pixels):\n",
      "[[169 203 156   7  47   2  32 110]\n",
      " [201   2  93  18 241 145   0 224]\n",
      " [ 80  59 237 168 157  59  44  77]\n",
      " [148  79 124 110  59 216  52  24]\n",
      " [140 125 123 195   0 129  37 194]\n",
      " [ 64 226  26 254 238 184  35 155]\n",
      " [ 32 127 182 168  37   0   0 146]\n",
      " [ 24 168 234  12 153  49 183  13]]\n",
      "\n",
      "Image statistics:\n",
      "Min pixel value: 0\n",
      "Max pixel value: 254\n",
      "Mean brightness: 109.3\n",
      "\n",
      "Brightened image (first 3 rows):\n",
      "[[219 253 206  57  97  52  82 160]\n",
      " [251  52 143  68  35 195  50  18]\n",
      " [130 109  31 218 207 109  94 127]]\n",
      "\n",
      "Horizontally flipped (first row): [110  32   2  47   7 156 203 169]\n",
      "Original (first row): [169 203 156   7  47   2  32 110]\n"
     ]
    }
   ],
   "source": [
    "# 9.1 Image as NumPy Array\n",
    "print(\"🖼️ Image Processing\\n\" + \"=\"*40)\n",
    "\n",
    "# Create a simple 8x8 grayscale image\n",
    "image = np.random.randint(0, 256, size=(8, 8), dtype=np.uint8)\n",
    "\n",
    "print(\"Original image (8x8 pixels):\")\n",
    "print(image)\n",
    "\n",
    "# Basic image operations\n",
    "print(f\"\\nImage statistics:\")\n",
    "print(f\"Min pixel value: {image.min()}\")\n",
    "print(f\"Max pixel value: {image.max()}\")\n",
    "print(f\"Mean brightness: {image.mean():.1f}\")\n",
    "\n",
    "# Brightness adjustment\n",
    "brightened = np.clip(image + 50, 0, 255).astype(np.uint8)\n",
    "print(f\"\\nBrightened image (first 3 rows):\")\n",
    "print(brightened[:3])\n",
    "\n",
    "# Image flip\n",
    "flipped_h = np.fliplr(image)\n",
    "flipped_v = np.flipud(image)\n",
    "print(f\"\\nHorizontally flipped (first row): {flipped_h[0]}\")\n",
    "print(f\"Original (first row): {image[0]}\")"
   ]
  },
  {
   "cell_type": "markdown",
   "metadata": {},
   "source": [
    "### Project 2: Financial Analysis"
   ]
  },
  {
   "cell_type": "code",
   "execution_count": 31,
   "metadata": {},
   "outputs": [
    {
     "name": "stdout",
     "output_type": "stream",
     "text": [
      "📈 Stock Market Analysis\n",
      "========================================\n",
      "Stock prices (first 10 days):\n",
      "[101.09 100.91 102.32 105.54 105.15 104.77 108.18 109.95 109.03 110.32]\n",
      "\n",
      "📊 Analysis Results:\n",
      "Starting price: $100\n",
      "Final price: $91.60\n",
      "Total return: -8.40%\n",
      "Max price: $110.32\n",
      "Min price: $91.60\n",
      "Volatility (annualized): 28.28%\n",
      "\n",
      "5-day moving average (last 5 values):\n",
      "[95.71 94.68 93.76 93.17 92.67]\n"
     ]
    }
   ],
   "source": [
    "# 9.2 Stock Market Analysis\n",
    "print(\"📈 Stock Market Analysis\\n\" + \"=\"*40)\n",
    "\n",
    "# Simulate stock prices for 30 days\n",
    "np.random.seed(42)\n",
    "days = 30\n",
    "initial_price = 100\n",
    "\n",
    "# Generate daily returns (normal distribution)\n",
    "daily_returns = np.random.normal(0.001, 0.02, days)\n",
    "price_multipliers = 1 + daily_returns\n",
    "prices = initial_price * np.cumprod(price_multipliers)\n",
    "\n",
    "print(f\"Stock prices (first 10 days):\")\n",
    "print(prices[:10].round(2))\n",
    "\n",
    "# Calculate metrics\n",
    "returns = np.diff(prices) / prices[:-1]\n",
    "volatility = np.std(returns) * np.sqrt(252)  # Annualized\n",
    "\n",
    "print(f\"\\n📊 Analysis Results:\")\n",
    "print(f\"Starting price: ${initial_price}\")\n",
    "print(f\"Final price: ${prices[-1]:.2f}\")\n",
    "print(f\"Total return: {(prices[-1]/initial_price - 1)*100:.2f}%\")\n",
    "print(f\"Max price: ${np.max(prices):.2f}\")\n",
    "print(f\"Min price: ${np.min(prices):.2f}\")\n",
    "print(f\"Volatility (annualized): {volatility*100:.2f}%\")\n",
    "\n",
    "# Moving average\n",
    "window = 5\n",
    "moving_avg = np.convolve(prices, np.ones(window)/window, mode='valid')\n",
    "print(f\"\\n5-day moving average (last 5 values):\")\n",
    "print(moving_avg[-5:].round(2))"
   ]
  },
  {
   "cell_type": "markdown",
   "metadata": {},
   "source": [
    "### Project 3: Machine Learning - Simple Neural Network"
   ]
  },
  {
   "cell_type": "code",
   "execution_count": 32,
   "metadata": {},
   "outputs": [
    {
     "name": "stdout",
     "output_type": "stream",
     "text": [
      "🧠 Neural Network from Scratch\n",
      "========================================\n",
      "Training XOR Neural Network...\n",
      "Input: [[0, 0], [0, 1], [1, 0], [1, 1]]\n",
      "Expected Output: [0 1 1 0]\n",
      "\n",
      "Predictions after training:\n",
      "[0.15 0.79 0.79 0.51]\n",
      "\n",
      "✅ Network learned XOR function!\n"
     ]
    }
   ],
   "source": [
    "# 9.3 Simple Neural Network with NumPy\n",
    "print(\"🧠 Neural Network from Scratch\\n\" + \"=\"*40)\n",
    "\n",
    "# Sigmoid activation function\n",
    "def sigmoid(x):\n",
    "    return 1 / (1 + np.exp(-x))\n",
    "\n",
    "def sigmoid_derivative(x):\n",
    "    return x * (1 - x)\n",
    "\n",
    "# Training data (XOR problem)\n",
    "X = np.array([[0, 0],\n",
    "              [0, 1],\n",
    "              [1, 0],\n",
    "              [1, 1]])\n",
    "\n",
    "y = np.array([[0], [1], [1], [0]])  # XOR output\n",
    "\n",
    "# Initialize weights randomly\n",
    "np.random.seed(1)\n",
    "weights_input_hidden = np.random.uniform(-1, 1, (2, 4))\n",
    "weights_hidden_output = np.random.uniform(-1, 1, (4, 1))\n",
    "\n",
    "print(\"Training XOR Neural Network...\")\n",
    "print(f\"Input: {X.tolist()}\")\n",
    "print(f\"Expected Output: {y.T[0]}\")\n",
    "\n",
    "# Training (simplified)\n",
    "for epoch in range(5000):\n",
    "    # Forward propagation\n",
    "    hidden = sigmoid(np.dot(X, weights_input_hidden))\n",
    "    output = sigmoid(np.dot(hidden, weights_hidden_output))\n",
    "    \n",
    "    # Backpropagation\n",
    "    output_error = y - output\n",
    "    output_delta = output_error * sigmoid_derivative(output)\n",
    "    \n",
    "    hidden_error = output_delta.dot(weights_hidden_output.T)\n",
    "    hidden_delta = hidden_error * sigmoid_derivative(hidden)\n",
    "    \n",
    "    # Update weights\n",
    "    weights_hidden_output += hidden.T.dot(output_delta) * 0.1\n",
    "    weights_input_hidden += X.T.dot(hidden_delta) * 0.1\n",
    "\n",
    "print(f\"\\nPredictions after training:\")\n",
    "print(output.round(2).T[0])\n",
    "print(f\"\\n✅ Network learned XOR function!\")"
   ]
  },
  {
   "cell_type": "markdown",
   "metadata": {},
   "source": [
    "---\n",
    "\n",
    "## 🎓 Section 10: Performance & Best Practices\n",
    "\n",
    "### ⚡ Optimize Your Code"
   ]
  },
  {
   "cell_type": "code",
   "execution_count": 33,
   "metadata": {},
   "outputs": [
    {
     "name": "stdout",
     "output_type": "stream",
     "text": [
      "⚡ Vectorization Tips\n",
      "========================================\n",
      "Loop time: 0.3444 seconds\n",
      "Vectorized time: 0.002991 seconds\n",
      "\n",
      "🚀 Vectorization is 115x faster!\n",
      "\n",
      "💾 Memory Tips:\n",
      "1. Use appropriate dtypes (int8 vs int64)\n",
      "2. Use views instead of copies when possible\n",
      "3. Delete large arrays when done: del array\n",
      "4. Use in-place operations: arr += 1 vs arr = arr + 1\n"
     ]
    }
   ],
   "source": [
    "# 10.1 Vectorization Best Practices\n",
    "print(\"⚡ Vectorization Tips\\n\" + \"=\"*40)\n",
    "\n",
    "size = 100000\n",
    "arr = np.random.random(size)\n",
    "\n",
    "# BAD: Using Python loops\n",
    "start = time.time()\n",
    "result_loop = []\n",
    "for x in arr:\n",
    "    result_loop.append(x ** 2 + 2 * x + 1)\n",
    "loop_time = time.time() - start\n",
    "\n",
    "# GOOD: Using NumPy vectorization\n",
    "start = time.time()\n",
    "result_vector = arr ** 2 + 2 * arr + 1\n",
    "vector_time = time.time() - start\n",
    "\n",
    "print(f\"Loop time: {loop_time:.4f} seconds\")\n",
    "print(f\"Vectorized time: {vector_time:.6f} seconds\")\n",
    "print(f\"\\n🚀 Vectorization is {loop_time/vector_time:.0f}x faster!\")\n",
    "\n",
    "# Memory tips\n",
    "print(\"\\n💾 Memory Tips:\")\n",
    "print(\"1. Use appropriate dtypes (int8 vs int64)\")\n",
    "print(\"2. Use views instead of copies when possible\")\n",
    "print(\"3. Delete large arrays when done: del array\")\n",
    "print(\"4. Use in-place operations: arr += 1 vs arr = arr + 1\")"
   ]
  },
  {
   "cell_type": "code",
   "execution_count": 34,
   "metadata": {},
   "outputs": [
    {
     "name": "stdout",
     "output_type": "stream",
     "text": [
      "⚠️ Common Pitfalls\n",
      "========================================\n",
      "Pitfall 1: Views vs Copies\n",
      "Always use .copy() if you don't want to modify original\n",
      "\n",
      "Pitfall 2: Integer Division\n",
      "Integer array / 2: [0.5 1.  1.5]\n",
      "Integer array // 2: [0 1 1]\n",
      "Use // for integer division, / for float\n",
      "\n",
      "Pitfall 3: Broadcasting Shapes\n",
      "Always check shapes before operations\n",
      "Shape (1,3) + Shape (3,1) = Shape (3,3)\n"
     ]
    }
   ],
   "source": [
    "# 10.2 Common Pitfalls and Solutions\n",
    "print(\"⚠️ Common Pitfalls\\n\" + \"=\"*40)\n",
    "\n",
    "# Pitfall 1: Modifying views affects original\n",
    "original = np.array([1, 2, 3, 4, 5])\n",
    "view = original[:3]\n",
    "view_copy = original[:3].copy()\n",
    "\n",
    "print(\"Pitfall 1: Views vs Copies\")\n",
    "print(\"Always use .copy() if you don't want to modify original\\n\")\n",
    "\n",
    "# Pitfall 2: Integer division\n",
    "print(\"Pitfall 2: Integer Division\")\n",
    "arr_int = np.array([1, 2, 3])\n",
    "print(f\"Integer array / 2: {arr_int / 2}\")\n",
    "print(f\"Integer array // 2: {arr_int // 2}\")\n",
    "print(\"Use // for integer division, / for float\\n\")\n",
    "\n",
    "# Pitfall 3: Broadcasting shapes\n",
    "print(\"Pitfall 3: Broadcasting Shapes\")\n",
    "print(\"Always check shapes before operations\")\n",
    "a = np.array([[1, 2, 3]])\n",
    "b = np.array([[1], [2], [3]])\n",
    "print(f\"Shape (1,3) + Shape (3,1) = Shape (3,3)\")"
   ]
  },
  {
   "cell_type": "markdown",
   "metadata": {},
   "source": [
    "---\n",
    "\n",
    "## 🏆 Final Challenge: Complete Data Analysis Project\n",
    "\n",
    "### Analyze Student Performance Data"
   ]
  },
  {
   "cell_type": "code",
   "execution_count": 35,
   "metadata": {},
   "outputs": [
    {
     "name": "stdout",
     "output_type": "stream",
     "text": [
      "🎯 FINAL PROJECT: Student Performance Analysis\n",
      "==================================================\n",
      "📊 Dataset Overview:\n",
      "Students: 100\n",
      "Subjects: ['Math', 'Science', 'English', 'History', 'Art']\n",
      "\n",
      "First 5 students' scores:\n",
      "[[82.5 72.9 84.7 97.8 71.5]\n",
      " [71.5 98.7 86.5 68.  83.1]\n",
      " [68.  68.  78.6 46.3 49.1]\n",
      " [66.6 59.8 79.7 61.4 53.8]\n",
      " [97.  71.6 76.  53.6 66.8]]\n",
      "\n",
      "📈 Overall Statistics:\n",
      "----------------------------------------\n",
      "Math       - Mean: 74.0, Std: 12.8, Min: 45.7, Max: 100.0\n",
      "Science    - Mean: 76.1, Std: 14.5, Min: 40.5, Max: 100.0\n",
      "English    - Mean: 73.5, Std: 14.4, Min: 26.4, Max: 100.0\n",
      "History    - Mean: 76.4, Std: 13.2, Min: 46.3, Max: 100.0\n",
      "Art        - Mean: 73.8, Std: 14.3, Min: 35.7, Max: 100.0\n",
      "\n",
      "🏆 Top 5 Students:\n",
      "----------------------------------------\n",
      "Rank 1: Student 85 - Average: 89.1\n",
      "Rank 2: Student 75 - Average: 88.8\n",
      "Rank 3: Student 63 - Average: 86.5\n",
      "Rank 4: Student 36 - Average: 86.1\n",
      "Rank 5: Student 96 - Average: 85.3\n",
      "\n",
      "📝 Grade Distribution:\n",
      "----------------------------------------\n",
      "Grade A:  71 ( 14.2%)\n",
      "Grade B: 108 ( 21.6%)\n",
      "Grade C: 139 ( 27.8%)\n",
      "Grade D: 106 ( 21.2%)\n",
      "Grade F:  76 ( 15.2%)\n",
      "\n",
      "🔗 Subject Correlations:\n",
      "----------------------------------------\n",
      "Highest correlations:\n",
      "\n",
      "⚠️ Students needing help (avg < 60):\n",
      "----------------------------------------\n",
      "Student 53 - Avg: 58.5, Weak in: English, History\n",
      "\n",
      "✅ Analysis Complete!\n"
     ]
    }
   ],
   "source": [
    "# Final Project: Student Performance Analysis\n",
    "print(\"🎯 FINAL PROJECT: Student Performance Analysis\\n\" + \"=\"*50)\n",
    "\n",
    "# Generate synthetic student data\n",
    "np.random.seed(42)\n",
    "n_students = 100\n",
    "n_subjects = 5\n",
    "\n",
    "# Create student scores (0-100) for 5 subjects\n",
    "subjects = ['Math', 'Science', 'English', 'History', 'Art']\n",
    "scores = np.random.normal(75, 15, (n_students, n_subjects))\n",
    "scores = np.clip(scores, 0, 100)  # Ensure scores are 0-100\n",
    "\n",
    "print(\"📊 Dataset Overview:\")\n",
    "print(f\"Students: {n_students}\")\n",
    "print(f\"Subjects: {subjects}\")\n",
    "print(f\"\\nFirst 5 students' scores:\")\n",
    "print(scores[:5].round(1))\n",
    "\n",
    "# 1. Calculate overall statistics\n",
    "print(\"\\n📈 Overall Statistics:\")\n",
    "print(\"-\" * 40)\n",
    "for i, subject in enumerate(subjects):\n",
    "    subject_scores = scores[:, i]\n",
    "    print(f\"{subject:10} - Mean: {np.mean(subject_scores):.1f}, \"\n",
    "          f\"Std: {np.std(subject_scores):.1f}, \"\n",
    "          f\"Min: {np.min(subject_scores):.1f}, \"\n",
    "          f\"Max: {np.max(subject_scores):.1f}\")\n",
    "\n",
    "# 2. Find top performers\n",
    "average_scores = np.mean(scores, axis=1)\n",
    "top_5_indices = np.argsort(average_scores)[-5:][::-1]\n",
    "\n",
    "print(\"\\n🏆 Top 5 Students:\")\n",
    "print(\"-\" * 40)\n",
    "for rank, idx in enumerate(top_5_indices, 1):\n",
    "    print(f\"Rank {rank}: Student {idx+1} - Average: {average_scores[idx]:.1f}\")\n",
    "\n",
    "# 3. Grade distribution\n",
    "def get_grade(score):\n",
    "    if score >= 90: return 'A'\n",
    "    elif score >= 80: return 'B'\n",
    "    elif score >= 70: return 'C'\n",
    "    elif score >= 60: return 'D'\n",
    "    else: return 'F'\n",
    "\n",
    "# Calculate grades for all students\n",
    "grades = np.array([[get_grade(score) for score in student] \n",
    "                   for student in scores])\n",
    "\n",
    "print(\"\\n📝 Grade Distribution:\")\n",
    "print(\"-\" * 40)\n",
    "for grade in ['A', 'B', 'C', 'D', 'F']:\n",
    "    count = np.sum(grades == grade)\n",
    "    percentage = (count / (n_students * n_subjects)) * 100\n",
    "    print(f\"Grade {grade}: {count:3d} ({percentage:5.1f}%)\")\n",
    "\n",
    "# 4. Correlation between subjects\n",
    "correlation_matrix = np.corrcoef(scores.T)\n",
    "\n",
    "print(\"\\n🔗 Subject Correlations:\")\n",
    "print(\"-\" * 40)\n",
    "print(\"Highest correlations:\")\n",
    "for i in range(n_subjects):\n",
    "    for j in range(i+1, n_subjects):\n",
    "        corr = correlation_matrix[i, j]\n",
    "        if corr > 0.3:\n",
    "            print(f\"{subjects[i]} ↔ {subjects[j]}: {corr:.3f}\")\n",
    "\n",
    "# 5. Identify students needing help\n",
    "failing_threshold = 60\n",
    "students_needing_help = np.where(average_scores < failing_threshold)[0]\n",
    "\n",
    "print(f\"\\n⚠️ Students needing help (avg < {failing_threshold}):\")\n",
    "print(\"-\" * 40)\n",
    "if len(students_needing_help) > 0:\n",
    "    for idx in students_needing_help:\n",
    "        weak_subjects = [subjects[i] for i in range(n_subjects) \n",
    "                        if scores[idx, i] < failing_threshold]\n",
    "        print(f\"Student {idx+1} - Avg: {average_scores[idx]:.1f}, \"\n",
    "              f\"Weak in: {', '.join(weak_subjects)}\")\n",
    "else:\n",
    "    print(\"All students are performing well!\")\n",
    "\n",
    "print(\"\\n✅ Analysis Complete!\")"
   ]
  },
  {
   "cell_type": "markdown",
   "metadata": {},
   "source": [
    "---\n",
    "\n",
    "## 🎯 Summary & Next Steps\n",
    "\n",
    "### 🏆 What You've Mastered:\n",
    "\n",
    "✅ **Array Creation & Manipulation**\n",
    "- Creating arrays from lists, functions\n",
    "- Reshaping, stacking, splitting\n",
    "\n",
    "✅ **Lightning-Fast Operations**\n",
    "- Vectorized arithmetic\n",
    "- Universal functions\n",
    "- Aggregations\n",
    "\n",
    "✅ **Advanced Indexing**\n",
    "- Slicing, boolean indexing\n",
    "- Fancy indexing\n",
    "\n",
    "✅ **Broadcasting Magic**\n",
    "- Operations on different shaped arrays\n",
    "\n",
    "✅ **Linear Algebra**\n",
    "- Matrix operations\n",
    "- Solving equations\n",
    "\n",
    "✅ **Random Numbers**\n",
    "- Statistical distributions\n",
    "- Monte Carlo simulations\n",
    "\n",
    "✅ **Real-World Applications**\n",
    "- Image processing\n",
    "- Financial analysis\n",
    "- Machine learning basics\n",
    "\n",
    "### 🚀 Next Steps:\n",
    "\n",
    "1. **Practice Daily**: Solve problems on HackerRank, LeetCode\n",
    "2. **Move to Pandas**: Built on NumPy for data analysis\n",
    "3. **Learn Visualization**: Matplotlib, Seaborn, Plotly\n",
    "4. **Explore ML**: Scikit-learn uses NumPy arrays\n",
    "5. **Deep Learning**: TensorFlow, PyTorch built on NumPy concepts\n",
    "\n",
    "### 💡 Pro Tips:\n",
    "\n",
    "- **Always vectorize** - avoid Python loops\n",
    "- **Use appropriate dtypes** to save memory\n",
    "- **Leverage broadcasting** for elegant solutions\n",
    "- **Profile your code** with `%timeit` in Jupyter\n",
    "- **Read the docs**: numpy.org has excellent documentation\n",
    "\n",
    "### 📚 Resources:\n",
    "\n",
    "- Official NumPy Documentation: numpy.org\n",
    "- NumPy GitHub: github.com/numpy/numpy\n",
    "- SciPy Lectures: scipy-lectures.org\n",
    "- Real Python NumPy Tutorials\n",
    "\n",
    "---\n",
    "\n",
    "## 🎉 Congratulations!\n",
    "\n",
    "You've completed the NumPy Mastery course! You now have the foundation for:\n",
    "- **Data Science** 📊\n",
    "- **Machine Learning** 🤖\n",
    "- **Scientific Computing** 🔬\n",
    "- **Computer Vision** 👁️\n",
    "- **Financial Analysis** 📈\n",
    "\n",
    "Remember: NumPy is the foundation of the Python data science ecosystem. Master it, and everything else becomes easier!\n",
    "\n",
    "**Keep practicing, keep learning, and keep building amazing things with NumPy!** 🚀"
   ]
  },
  {
   "cell_type": "code",
   "execution_count": 36,
   "metadata": {},
   "outputs": [
    {
     "name": "stdout",
     "output_type": "stream",
     "text": [
      "🎊🎊🎊🎊🎊🎊🎊🎊🎊🎊🎊🎊🎊🎊🎊🎊🎊🎊🎊🎊\n",
      "\n",
      "    🏆 NUMPY MASTERY ACHIEVED! 🏆\n",
      "\n",
      "    You're now ready for:\n",
      "    → Pandas (Data Analysis)\n",
      "    → Matplotlib (Visualization)\n",
      "    → Scikit-learn (Machine Learning)\n",
      "    → And much more!\n",
      "\n",
      "🎊🎊🎊🎊🎊🎊🎊🎊🎊🎊🎊🎊🎊🎊🎊🎊🎊🎊🎊🎊\n"
     ]
    }
   ],
   "source": [
    "# 🎊 Course Complete!\n",
    "print(\"🎊\" * 20)\n",
    "print(\"\\n    🏆 NUMPY MASTERY ACHIEVED! 🏆\")\n",
    "print(\"\\n    You're now ready for:\")\n",
    "print(\"    → Pandas (Data Analysis)\")\n",
    "print(\"    → Matplotlib (Visualization)\")\n",
    "print(\"    → Scikit-learn (Machine Learning)\")\n",
    "print(\"    → And much more!\")\n",
    "print(\"\\n\" + \"🎊\" * 20)"
   ]
  }
 ],
 "metadata": {
  "kernelspec": {
   "display_name": "ML_Python",
   "language": "python",
   "name": "python3"
  },
  "language_info": {
   "codemirror_mode": {
    "name": "ipython",
    "version": 3
   },
   "file_extension": ".py",
   "mimetype": "text/x-python",
   "name": "python",
   "nbconvert_exporter": "python",
   "pygments_lexer": "ipython3",
   "version": "3.11.7"
  }
 },
 "nbformat": 4,
 "nbformat_minor": 4
}
