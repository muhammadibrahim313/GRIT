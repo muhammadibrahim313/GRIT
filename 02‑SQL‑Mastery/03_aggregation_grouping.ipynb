{
 "cells": [
  {
   "cell_type": "markdown",
   "metadata": {},
   "source": [
    "# GRIT: Aggregation & Grouping - Day 3\n",
    "\n",
    "**Learning Objectives**\n",
    "- Master aggregation functions (COUNT, SUM, AVG, MIN, MAX)\n",
    "- Group data with GROUP BY\n",
    "- Filter groups with HAVING\n",
    "- Combine aggregation with filtering\n",
    "- Create summary reports\n",
    "\n",
    "**Why this matters**  \n",
    "Raw data is like individual puzzle pieces. Aggregation lets you step back and see the big picture - total sales, average prices, customer counts, and business patterns. This is where data becomes insights!\n",
    "\n",
    "Today you'll learn to summarize mountains of data into meaningful business intelligence."
   ]
  },
  {
   "cell_type": "markdown",
   "metadata": {},
   "source": [
    "## Setup: Connect to Our Database\n",
    "\n",
    "Let's connect to our e-commerce database:"
   ]
  },
  {
   "cell_type": "code",
   "execution_count": null,
   "metadata": {},
   "outputs": [],
   "source": [
    "# Load the SQL extension\n",
    "%load_ext sql\n",
    "\n",
    "# Connect to our sample database\n",
    "%sql sqlite:///ecommerce.db\n",
    "\n",
    "print(\"✅ Connected to database!\")"
   ]
  },
  {
   "cell_type": "markdown",
   "metadata": {},
   "source": [
    "## Theory: Understanding Aggregation\n",
    "\n",
    "### What is Aggregation?\n",
    "Aggregation is like summarizing a shopping list:\n",
    "- **Individual items**: Apple, Banana, Apple, Orange, Banana\n",
    "- **Summary**: 2 Apples, 2 Bananas, 1 Orange\n",
    "\n",
    "### Common Aggregation Functions:\n",
    "- **COUNT()**: How many items?\n",
    "- **SUM()**: Total of numbers\n",
    "- **AVG()**: Average value\n",
    "- **MIN()**: Smallest value\n",
    "- **MAX()**: Largest value\n",
    "\n",
    "### When to Use GROUP BY:\n",
    "GROUP BY creates subgroups, like:\n",
    "- \"Show me sales by category\"\n",
    "- \"Count customers by state\"\n",
    "- \"Average price by brand\"\n",
    "\n",
    "### WHERE vs HAVING:\n",
    "- **WHERE**: Filters rows before grouping\n",
    "- **HAVING**: Filters groups after aggregation"
   ]
  },
  {
   "cell_type": "markdown",
   "metadata": {},
   "source": [
    "## Examples: Basic Aggregation Functions\n",
    "\n",
    "Let's start with counting and basic summaries:"
   ]
  },
  {
   "cell_type": "code",
   "execution_count": null,
   "metadata": {},
   "outputs": [],
   "source": [
    "-- Example 1: Count total customers\n",
    "SELECT COUNT(*) as total_customers\n",
    "FROM customers;"
   ]
  },
  {
   "cell_type": "code",
   "execution_count": null,
   "metadata": {},
   "outputs": [],
   "source": [
    "-- Example 2: Count customers with phone numbers\n",
    "SELECT COUNT(phone) as customers_with_phone\n",
    "FROM customers;"
   ]
  },
  {
   "cell_type": "code",
   "execution_count": null,
   "metadata": {},
   "outputs": [],
   "source": [
    "-- Example 3: Count products by category\n",
    "SELECT category, COUNT(*) as product_count\n",
    "FROM products\n",
    "GROUP BY category\n",
    "ORDER BY product_count DESC;"
   ]
  },
  {
   "cell_type": "code",
   "execution_count": null,
   "metadata": {},
   "outputs": [],
   "source": [
    "-- Example 4: Total value of all products\n",
    "SELECT SUM(price) as total_inventory_value\n",
    "FROM products;"
   ]
  },
  {
   "cell_type": "code",
   "execution_count": null,
   "metadata": {},
   "outputs": [],
   "source": [
    "-- Example 5: Average product price\n",
    "SELECT AVG(price) as average_price\n",
    "FROM products;"
   ]
  },
  {
   "cell_type": "code",
   "execution_count": null,
   "metadata": {},
   "outputs": [],
   "source": [
    "-- Example 6: Most expensive and cheapest products\n",
    "SELECT MAX(price) as highest_price, MIN(price) as lowest_price\n",
    "FROM products;"
   ]
  },
  {
   "cell_type": "markdown",
   "metadata": {},
   "source": [
    "## Examples: GROUP BY with Single Aggregation\n",
    "\n",
    "GROUP BY creates categories and calculates for each group:"
   ]
  },
  {
   "cell_type": "code",
   "execution_count": null,
   "metadata": {},
   "outputs": [],
   "source": [
    "-- Example 7: Average price by category\n",
    "SELECT category, AVG(price) as avg_price\n",
    "FROM products\n",
    "GROUP BY category\n",
    "ORDER BY avg_price DESC;"
   ]
  },
  {
   "cell_type": "code",
   "execution_count": null,
   "metadata": {},
   "outputs": [],
   "source": [
    "-- Example 8: Total stock by category\n",
    "SELECT category, SUM(stock_quantity) as total_stock\n",
    "FROM products\n",
    "GROUP BY category\n",
    "ORDER BY total_stock DESC;"
   ]
  },
  {
   "cell_type": "code",
   "execution_count": null,
   "metadata": {},
   "outputs": [],
   "source": [
    "-- Example 9: Customer count by state\n",
    "SELECT state, COUNT(*) as customer_count\n",
    "FROM customers\n",
    "GROUP BY state\n",
    "ORDER BY customer_count DESC;"
   ]
  },
  {
   "cell_type": "markdown",
   "metadata": {},
   "source": [
    "## Examples: Multiple Aggregations per Group\n",
    "\n",
    "You can calculate multiple summaries for each group:"
   ]
  },
  {
   "cell_type": "code",
   "execution_count": null,
   "metadata": {},
   "outputs": [],
   "source": [
    "-- Example 10: Product statistics by category\n",
    "SELECT category,\n",
    "       COUNT(*) as product_count,\n",
    "       AVG(price) as avg_price,\n",
    "       MIN(price) as min_price,\n",
    "       MAX(price) as max_price\n",
    "FROM products\n",
    "GROUP BY category\n",
    "ORDER BY product_count DESC;"
   ]
  },
  {
   "cell_type": "code",
   "execution_count": null,
   "metadata": {},
   "outputs": [],
   "source": [
    "-- Example 11: Order statistics by status\n",
    "SELECT order_status,\n",
    "       COUNT(*) as order_count,\n",
    "       AVG(total_amount) as avg_order_value,\n",
    "       SUM(total_amount) as total_value\n",
    "FROM orders\n",
    "GROUP BY order_status\n",
    "ORDER BY total_value DESC;"
   ]
  },
  {
   "cell_type": "markdown",
   "metadata": {},
   "source": [
    "## Examples: HAVING Clause\n",
    "\n",
    "HAVING filters groups after aggregation (WHERE filters before):"
   ]
  },
  {
   "cell_type": "code",
   "execution_count": null,
   "metadata": {},
   "outputs": [],
   "source": [
    "-- Example 12: Categories with high average prices\n",
    "SELECT category, AVG(price) as avg_price\n",
    "FROM products\n",
    "GROUP BY category\n",
    "HAVING AVG(price) > 100\n",
    "ORDER BY avg_price DESC;"
   ]
  },
  {
   "cell_type": "code",
   "execution_count": null,
   "metadata": {},
   "outputs": [],
   "source": [
    "-- Example 13: States with many customers\n",
    "SELECT state, COUNT(*) as customer_count\n",
    "FROM customers\n",
    "GROUP BY state\n",
    "HAVING COUNT(*) >= 2\n",
    "ORDER BY customer_count DESC;"
   ]
  },
  {
   "cell_type": "code",
   "execution_count": null,
   "metadata": {},
   "outputs": [],
   "source": [
    "-- Example 14: Categories with expensive products and good stock\n",
    "SELECT category,\n",
    "       COUNT(*) as product_count,\n",
    "       AVG(price) as avg_price,\n",
    "       SUM(stock_quantity) as total_stock\n",
    "FROM products\n",
    "GROUP BY category\n",
    "HAVING AVG(price) > 50 AND SUM(stock_quantity) > 20\n",
    "ORDER BY avg_price DESC;"
   ]
  },
  {
   "cell_type": "markdown",
   "metadata": {},
   "source": [
    "## Examples: Combining WHERE and HAVING\n",
    "\n",
    "Use WHERE for row filtering, HAVING for group filtering:"
   ]
  },
  {
   "cell_type": "code",
   "execution_count": null,
   "metadata": {},
   "outputs": [],
   "source": [
    "-- Example 15: Popular states with active customers only\n",
    "SELECT state, COUNT(*) as active_customers\n",
    "FROM customers\n",
    "WHERE customer_status = 'active'\n",
    "GROUP BY state\n",
    "HAVING COUNT(*) >= 2\n",
    "ORDER BY active_customers DESC;"
   ]
  },
  {
   "cell_type": "code",
   "execution_count": null,
   "metadata": {},
   "outputs": [],
   "source": [
    "-- Example 16: High-value orders by status (exclude cheap orders)\n",
    "SELECT order_status,\n",
    "       COUNT(*) as order_count,\n",
    "       AVG(total_amount) as avg_value\n",
    "FROM orders\n",
    "WHERE total_amount > 50\n",
    "GROUP BY order_status\n",
    "HAVING COUNT(*) > 2\n",
    "ORDER BY avg_value DESC;"
   ]
  },
  {
   "cell_type": "markdown",
   "metadata": {},
   "source": [
    "## Examples: Business Intelligence Reports\n",
    "\n",
    "Let's create some real business reports:"
   ]
  },
  {
   "cell_type": "code",
   "execution_count": null,
   "metadata": {},
   "outputs": [],
   "source": [
    "-- Example 17: Product Category Performance Report\n",
    "SELECT category,\n",
    "       COUNT(*) as products_offered,\n",
    "       SUM(stock_quantity) as total_stock,\n",
    "       AVG(price) as avg_selling_price,\n",
    "       MIN(price) as lowest_price,\n",
    "       MAX(price) as highest_price\n",
    "FROM products\n",
    "GROUP BY category\n",
    "ORDER BY total_stock DESC;"
   ]
  },
  {
   "cell_type": "code",
   "execution_count": null,
   "metadata": {},
   "outputs": [],
   "source": [
    "-- Example 18: Customer Demographics by State\n",
    "SELECT state,\n",
    "       COUNT(*) as total_customers,\n",
    "       COUNT(phone) as with_phone,\n",
    "       ROUND(AVG(CASE WHEN phone IS NOT NULL THEN 1 ELSE 0 END) * 100, 1) as phone_pct\n",
    "FROM customers\n",
    "GROUP BY state\n",
    "ORDER BY total_customers DESC;"
   ]
  },
  {
   "cell_type": "code",
   "execution_count": null,
   "metadata": {},
   "outputs": [],
   "source": [
    "-- Example 19: Order Status Summary\n",
    "SELECT order_status,\n",
    "       COUNT(*) as order_count,\n",
    "       SUM(total_amount) as total_revenue,\n",
    "       AVG(total_amount) as avg_order_value,\n",
    "       MIN(total_amount) as smallest_order,\n",
    "       MAX(total_amount) as largest_order\n",
    "FROM orders\n",
    "GROUP BY order_status\n",
    "ORDER BY total_revenue DESC;"
   ]
  },
  {
   "cell_type": "markdown",
   "metadata": {},
   "source": [
    "## Exercises\n",
    "\n",
    "### Exercise 1: Basic Counting\n",
    "Count the total number of orders in our database"
   ]
  },
  {
   "cell_type": "code",
   "execution_count": null,
   "metadata": {},
   "outputs": [],
   "source": [
    "-- Your code here\n",
    "SELECT COUNT(*) as total_orders\n",
    "FROM orders;"
   ]
  },
  {
   "cell_type": "markdown",
   "metadata": {},
   "source": [
    "### Exercise 2: Group By Category\n",
    "Show the count of products in each category, ordered by count descending"
   ]
  },
  {
   "cell_type": "code",
   "execution_count": null,
   "metadata": {},
   "outputs": [],
   "source": [
    "-- Your code here\n",
    "SELECT category, COUNT(*) as product_count\n",
    "FROM products\n",
    "GROUP BY category\n",
    "ORDER BY product_count DESC;"
   ]
  },
  {
   "cell_type": "markdown",
   "metadata": {},
   "source": [
    "### Exercise 3: Price Statistics\n",
    "Calculate the average, minimum, and maximum price for products"
   ]
  },
  {
   "cell_type": "code",
   "execution_count": null,
   "metadata": {},
   "outputs": [],
   "source": [
    "-- Your code here\n",
    "SELECT AVG(price) as avg_price,\n",
    "       MIN(price) as min_price,\n",
    "       MAX(price) as max_price\n",
    "FROM products;"
   ]
  },
  {
   "cell_type": "markdown",
   "metadata": {},
   "source": [
    "### Exercise 4: Using HAVING\n",
    "Find categories that have more than 2 products"
   ]
  },
  {
   "cell_type": "code",
   "execution_count": null,
   "metadata": {},
   "outputs": [],
   "source": [
    "-- Your code here\n",
    "SELECT category, COUNT(*) as product_count\n",
    "FROM products\n",
    "GROUP BY category\n",
    "HAVING COUNT(*) > 2\n",
    "ORDER BY product_count DESC;"
   ]
  },
  {
   "cell_type": "markdown",
   "metadata": {},
   "source": [
    "### Exercise 5: Combined WHERE and HAVING\n",
    "Find states with active customers, showing only states with 2+ active customers"
   ]
  },
  {
   "cell_type": "code",
   "execution_count": null,
   "metadata": {},
   "outputs": [],
   "source": [
    "-- Your code here\n",
    "SELECT state, COUNT(*) as active_count\n",
    "FROM customers\n",
    "WHERE customer_status = 'active'\n",
    "GROUP BY state\n",
    "HAVING COUNT(*) >= 2\n",
    "ORDER BY active_count DESC;"
   ]
  },
  {
   "cell_type": "markdown",
   "metadata": {},
   "source": [
    "### Exercise 6: Business Report\n",
    "Create a report showing order status performance with revenue and average order value"
   ]
  },
  {
   "cell_type": "code",
   "execution_count": null,
   "metadata": {},
   "outputs": [],
   "source": [
    "-- Your code here\n",
    "SELECT order_status,\n",
    "       COUNT(*) as order_count,\n",
    "       SUM(total_amount) as total_revenue,\n",
    "       AVG(total_amount) as avg_order_value\n",
    "FROM orders\n",
    "GROUP BY order_status\n",
    "ORDER BY total_revenue DESC;"
   ]
  },
  {
   "cell_type": "markdown",
   "metadata": {},
   "source": [
    "## Debug-Me Cell\n",
    "\n",
    "This query has an error. It should show categories with average price over $100, but it's not working. Can you fix it?"
   ]
  },
  {
   "cell_type": "code",
   "execution_count": null,
   "metadata": {},
   "outputs": [],
   "source": [
    "-- Debug this query\n",
    "SELECT category, AVG(price) as avg_price\n",
    "FROM products\n",
    "WHERE AVG(price) > 100  -- This won't work!\n",
    "GROUP BY category;\n",
    "\n",
    "-- Hint: WHERE cannot use aggregate functions. Use HAVING instead!"
   ]
  },
  {
   "cell_type": "markdown",
   "metadata": {},
   "source": [
    "## Takeaways & Further Reading\n",
    "\n",
    "### Aggregation Functions Mastered:\n",
    "✅ **COUNT()**: Count rows or non-NULL values  \n",
    "✅ **SUM()**: Add up numeric values  \n",
    "✅ **AVG()**: Calculate average values  \n",
    "✅ **MIN()**: Find smallest values  \n",
    "✅ **MAX()**: Find largest values  \n",
    "\n",
    "### GROUP BY & HAVING:\n",
    "✅ **GROUP BY**: Create subgroups for analysis  \n",
    "✅ **HAVING**: Filter groups after aggregation  \n",
    "✅ **WHERE vs HAVING**: WHERE filters rows, HAVING filters groups  \n",
    "\n",
    "### Key Concepts:\n",
    "- **Aggregation** turns detailed data into summaries\n",
    "- **GROUP BY** creates categories for analysis\n",
    "- **HAVING** filters aggregated results (not WHERE)\n",
    "- **Multiple aggregations** per group provide rich insights\n",
    "- **Business reports** combine multiple aggregations\n",
    "\n",
    "### SQL Best Practices:\n",
    "- Use aliases for complex aggregations\n",
    "- Combine WHERE and HAVING for powerful filtering\n",
    "- Use ROUND() for currency formatting\n",
    "- Order results meaningfully\n",
    "\n",
    "### Tomorrow Preview:\n",
    "Day 4: **JOINs & Relationships** - Learn to combine data from multiple tables. We'll connect customers to their orders and products to sales data!\n",
    "\n",
    "### Practice Resources:\n",
    "- [SQL GROUP BY](https://www.w3schools.com/sql/sql_groupby.asp)\n",
    "- [SQL Aggregate Functions](https://www.w3schools.com/sql/sql_count_avg_sum.asp)\n",
    "- [HAVING vs WHERE](https://www.sqlshack.com/sql-having-vs-where/)\n",
    "\n",
    "**Congratulations! You can now summarize data like a pro! 📊**"
   ]
  }
 ],
 "metadata": {
  "kernelspec": {
   "display_name": "Python 3",
   "language": "python",
   "name": "python3"
  },
  "language_info": {
   "codemirror_mode": {
    "name": "ipython",
    "version": 3
   },
   "file_extension": ".py",
   "mimetype": "text/x-python",
   "name": "python",
   "nbconvert_exporter": "python",
   "pygments_lexer": "ipython3",
   "version": "3.8.5"
  }
 },
 "nbformat": 4,
 "nbformat_minor": 4
}
