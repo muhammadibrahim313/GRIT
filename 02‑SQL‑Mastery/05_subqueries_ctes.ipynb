{
 "cells": [
  {
   "cell_type": "markdown",
   "metadata": {},
   "source": [
    "# GRIT: Subqueries & CTEs - Day 5\n",
    "\n",
    "**Learning Objectives**\n",
    "- Master subqueries in WHERE, FROM, and SELECT clauses\n",
    "- Use Common Table Expressions (CTEs) for readability\n",
    "- Understand correlated vs non-correlated subqueries\n",
    "- Apply recursive CTEs for hierarchical data\n",
    "- Write complex business queries with nested logic\n",
    "- Optimize query performance with advanced techniques\n",
    "\n",
    "**Why this matters**  \n",
    "Simple queries can only answer basic questions. Subqueries and CTEs let you ask sophisticated questions like \"Find customers who spent more than the average customer\" or \"Show products that outsold their category average.\" This is where SQL becomes a powerful analytical tool!\n",
    "\n",
    "Today you'll learn to write nested queries that solve complex business problems."
   ]
  },
  {
   "cell_type": "markdown",
   "metadata": {},
   "source": [
    "## Setup: Connect to Our Database\n",
    "\n",
    "Let's connect to our e-commerce database:"
   ]
  },
  {
   "cell_type": "code",
   "execution_count": null,
   "metadata": {},
   "outputs": [],
   "source": [
    "# Load the SQL extension\n",
    "%load_ext sql\n",
    "\n",
    "# Connect to our sample database\n",
    "%sql sqlite:///ecommerce.db\n",
    "\n",
    "print(\"✅ Connected to database!\")"
   ]
  },
  {
   "cell_type": "markdown",
   "metadata": {},
   "source": [
    "## Theory: Understanding Subqueries & CTEs\n",
    "\n",
    "### What Are Subqueries?\n",
    "A subquery is a query nested inside another query. Like a Russian doll of SQL!\n",
    "\n",
    "**Types of Subqueries:**\n",
    "- **Scalar**: Returns single value (used in SELECT/WHERE)\n",
    "- **Single-row**: Returns one row (used in WHERE)\n",
    "- **Multi-row**: Returns multiple rows (used with IN/EXISTS)\n",
    "- **Table**: Returns table (used in FROM)\n",
    "\n",
    "### What Are CTEs?\n",
    "**Common Table Expressions** make complex queries readable:\n",
    "```sql\n",
    "WITH cte_name AS (\n",
    "    -- Complex subquery here\n",
    ")\n",
    "SELECT * FROM cte_name;\n",
    "```\n",
    "\n",
    "### Correlated vs Non-Correlated:\n",
    "- **Non-correlated**: Independent subquery (runs once)\n",
    "- **Correlated**: References outer query (runs for each row)\n",
    "\n",
    "### Performance Note:\n",
    "CTEs are often more readable but may not always be faster than subqueries."
   ]
  },
  {
   "cell_type": "markdown",
   "metadata": {},
   "source": [
    "## Examples: Scalar Subqueries\n",
    "\n",
    "Scalar subqueries return a single value:"
   ]
  },
  {
   "cell_type": "code",
   "execution_count": null,
   "metadata": {},
   "outputs": [],
   "source": [
    "-- Example 1: Find customers who spent more than average\n",
    "SELECT c.first_name, c.last_name,\n",
    "       COALESCE(SUM(o.total_amount), 0) as total_spent\n",
    "FROM customers c\n",
    "LEFT JOIN orders o ON c.customer_id = o.customer_id\n",
    "GROUP BY c.customer_id, c.first_name, c.last_name\n",
    "HAVING COALESCE(SUM(o.total_amount), 0) > (\n",
    "    -- Subquery: Calculate average spending\n",
    "    SELECT AVG(customer_total)\n",
    "    FROM (\n",
    "        SELECT COALESCE(SUM(o2.total_amount), 0) as customer_total\n",
    "        FROM customers c2\n",
    "        LEFT JOIN orders o2 ON c2.customer_id = o2.customer_id\n",
    "        GROUP BY c2.customer_id\n",
    "    )\n",
    ")\n",
    "ORDER BY total_spent DESC;"
   ]
  },
  {
   "cell_type": "code",
   "execution_count": null,
   "metadata": {},
   "outputs": [],
   "source": [
    "-- Example 2: Products priced above category average\n",
    "SELECT p.product_name, p.category, p.price,\n",
    "       ROUND(category_avg, 2) as category_avg\n",
    "FROM products p\n",
    "INNER JOIN (\n",
    "    -- Subquery: Calculate average price per category\n",
    "    SELECT category, AVG(price) as category_avg\n",
    "    FROM products\n",
    "    GROUP BY category\n",
    ") cat_avg ON p.category = cat_avg.category\n",
    "WHERE p.price > cat_avg.category_avg\n",
    "ORDER BY p.category, p.price DESC;"
   ]
  },
  {
   "cell_type": "markdown",
   "metadata": {},
   "source": [
    "## Examples: Subqueries in WHERE Clause\n",
    "\n",
    "WHERE subqueries filter based on other query results:"
   ]
  },
  {
   "cell_type": "code",
   "execution_count": null,
   "metadata": {},
   "outputs": [],
   "source": [
    "-- Example 3: Find products never ordered\n",
    "SELECT p.product_name, p.category, p.price\n",
    "FROM products p\n",
    "WHERE p.product_id NOT IN (\n",
    "    -- Subquery: Get all ordered product IDs\n",
    "    SELECT DISTINCT product_id\n",
    "    FROM order_items\n",
    ")\n",
    "ORDER BY p.category, p.price DESC;"
   ]
  },
  {
   "cell_type": "code",
   "execution_count": null,
   "metadata": {},
   "outputs": [],
   "source": [
    "-- Example 4: Customers who ordered in last 30 days\n",
    "SELECT DISTINCT c.first_name, c.last_name, c.email\n",
    "FROM customers c\n",
    "INNER JOIN orders o ON c.customer_id = o.customer_id\n",
    "WHERE o.order_date >= (\n",
    "    -- Subquery: Calculate date 30 days ago\n",
    "    SELECT DATE('now', '-30 days')\n",
    ")\n",
    "ORDER BY c.last_name;"
   ]
  },
  {
   "cell_type": "code",
   "execution_count": null,
   "metadata": {},
   "outputs": [],
   "source": [
    "-- Example 5: Orders above average order value\n",
    "SELECT o.order_id, c.first_name, c.last_name,\n",
    "       o.order_date, o.total_amount\n",
    "FROM orders o\n",
    "INNER JOIN customers c ON o.customer_id = c.customer_id\n",
    "WHERE o.total_amount > (\n",
    "    -- Subquery: Get average order value\n",
    "    SELECT AVG(total_amount) FROM orders\n",
    ")\n",
    "ORDER BY o.total_amount DESC;"
   ]
  },
  {
   "cell_type": "markdown",
   "metadata": {},
   "source": [
    "## Examples: EXISTS and NOT EXISTS\n",
    "\n",
    "EXISTS tests for the existence of rows:"
   ]
  },
  {
   "cell_type": "code",
   "execution_count": null,
   "metadata": {},
   "outputs": [],
   "source": [
    "-- Example 6: Customers who have placed orders\n",
    "SELECT c.first_name, c.last_name, c.email\n",
    "FROM customers c\n",
    "WHERE EXISTS (\n",
    "    -- Subquery: Check if customer has any orders\n",
    "    SELECT 1 FROM orders o\n",
    "    WHERE o.customer_id = c.customer_id\n",
    ")\n",
    "ORDER BY c.last_name;"
   ]
  },
  {
   "cell_type": "code",
   "execution_count": null,
   "metadata": {},
   "outputs": [],
   "source": [
    "-- Example 7: Products that have been ordered\n",
    "SELECT p.product_name, p.category, p.price\n",
    "FROM products p\n",
    "WHERE EXISTS (\n",
    "    -- Subquery: Check if product appears in any order\n",
    "    SELECT 1 FROM order_items oi\n",
    "    WHERE oi.product_id = p.product_id\n",
    ")\n",
    "ORDER BY p.category, p.product_name;"
   ]
  },
  {
   "cell_type": "markdown",
   "metadata": {},
   "source": [
    "## Examples: Subqueries in FROM Clause\n",
    "\n",
    "FROM subqueries create temporary tables:"
   ]
  },
  {
   "cell_type": "code",
   "execution_count": null,
   "metadata": {},
   "outputs": [],
   "source": [
    "-- Example 8: Customer spending summary\n",
    "SELECT customer_summary.customer_name,\n",
    "       customer_summary.total_orders,\n",
    "       customer_summary.total_spent,\n",
    "       CASE\n",
    "           WHEN customer_summary.total_spent > 200 THEN 'High Value'\n",
    "           WHEN customer_summary.total_spent > 100 THEN 'Medium Value'\n",
    "           ELSE 'Low Value'\n",
    "       END as customer_segment\n",
    "FROM (\n",
    "    -- Subquery: Calculate customer metrics\n",
    "    SELECT c.customer_id,\n",
    "           c.first_name || ' ' || c.last_name as customer_name,\n",
    "           COUNT(o.order_id) as total_orders,\n",
    "           COALESCE(SUM(o.total_amount), 0) as total_spent\n",
    "    FROM customers c\n",
    "    LEFT JOIN orders o ON c.customer_id = o.customer_id\n",
    "    GROUP BY c.customer_id, c.first_name, c.last_name\n",
    ") customer_summary\n",
    "ORDER BY customer_summary.total_spent DESC;"
   ]
  },
  {
   "cell_type": "code",
   "execution_count": null,
   "metadata": {},
   "outputs": [],
   "source": [
    "-- Example 9: Product sales performance\n",
    "SELECT product_perf.product_name,\n",
    "       product_perf.category,\n",
    "       product_perf.total_sold,\n",
    "       product_perf.revenue,\n",
    "       CASE\n",
    "           WHEN product_perf.total_sold > 10 THEN 'Best Seller'\n",
    "           WHEN product_perf.total_sold > 5 THEN 'Good Seller'\n",
    "           ELSE 'Slow Seller'\n",
    "       END as performance\n",
    "FROM (\n",
    "    -- Subquery: Calculate product sales\n",
    "    SELECT p.product_name, p.category,\n",
    "           COALESCE(SUM(oi.quantity), 0) as total_sold,\n",
    "           COALESCE(SUM(oi.total_price), 0) as revenue\n",
    "    FROM products p\n",
    "    LEFT JOIN order_items oi ON p.product_id = oi.product_id\n",
    "    GROUP BY p.product_id, p.product_name, p.category\n",
    ") product_perf\n",
    "ORDER BY product_perf.revenue DESC;"
   ]
  },
  {
   "cell_type": "markdown",
   "metadata": {},
   "source": [
    "## Examples: Common Table Expressions (CTEs)\n",
    "\n",
    "CTEs make complex queries more readable:"
   ]
  },
  {
   "cell_type": "code",
   "execution_count": null,
   "metadata": {},
   "outputs": [],
   "source": [
    "-- Example 10: Customer lifetime value with CTE\n",
    "WITH customer_ltv AS (\n",
    "    -- CTE: Calculate customer metrics\n",
    "    SELECT c.customer_id,\n",
    "           c.first_name || ' ' || c.last_name as customer_name,\n",
    "           COUNT(o.order_id) as order_count,\n",
    "           COALESCE(SUM(o.total_amount), 0) as lifetime_value,\n",
    "           COALESCE(AVG(o.total_amount), 0) as avg_order_value,\n",
    "           MAX(o.order_date) as last_order_date\n",
    "    FROM customers c\n",
    "    LEFT JOIN orders o ON c.customer_id = o.customer_id\n",
    "    GROUP BY c.customer_id, c.first_name, c.last_name\n",
    "),\n",
    "customer_rankings AS (\n",
    "    -- CTE: Rank customers by lifetime value\n",
    "    SELECT customer_name,\n",
    "           lifetime_value,\n",
    "           NTILE(3) OVER (ORDER BY lifetime_value DESC) as value_tier\n",
    "    FROM customer_ltv\n",
    "    WHERE lifetime_value > 0\n",
    ")\n",
    "-- Main query using CTEs\n",
    "SELECT cr.customer_name,\n",
    "       ROUND(cr.lifetime_value, 2) as lifetime_value,\n",
    "       CASE cr.value_tier\n",
    "           WHEN 1 THEN 'Platinum'\n",
    "           WHEN 2 THEN 'Gold'\n",
    "           WHEN 3 THEN 'Silver'\n",
    "       END as customer_tier\n",
    "FROM customer_rankings cr\n",
    "ORDER BY cr.lifetime_value DESC;"
   ]
  },
  {
   "cell_type": "code",
   "execution_count": null,
   "metadata": {},
   "outputs": [],
   "source": [
    "-- Example 11: Category performance analysis\n",
    "WITH category_stats AS (\n",
    "    -- CTE: Calculate category metrics\n",
    "    SELECT p.category,\n",
    "           COUNT(DISTINCT p.product_id) as products_offered,\n",
    "           COUNT(oi.order_item_id) as total_sales,\n",
    "           COALESCE(SUM(oi.total_price), 0) as category_revenue,\n",
    "           COALESCE(AVG(oi.total_price), 0) as avg_sale_price\n",
    "    FROM products p\n",
    "    LEFT JOIN order_items oi ON p.product_id = oi.product_id\n",
    "    GROUP BY p.category\n",
    "),\n",
    "category_rankings AS (\n",
    "    -- CTE: Rank categories by revenue\n",
    "    SELECT category,\n",
    "           category_revenue,\n",
    "           RANK() OVER (ORDER BY category_revenue DESC) as revenue_rank,\n",
    "           ROUND((category_revenue / SUM(category_revenue) OVER ()) * 100, 1) as revenue_pct\n",
    "    FROM category_stats\n",
    ")\n",
    "-- Main query\n",
    "SELECT cr.category,\n",
    "       ROUND(cr.category_revenue, 2) as revenue,\n",
    "       cr.revenue_rank,\n",
    "       cr.revenue_pct || '%' as revenue_percentage\n",
    "FROM category_rankings cr\n",
    "ORDER BY cr.category_revenue DESC;"
   ]
  },
  {
   "cell_type": "markdown",
   "metadata": {},
   "source": [
    "## Examples: Advanced CTE Patterns\n",
    "\n",
    "More sophisticated CTE usage:"
   ]
  },
  {
   "cell_type": "code",
   "execution_count": null,
   "metadata": {},
   "outputs": [],
   "source": [
    "-- Example 12: Monthly sales trend analysis\n",
    "WITH monthly_sales AS (\n",
    "    -- CTE: Group sales by month\n",
    "    SELECT strftime('%Y-%m', o.order_date) as month,\n",
    "           COUNT(o.order_id) as orders_count,\n",
    "           COUNT(DISTINCT o.customer_id) as unique_customers,\n",
    "           SUM(o.total_amount) as monthly_revenue,\n",
    "           AVG(o.total_amount) as avg_order_value\n",
    "    FROM orders o\n",
    "    GROUP BY strftime('%Y-%m', o.order_date)\n",
    "),\n",
    "sales_comparison AS (\n",
    "    -- CTE: Calculate month-over-month changes\n",
    "    SELECT month,\n",
    "           monthly_revenue,\n",
    "           LAG(monthly_revenue) OVER (ORDER BY month) as prev_month_revenue,\n",
    "           ROUND(\n",
    "               ((monthly_revenue - LAG(monthly_revenue) OVER (ORDER BY month)) /\n",
    "                NULLIF(LAG(monthly_revenue) OVER (ORDER BY month), 0)) * 100, 1\n",
    "           ) as growth_pct\n",
    "    FROM monthly_sales\n",
    ")\n",
    "-- Main query\n",
    "SELECT sc.month,\n",
    "       ROUND(sc.monthly_revenue, 2) as revenue,\n",
    "       ROUND(sc.prev_month_revenue, 2) as prev_month,\n",
    "       COALESCE(sc.growth_pct, 0) || '%' as growth\n",
    "FROM sales_comparison sc\n",
    "ORDER BY sc.month DESC;"
   ]
  },
  {
   "cell_type": "code",
   "execution_count": null,
   "metadata": {},
   "outputs": [],
   "source": [
    "-- Example 13: Customer retention analysis\n",
    "WITH customer_orders AS (\n",
    "    -- CTE: Get customer order history\n",
    "    SELECT c.customer_id,\n",
    "           c.first_name || ' ' || c.last_name as customer_name,\n",
    "           o.order_id,\n",
    "           o.order_date,\n",
    "           o.total_amount,\n",
    "           ROW_NUMBER() OVER (PARTITION BY c.customer_id ORDER BY o.order_date) as order_number\n",
    "    FROM customers c\n",
    "    INNER JOIN orders o ON c.customer_id = o.customer_id\n",
    "),\n",
    "first_last_orders AS (\n",
    "    -- CTE: Get first and last order dates per customer\n",
    "    SELECT customer_id,\n",
    "           customer_name,\n",
    "           MIN(order_date) as first_order_date,\n",
    "           MAX(order_date) as last_order_date,\n",
    "           COUNT(*) as total_orders,\n",
    "           SUM(total_amount) as lifetime_value\n",
    "    FROM customer_orders\n",
    "    GROUP BY customer_id, customer_name\n",
    "),\n",
    "customer_segments AS (\n",
    "    -- CTE: Segment customers based on recency and frequency\n",
    "    SELECT customer_name,\n",
    "           total_orders,\n",
    "           lifetime_value,\n",
    "           CASE\n",
    "               WHEN total_orders >= 5 THEN 'Champion'\n",
    "               WHEN total_orders >= 3 THEN 'Loyal'\n",
    "               WHEN total_orders >= 2 THEN 'Regular'\n",
    "               ELSE 'New'\n",
    "           END as customer_type\n",
    "    FROM first_last_orders\n",
    ")\n",
    "-- Main query\n",
    "SELECT cs.customer_type,\n",
    "       COUNT(*) as customer_count,\n",
    "       ROUND(AVG(cs.total_orders), 1) as avg_orders,\n",
    "       ROUND(AVG(cs.lifetime_value), 2) as avg_lifetime_value\n",
    "FROM customer_segments cs\n",
    "GROUP BY cs.customer_type\n",
    "ORDER BY avg_lifetime_value DESC;"
   ]
  },
  {
   "cell_type": "markdown",
   "metadata": {},
   "source": [
    "## Examples: Correlated Subqueries\n",
    "\n",
    "Correlated subqueries reference the outer query:"
   ]
  },
  {
   "cell_type": "code",
   "execution_count": null,
   "metadata": {},
   "outputs": [],
   "source": [
    "-- Example 14: Products with above-average price in their category\n",
    "SELECT p.product_name, p.category, p.price\n",
    "FROM products p\n",
    "WHERE p.price > (\n",
    "    -- Correlated subquery: Average price for this product's category\n",
    "    SELECT AVG(p2.price)\n",
    "    FROM products p2\n",
    "    WHERE p2.category = p.category\n",
    ")\n",
    "ORDER BY p.category, p.price DESC;"
   ]
  },
  {
   "cell_type": "code",
   "execution_count": null,
   "metadata": {},
   "outputs": [],
   "source": [
    "-- Example 15: Customers who spent more than their state's average\n",
    "SELECT c.first_name, c.last_name, c.state,\n",
    "       COALESCE(customer_spending.total_spent, 0) as customer_spent,\n",
    "       ROUND(state_avg.avg_state_spending, 2) as state_average\n",
    "FROM customers c\n",
    "LEFT JOIN (\n",
    "    SELECT customer_id, COALESCE(SUM(total_amount), 0) as total_spent\n",
    "    FROM orders\n",
    "    GROUP BY customer_id\n",
    ") customer_spending ON c.customer_id = customer_spending.customer_id\n",
    "LEFT JOIN (\n",
    "    -- Subquery: Average spending per state\n",
    "    SELECT c2.state, AVG(COALESCE(customer_totals.total_spent, 0)) as avg_state_spending\n",
    "    FROM customers c2\n",
    "    LEFT JOIN (\n",
    "        SELECT customer_id, SUM(total_amount) as total_spent\n",
    "        FROM orders\n",
    "        GROUP BY customer_id\n",
    "    ) customer_totals ON c2.customer_id = customer_totals.customer_id\n",
    "    GROUP BY c2.state\n",
    ") state_avg ON c.state = state_avg.state\n",
    "WHERE COALESCE(customer_spending.total_spent, 0) > COALESCE(state_avg.avg_state_spending, 0)\n",
    "ORDER BY c.state, customer_spending.total_spent DESC;"
   ]
  },
  {
   "cell_type": "markdown",
   "metadata": {},
   "source": [
    "## Exercises\n",
    "\n",
    "### Exercise 1: Scalar Subquery\n",
    "Find customers who spent more than the overall average order value"
   ]
  },
  {
   "cell_type": "code",
   "execution_count": null,
   "metadata": {},
   "outputs": [],
   "source": [
    "-- Your code here\n",
    "SELECT c.first_name, c.last_name,\n",
    "       COALESCE(SUM(o.total_amount), 0) as total_spent\n",
    "FROM customers c\n",
    "LEFT JOIN orders o ON c.customer_id = o.customer_id\n",
    "GROUP BY c.customer_id, c.first_name, c.last_name\n",
    "HAVING COALESCE(SUM(o.total_amount), 0) > (\n",
    "    SELECT AVG(total_amount) FROM orders\n",
    ")\n",
    "ORDER BY total_spent DESC;"
   ]
  },
  {
   "cell_type": "markdown",
   "metadata": {},
   "source": [
    "### Exercise 2: EXISTS Subquery\n",
    "Find products that have never been ordered using EXISTS"
   ]
  },
  {
   "cell_type": "code",
   "execution_count": null,
   "metadata": {},
   "outputs": [],
   "source": [
    "-- Your code here\n",
    "SELECT p.product_name, p.category, p.price\n",
    "FROM products p\n",
    "WHERE NOT EXISTS (\n",
    "    SELECT 1 FROM order_items oi\n",
    "    WHERE oi.product_id = p.product_id\n",
    ")\n",
    "ORDER BY p.category, p.price DESC;"
   ]
  },
  {
   "cell_type": "markdown",
   "metadata": {},
   "source": [
    "### Exercise 3: FROM Subquery\n",
    "Create a customer summary report using a FROM subquery"
   ]
  },
  {
   "cell_type": "code",
   "execution_count": null,
   "metadata": {},
   "outputs": [],
   "source": [
    "-- Your code here\n",
    "SELECT customer_summary.customer_name,\n",
    "       customer_summary.total_orders,\n",
    "       customer_summary.total_spent,\n",
    "       CASE\n",
    "           WHEN customer_summary.total_spent > 150 THEN 'High Value'\n",
    "           WHEN customer_summary.total_spent > 75 THEN 'Medium Value'\n",
    "           ELSE 'Low Value'\n",
    "       END as customer_segment\n",
    "FROM (\n",
    "    SELECT c.customer_id,\n",
    "           c.first_name || ' ' || c.last_name as customer_name,\n",
    "           COUNT(o.order_id) as total_orders,\n",
    "           COALESCE(SUM(o.total_amount), 0) as total_spent\n",
    "    FROM customers c\n",
    "    LEFT JOIN orders o ON c.customer_id = o.customer_id\n",
    "    GROUP BY c.customer_id, c.first_name, c.last_name\n",
    ") customer_summary\n",
    "ORDER BY customer_summary.total_spent DESC;"
   ]
  },
  {
   "cell_type": "markdown",
   "metadata": {},
   "source": [
    "### Exercise 4: CTE Basic\n",
    "Use a CTE to analyze product performance by category"
   ]
  },
  {
   "cell_type": "code",
   "execution_count": null,
   "metadata": {},
   "outputs": [],
   "source": [
    "-- Your code here\n",
    "WITH product_performance AS (\n",
    "    SELECT p.category,\n",
    "           COUNT(DISTINCT p.product_id) as products_count,\n",
    "           COUNT(oi.order_item_id) as sales_count,\n",
    "           COALESCE(SUM(oi.total_price), 0) as category_revenue\n",
    "    FROM products p\n",
    "    LEFT JOIN order_items oi ON p.product_id = oi.product_id\n",
    "    GROUP BY p.category\n",
    ")\n",
    "SELECT pp.category,\n",
    "       pp.products_count,\n",
    "       pp.sales_count,\n",
    "       ROUND(pp.category_revenue, 2) as revenue\n",
    "FROM product_performance pp\n",
    "ORDER BY pp.category_revenue DESC;"
   ]
  },
  {
   "cell_type": "markdown",
   "metadata": {},
   "source": [
    "### Exercise 5: Multiple CTEs\n",
    "Create a monthly sales report using multiple CTEs"
   ]
  },
  {
   "cell_type": "code",
   "execution_count": null,
   "metadata": {},
   "outputs": [],
   "source": [
    "-- Your code here\n",
    "WITH monthly_orders AS (\n",
    "    SELECT strftime('%Y-%m', order_date) as month,\n",
    "           COUNT(order_id) as order_count,\n",
    "           SUM(total_amount) as monthly_revenue\n",
    "    FROM orders\n",
    "    GROUP BY strftime('%Y-%m', order_date)\n",
    "),\n",
    "monthly_customers AS (\n",
    "    SELECT strftime('%Y-%m', o.order_date) as month,\n",
    "           COUNT(DISTINCT o.customer_id) as unique_customers\n",
    "    FROM orders o\n",
    "    GROUP BY strftime('%Y-%m', o.order_date)\n",
    ")\n",
    "SELECT mo.month,\n",
    "       mo.order_count,\n",
    "       mc.unique_customers,\n",
    "       ROUND(mo.monthly_revenue, 2) as revenue\n",
    "FROM monthly_orders mo\n",
    "INNER JOIN monthly_customers mc ON mo.month = mc.month\n",
    "ORDER BY mo.month DESC;"
   ]
  },
  {
   "cell_type": "markdown",
   "metadata": {},
   "source": [
    "### Exercise 6: Correlated Subquery\n",
    "Find customers who spent more than the average for their state"
   ]
  },
  {
   "cell_type": "code",
   "execution_count": null,
   "metadata": {},
   "outputs": [],
   "source": [
    "-- Your code here\n",
    "SELECT c.first_name, c.last_name, c.state,\n",
    "       COALESCE(customer_totals.total_spent, 0) as customer_spent\n",
    "FROM customers c\n",
    "LEFT JOIN (\n",
    "    SELECT customer_id, SUM(total_amount) as total_spent\n",
    "    FROM orders\n",
    "    GROUP BY customer_id\n",
    ") customer_totals ON c.customer_id = customer_totals.customer_id\n",
    "WHERE COALESCE(customer_totals.total_spent, 0) > (\n",
    "    SELECT AVG(COALESCE(ct2.total_spent, 0))\n",
    "    FROM customers c2\n",
    "    LEFT JOIN (\n",
    "        SELECT customer_id, SUM(total_amount) as total_spent\n",
    "        FROM orders\n",
    "        GROUP BY customer_id\n",
    "    ) ct2 ON c2.customer_id = ct2.customer_id\n",
    "    WHERE c2.state = c.state\n",
    ")\n",
    "ORDER BY c.state, customer_totals.total_spent DESC;"
   ]
  },
  {
   "cell_type": "markdown",
   "metadata": {},
   "source": [
    "## Debug-Me Cell\n",
    "\n",
    "This query has a common subquery mistake. Can you fix it?\n",
    "\n",
    "The goal: Find products that outsold the average sales in their category"
   ]
  },
  {
   "cell_type": "code",
   "execution_count": null,
   "metadata": {},
   "outputs": [],
   "source": [
    "-- Debug this query - it's trying to compare product sales to category average\n",
    "SELECT p.product_name, p.category,\n",
    "       COALESCE(SUM(oi.quantity), 0) as product_sales\n",
    "FROM products p\n",
    "LEFT JOIN order_items oi ON p.product_id = oi.product_id\n",
    "GROUP BY p.product_id, p.product_name, p.category\n",
    "HAVING COALESCE(SUM(oi.quantity), 0) > (\n",
    "    -- This subquery needs to reference the outer query's category!\n",
    "    SELECT AVG(COALESCE(SUM(oi2.quantity), 0))\n",
    "    FROM products p2\n",
    "    LEFT JOIN order_items oi2 ON p2.product_id = oi2.product_id\n",
    "    WHERE p2.category = p.category  -- Missing correlation!\n",
    "    GROUP BY p2.product_id\n",
    ")\n",
    "ORDER BY product_sales DESC;\n",
    "\n",
    "-- Hint: The subquery needs to be correlated with the outer query using the category!"
   ]
  },
  {
   "cell_type": "markdown",
   "metadata": {},
   "source": [
    "## Takeaways & Further Reading\n",
    "\n",
    "### Subquery Types Mastered:\n",
    "✅ **Scalar Subqueries**: Return single values for comparisons  \n",
    "✅ **IN/NOT IN**: Check membership in result sets  \n",
    "✅ **EXISTS/NOT EXISTS**: Test for existence of related data  \n",
    "✅ **FROM Subqueries**: Create temporary tables for complex analysis  \n",
    "✅ **Correlated Subqueries**: Reference outer query values  \n",
    "\n",
    "### CTE Best Practices:\n",
    "✅ **Readability**: Break complex queries into logical steps  \n",
    "✅ **Reusability**: Use same CTE multiple times in main query  \n",
    "✅ **Debugging**: Easier to test and modify individual components  \n",
    "✅ **Performance**: Often equivalent to subqueries in execution  \n",
    "\n",
    "### Key Concepts:\n",
    "- **Subquery Performance**: Non-correlated run once, correlated run per row\n",
    "- **EXISTS vs IN**: EXISTS often faster for large datasets\n",
    "- **CTEs vs Subqueries**: CTEs usually more readable, same performance\n",
    "- **Window Functions**: Advanced analytics with OVER clauses\n",
    "\n",
    "### Common Patterns:\n",
    "- **Above/Below Average**: Compare to aggregate values\n",
    "- **Top Performers**: Find records exceeding thresholds\n",
    "- **Missing Data**: Find records without related data\n",
    "- **Complex Reports**: Multi-step analysis with CTEs\n",
    "\n",
    "### SQL Best Practices:\n",
    "- Use CTEs for complex queries requiring multiple steps\n",
    "- Prefer EXISTS over IN for existence checks\n",
    "- Test subqueries independently before nesting\n",
    "- Use aliases consistently for readability\n",
    "- Consider performance when choosing subquery vs JOIN\n",
    "\n",
    "### Tomorrow Preview:\n",
    "Day 6: **Data Manipulation** - Learn to INSERT, UPDATE, DELETE, and CREATE TABLE. You'll learn to modify data and create your own database structures!\n",
    "\n",
    "### Practice Resources:\n",
    "- [SQL Subqueries Tutorial](https://www.w3schools.com/sql/sql_subqueries.asp)\n",
    "- [Common Table Expressions](https://www.sqlshack.com/sql-server-common-table-expressions-cte/)\n",
    "- [Correlated Subqueries](https://www.sqlshack.com/sql-correlated-subqueries/)\n",
    "\n",
    "**Congratulations! You can now write complex, nested SQL queries like a senior data analyst! 🔍**"
   ]
  }
 ],
 "metadata": {
  "kernelspec": {
   "display_name": "Python 3",
   "language": "python3"
  },
  "language_info": {
   "codemirror_mode": {
    "name": "ipython",
    "version": 3
   },
   "file_extension": ".py",
   "mimetype": "text/x-python",
   "name": "python",
   "nbconvert_exporter": "python",
   "pygments_lexer": "ipython3",
   "version": "3.8.5"
  }
 },
 "nbformat": 4,
 "nbformat_minor": 4
}
