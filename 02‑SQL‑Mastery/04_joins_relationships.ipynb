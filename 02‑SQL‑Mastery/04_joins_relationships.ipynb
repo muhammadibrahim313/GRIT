{
 "cells": [
  {
   "cell_type": "markdown",
   "metadata": {},
   "source": [
    "# GRIT: JOINs & Relationships - Day 4\n",
    "\n",
    "**Learning Objectives**\n",
    "- Understand table relationships and foreign keys\n",
    "- Master INNER JOIN for matching data\n",
    "- Use LEFT JOIN to include all records\n",
    "- Combine multiple tables in single queries\n",
    "- Avoid common JOIN pitfalls\n",
    "\n",
    "**Why this matters**  \n",
    "Real databases don't store everything in one table - information is split across multiple related tables. JOINs are the \"glue\" that connects this data together, letting you answer complex questions like \"Which customers bought which products and when?\"\n",
    "\n",
    "Today you'll learn to combine data from multiple tables like a database architect!"
   ]
  },
  {
   "cell_type": "markdown",
   "metadata": {},
   "source": [
    "## Setup: Connect to Our Database\n",
    "\n",
    "Let's connect to our e-commerce database:"
   ]
  },
  {
   "cell_type": "code",
   "execution_count": null,
   "metadata": {},
   "outputs": [],
   "source": [
    "# Load the SQL extension\n",
    "%load_ext sql\n",
    "\n",
    "# Connect to our sample database\n",
    "%sql sqlite:///ecommerce.db\n",
    "\n",
    "print(\"✅ Connected to database!\")"
   ]
  },
  {
   "cell_type": "markdown",
   "metadata": {},
   "source": [
    "## Theory: Understanding Table Relationships\n",
    "\n",
    "### Why Multiple Tables?\n",
    "Imagine a library:\n",
    "- **Books table**: Title, author, ISBN\n",
    "- **Borrowers table**: Name, address, phone\n",
    "- **Loans table**: Book ID, Borrower ID, due date\n",
    "\n",
    "### Types of Relationships:\n",
    "- **One-to-One**: One customer has one profile\n",
    "- **One-to-Many**: One customer has many orders\n",
    "- **Many-to-Many**: Many products in many orders\n",
    "\n",
    "### Foreign Keys:\n",
    "Foreign keys link tables together:\n",
    "- `orders.customer_id` → `customers.customer_id`\n",
    "- `order_items.product_id` → `products.product_id`\n",
    "\n",
    "### JOIN Types:\n",
    "- **INNER JOIN**: Only matching rows\n",
    "- **LEFT JOIN**: All rows from left table + matches\n",
    "- **RIGHT JOIN**: All rows from right table + matches\n",
    "- **FULL JOIN**: All rows from both tables"
   ]
  },
  {
   "cell_type": "markdown",
   "metadata": {},
   "source": [
    "## Examples: Basic INNER JOIN\n",
    "\n",
    "INNER JOIN returns only rows that have matches in both tables:"
   ]
  },
  {
   "cell_type": "code",
   "execution_count": null,
   "metadata": {},
   "outputs": [],
   "source": [
    "-- Example 1: Basic customer-order relationship\n",
    "SELECT c.first_name, c.last_name, o.order_id, o.order_date, o.total_amount\n",
    "FROM customers c\n",
    "INNER JOIN orders o ON c.customer_id = o.customer_id\n",
    "LIMIT 5;"
   ]
  },
  {
   "cell_type": "code",
   "execution_count": null,
   "metadata": {},
   "outputs": [],
   "source": [
    "-- Example 2: Products in orders\n",
    "SELECT p.product_name, oi.quantity, oi.unit_price, oi.total_price\n",
    "FROM products p\n",
    "INNER JOIN order_items oi ON p.product_id = oi.product_id\n",
    "LIMIT 5;"
   ]
  },
  {
   "cell_type": "code",
   "execution_count": null,
   "metadata": {},
   "outputs": [],
   "source": [
    "-- Example 3: Order details with customer info\n",
    "SELECT o.order_id, o.order_date,\n",
    "       c.first_name, c.last_name, c.city,\n",
    "       o.total_amount, o.order_status\n",
    "FROM orders o\n",
    "INNER JOIN customers c ON o.customer_id = c.customer_id\n",
    "ORDER BY o.order_date DESC\n",
    "LIMIT 10;"
   ]
  },
  {
   "cell_type": "markdown",
   "metadata": {},
   "source": [
    "## Examples: LEFT JOIN (Include All Records)\n",
    "\n",
    "LEFT JOIN keeps all records from the left table, even if no matches:"
   ]
  },
  {
   "cell_type": "code",
   "execution_count": null,
   "metadata": {},
   "outputs": [],
   "source": [
    "-- Example 4: All customers, with their orders (if any)\n",
    "SELECT c.first_name, c.last_name, c.customer_status,\n",
    "       o.order_id, o.order_date, o.total_amount\n",
    "FROM customers c\n",
    "LEFT JOIN orders o ON c.customer_id = o.customer_id\n",
    "ORDER BY c.last_name\n",
    "LIMIT 10;"
   ]
  },
  {
   "cell_type": "code",
   "execution_count": null,
   "metadata": {},
   "outputs": [],
   "source": [
    "-- Example 5: Customers who haven't ordered (NULL values)\n",
    "SELECT c.first_name, c.last_name, c.registration_date,\n",
    "       o.order_id\n",
    "FROM customers c\n",
    "LEFT JOIN orders o ON c.customer_id = o.customer_id\n",
    "WHERE o.order_id IS NULL;"
   ]
  },
  {
   "cell_type": "code",
   "execution_count": null,
   "metadata": {},
   "outputs": [],
   "source": [
    "-- Example 6: Product stock vs sales\n",
    "SELECT p.product_name, p.stock_quantity,\n",
    "       COALESCE(SUM(oi.quantity), 0) as total_sold\n",
    "FROM products p\n",
    "LEFT JOIN order_items oi ON p.product_id = oi.product_id\n",
    "GROUP BY p.product_id, p.product_name, p.stock_quantity\n",
    "ORDER BY total_sold DESC\n",
    "LIMIT 10;"
   ]
  },
  {
   "cell_type": "markdown",
   "metadata": {},
   "source": [
    "## Examples: Multiple Table JOINs\n",
    "\n",
    "Combine three or more tables for complete information:"
   ]
  },
  {
   "cell_type": "code",
   "execution_count": null,
   "metadata": {},
   "outputs": [],
   "source": [
    "-- Example 7: Complete order details (3-table join)\n",
    "SELECT c.first_name, c.last_name,\n",
    "       o.order_id, o.order_date, o.total_amount,\n",
    "       p.product_name, oi.quantity, oi.unit_price\n",
    "FROM customers c\n",
    "INNER JOIN orders o ON c.customer_id = o.customer_id\n",
    "INNER JOIN order_items oi ON o.order_id = oi.order_id\n",
    "INNER JOIN products p ON oi.product_id = p.product_id\n",
    "ORDER BY o.order_date DESC, o.order_id\n",
    "LIMIT 15;"
   ]
  },
  {
   "cell_type": "code",
   "execution_count": null,
   "metadata": {},
   "outputs": [],
   "source": [
    "-- Example 8: Customer order summary\n",
    "SELECT c.first_name, c.last_name, c.state,\n",
    "       COUNT(o.order_id) as total_orders,\n",
    "       SUM(o.total_amount) as total_spent,\n",
    "       AVG(o.total_amount) as avg_order_value\n",
    "FROM customers c\n",
    "LEFT JOIN orders o ON c.customer_id = o.customer_id\n",
    "GROUP BY c.customer_id, c.first_name, c.last_name, c.state\n",
    "ORDER BY total_spent DESC NULLS LAST;"
   ]
  },
  {
   "cell_type": "code",
   "execution_count": null,
   "metadata": {},
   "outputs": [],
   "source": [
    "-- Example 9: Product sales performance\n",
    "SELECT p.product_name, p.category, p.price,\n",
    "       COUNT(oi.order_item_id) as times_ordered,\n",
    "       SUM(oi.quantity) as total_quantity_sold,\n",
    "       SUM(oi.total_price) as total_revenue\n",
    "FROM products p\n",
    "LEFT JOIN order_items oi ON p.product_id = oi.product_id\n",
    "GROUP BY p.product_id, p.product_name, p.category, p.price\n",
    "ORDER BY total_revenue DESC NULLS LAST;"
   ]
  },
  {
   "cell_type": "markdown",
   "metadata": {},
   "source": [
    "## Examples: JOIN with WHERE Conditions\n",
    "\n",
    "Combine JOINs with filtering for specific insights:"
   ]
  },
  {
   "cell_type": "code",
   "execution_count": null,
   "metadata": {},
   "outputs": [],
   "source": [
    "-- Example 10: High-value orders from California\n",
    "SELECT c.first_name, c.last_name, c.city,\n",
    "       o.order_id, o.order_date, o.total_amount\n",
    "FROM customers c\n",
    "INNER JOIN orders o ON c.customer_id = o.customer_id\n",
    "WHERE c.state = 'CA' AND o.total_amount > 100\n",
    "ORDER BY o.total_amount DESC;"
   ]
  },
  {
   "cell_type": "code",
   "execution_count": null,
   "metadata": {},
   "outputs": [],
   "source": [
    "-- Example 11: Electronics sales by customer\n",
    "SELECT c.first_name, c.last_name,\n",
    "       p.product_name, p.category,\n",
    "       oi.quantity, oi.total_price,\n",
    "       o.order_date\n",
    "FROM customers c\n",
    "INNER JOIN orders o ON c.customer_id = o.customer_id\n",
    "INNER JOIN order_items oi ON o.order_id = oi.order_id\n",
    "INNER JOIN products p ON oi.product_id = p.product_id\n",
    "WHERE p.category = 'Electronics'\n",
    "ORDER BY o.order_date DESC\n",
    "LIMIT 10;"
   ]
  },
  {
   "cell_type": "markdown",
   "metadata": {},
   "source": [
    "## Examples: Advanced JOIN Patterns\n",
    "\n",
    "More complex relationship queries:"
   ]
  },
  {
   "cell_type": "code",
   "execution_count": null,
   "metadata": {},
   "outputs": [],
   "source": [
    "-- Example 12: Customer lifetime value analysis\n",
    "SELECT c.customer_id, c.first_name, c.last_name,\n",
    "       c.registration_date,\n",
    "       COUNT(DISTINCT o.order_id) as order_count,\n",
    "       SUM(o.total_amount) as lifetime_value,\n",
    "       AVG(o.total_amount) as avg_order_value,\n",
    "       MAX(o.order_date) as last_order_date\n",
    "FROM customers c\n",
    "LEFT JOIN orders o ON c.customer_id = o.customer_id\n",
    "GROUP BY c.customer_id, c.first_name, c.last_name, c.registration_date\n",
    "ORDER BY lifetime_value DESC NULLS LAST;"
   ]
  },
  {
   "cell_type": "code",
   "execution_count": null,
   "metadata": {},
   "outputs": [],
   "source": [
    "-- Example 13: Product performance by category\n",
    "SELECT p.category,\n",
    "       COUNT(DISTINCT p.product_id) as products_offered,\n",
    "       COUNT(oi.order_item_id) as total_sales,\n",
    "       SUM(oi.total_price) as category_revenue,\n",
    "       AVG(oi.total_price) as avg_sale_price\n",
    "FROM products p\n",
    "LEFT JOIN order_items oi ON p.product_id = oi.product_id\n",
    "GROUP BY p.category\n",
    "ORDER BY category_revenue DESC NULLS LAST;"
   ]
  },
  {
   "cell_type": "code",
   "execution_count": null,
   "metadata": {},
   "outputs": [],
   "source": [
    "-- Example 14: Monthly sales trend\n",
    "SELECT strftime('%Y-%m', o.order_date) as month,\n",
    "       COUNT(o.order_id) as orders_count,\n",
    "       COUNT(DISTINCT o.customer_id) as unique_customers,\n",
    "       SUM(o.total_amount) as monthly_revenue,\n",
    "       AVG(o.total_amount) as avg_order_value\n",
    "FROM orders o\n",
    "GROUP BY strftime('%Y-%m', o.order_date)\n",
    "ORDER BY month DESC;"
   ]
  },
  {
   "cell_type": "markdown",
   "metadata": {},
   "source": [
    "## Examples: Common JOIN Pitfalls & Solutions\n",
    "\n",
    "Avoid these common mistakes:"
   ]
  },
  {
   "cell_type": "code",
   "execution_count": null,
   "metadata": {},
   "outputs": [],
   "source": [
    "-- Example 15: Avoiding duplicate rows (use DISTINCT)\n",
    "SELECT DISTINCT c.first_name, c.last_name, c.city\n",
    "FROM customers c\n",
    "INNER JOIN orders o ON c.customer_id = o.customer_id\n",
    "INNER JOIN order_items oi ON o.order_id = oi.order_id\n",
    "WHERE oi.quantity > 1\n",
    "LIMIT 10;"
   ]
  },
  {
   "cell_type": "code",
   "execution_count": null,
   "metadata": {},
   "outputs": [],
   "source": [
    "-- Example 16: Proper NULL handling in LEFT JOIN\n",
    "SELECT c.first_name, c.last_name,\n",
    "       COALESCE(SUM(o.total_amount), 0) as total_spent,\n",
    "       CASE WHEN SUM(o.total_amount) IS NULL THEN 'No orders' ELSE 'Has orders' END as order_status\n",
    "FROM customers c\n",
    "LEFT JOIN orders o ON c.customer_id = o.customer_id\n",
    "GROUP BY c.customer_id, c.first_name, c.last_name\n",
    "ORDER BY total_spent DESC;"
   ]
  },
  {
   "cell_type": "markdown",
   "metadata": {},
   "source": [
    "## Exercises\n",
    "\n",
    "### Exercise 1: Basic INNER JOIN\n",
    "Show all orders with customer names and order details"
   ]
  },
  {
   "cell_type": "code",
   "execution_count": null,
   "metadata": {},
   "outputs": [],
   "source": [
    "-- Your code here\n",
    "SELECT c.first_name, c.last_name,\n",
    "       o.order_id, o.order_date, o.total_amount, o.order_status\n",
    "FROM customers c\n",
    "INNER JOIN orders o ON c.customer_id = o.customer_id\n",
    "LIMIT 10;"
   ]
  },
  {
   "cell_type": "markdown",
   "metadata": {},
   "source": [
    "### Exercise 2: LEFT JOIN\n",
    "Show all customers and their total spending (use 0 for customers with no orders)"
   ]
  },
  {
   "cell_type": "code",
   "execution_count": null,
   "metadata": {},
   "outputs": [],
   "source": [
    "-- Your code here\n",
    "SELECT c.first_name, c.last_name,\n",
    "       COALESCE(SUM(o.total_amount), 0) as total_spent\n",
    "FROM customers c\n",
    "LEFT JOIN orders o ON c.customer_id = o.customer_id\n",
    "GROUP BY c.customer_id, c.first_name, c.last_name\n",
    "ORDER BY total_spent DESC;"
   ]
  },
  {
   "cell_type": "markdown",
   "metadata": {},
   "source": [
    "### Exercise 3: Multiple Table JOIN\n",
    "Show product names, quantities, and customer names for all order items"
   ]
  },
  {
   "cell_type": "code",
   "execution_count": null,
   "metadata": {},
   "outputs": [],
   "source": [
    "-- Your code here\n",
    "SELECT p.product_name,\n",
    "       oi.quantity,\n",
    "       c.first_name, c.last_name\n",
    "FROM products p\n",
    "INNER JOIN order_items oi ON p.product_id = oi.product_id\n",
    "INNER JOIN orders o ON oi.order_id = o.order_id\n",
    "INNER JOIN customers c ON o.customer_id = c.customer_id\n",
    "LIMIT 15;"
   ]
  },
  {
   "cell_type": "markdown",
   "metadata": {},
   "source": [
    "### Exercise 4: JOIN with Filtering\n",
    "Find all products that have been ordered, with their order details"
   ]
  },
  {
   "cell_type": "code",
   "execution_count": null,
   "metadata": {},
   "outputs": [],
   "source": [
    "-- Your code here\n",
    "SELECT DISTINCT p.product_name, p.category, p.price,\n",
    "       oi.quantity, oi.unit_price\n",
    "FROM products p\n",
    "INNER JOIN order_items oi ON p.product_id = oi.product_id\n",
    "ORDER BY p.product_name;"
   ]
  },
  {
   "cell_type": "markdown",
   "metadata": {},
   "source": [
    "### Exercise 5: Customer Analysis\n",
    "Create a report showing customer order frequency and spending"
   ]
  },
  {
   "cell_type": "code",
   "execution_count": null,
   "metadata": {},
   "outputs": [],
   "source": [
    "-- Your code here\n",
    "SELECT c.first_name, c.last_name, c.state,\n",
    "       COUNT(o.order_id) as order_count,\n",
    "       SUM(o.total_amount) as total_spent,\n",
    "       AVG(o.total_amount) as avg_order_value\n",
    "FROM customers c\n",
    "LEFT JOIN orders o ON c.customer_id = o.customer_id\n",
    "GROUP BY c.customer_id, c.first_name, c.last_name, c.state\n",
    "ORDER BY total_spent DESC NULLS LAST;"
   ]
  },
  {
   "cell_type": "markdown",
   "metadata": {},
   "source": [
    "### Exercise 6: Sales Performance\n",
    "Show product sales performance across all categories"
   ]
  },
  {
   "cell_type": "code",
   "execution_count": null,
   "metadata": {},
   "outputs": [],
   "source": [
    "-- Your code here\n",
    "SELECT p.category,\n",
    "       COUNT(DISTINCT p.product_id) as products_count,\n",
    "       COUNT(oi.order_item_id) as sales_count,\n",
    "       SUM(oi.total_price) as category_revenue\n",
    "FROM products p\n",
    "LEFT JOIN order_items oi ON p.product_id = oi.product_id\n",
    "GROUP BY p.category\n",
    "ORDER BY category_revenue DESC NULLS LAST;"
   ]
  },
  {
   "cell_type": "markdown",
   "metadata": {},
   "source": [
    "## Debug-Me Cell\n",
    "\n",
    "This query should show customer order history but has a problem. Can you fix it?"
   ]
  },
  {
   "cell_type": "code",
   "execution_count": null,
   "metadata": {},
   "outputs": [],
   "source": [
    "-- Debug this query - it should show customer orders but duplicates names\n",
    "SELECT c.first_name, c.last_name,\n",
    "       o.order_id, o.order_date, o.total_amount\n",
    "FROM customers c\n",
    "INNER JOIN orders o ON c.customer_id = o.customer_id\n",
    "INNER JOIN order_items oi ON o.order_id = oi.order_id  -- Unnecessary join causing duplicates!\n",
    "ORDER BY c.last_name, o.order_date DESC\n",
    "LIMIT 10;\n",
    "\n",
    "-- Hint: Remove the unnecessary JOIN to avoid duplicate rows!"
   ]
  },
  {
   "cell_type": "markdown",
   "metadata": {},
   "source": [
    "## Takeaways & Further Reading\n",
    "\n",
    "### JOIN Types Mastered:\n",
    "✅ **INNER JOIN**: Only matching rows from both tables  \n",
    "✅ **LEFT JOIN**: All rows from left table + matching rows from right  \n",
    "✅ **Multiple JOINs**: Combine 3+ tables for complete relationships  \n",
    "✅ **Foreign Keys**: Links that connect table relationships  \n",
    "\n",
    "### Key Concepts:\n",
    "- **Relationships**: One-to-one, one-to-many, many-to-many\n",
    "- **NULL handling**: LEFT JOIN + COALESCE for missing data\n",
    "- **Duplicate avoidance**: Use DISTINCT when needed\n",
    "- **Performance**: INNER JOIN is usually faster than LEFT JOIN\n",
    "\n",
    "### Common Patterns:\n",
    "- **Customer + Orders**: LEFT JOIN to include customers without orders\n",
    "- **Orders + Items + Products**: INNER JOINs for complete order details\n",
    "- **Sales Analysis**: LEFT JOIN products with sales for performance metrics\n",
    "\n",
    "### SQL Best Practices:\n",
    "- Use table aliases (c, o, p) for readability\n",
    "- Choose INNER vs LEFT JOIN based on your needs\n",
    "- Use COALESCE() for NULL handling\n",
    "- Be careful with many-to-many relationships\n",
    "\n",
    "### Tomorrow Preview:\n",
    "Day 5: **Subqueries & CTEs** - Learn advanced querying techniques with nested queries and Common Table Expressions!\n",
    "\n",
    "### Practice Resources:\n",
    "- [SQL JOINs Tutorial](https://www.w3schools.com/sql/sql_join.asp)\n",
    "- [JOIN Types Explained](https://www.sqlshack.com/sql-join-types-inner-join-left-join-right-join-full-join/)\n",
    "- [Database Relationships](https://www.lucidchart.com/pages/database-diagram/database-design)\n",
    "\n",
    "**Amazing! You can now connect data across multiple tables like a database expert! 🔗**"
   ]
  }
 ],
 "metadata": {
  "kernelspec": {
   "display_name": "Python 3",
   "language": "python",
   "name": "python3"
  },
  "language_info": {
   "codemirror_mode": {
    "name": "ipython",
    "version": 3
   },
   "file_extension": ".py",
   "mimetype": "text/x-python",
   "name": "python",
   "nbconvert_exporter": "python",
   "pygments_lexer": "ipython3",
   "version": "3.8.5"
  }
 },
 "nbformat": 4,
 "nbformat_minor": 4
}
