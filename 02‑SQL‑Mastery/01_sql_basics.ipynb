{
 "cells": [
  {
   "cell_type": "markdown",
   "metadata": {},
   "source": [
    "# GRIT: SQL Basics - Day 1\n",
    "\n",
    "**Learning Objectives**\n",
    "- Understand what databases and SQL are\n",
    "- Learn basic SELECT statements\n",
    "- Use WHERE clauses for filtering data\n",
    "- Sort results with ORDER BY\n",
    "- Limit results with LIMIT\n",
    "\n",
    "**Why this matters**  \n",
    "SQL is the universal language for working with data. Whether you're analyzing sales, building dashboards, or managing customer data, SQL gives you the power to ask questions of your data and get answers.\n",
    "\n",
    "Today we start with the fundamentals - reading data from databases. By the end of this notebook, you'll be able to query any table to find exactly the information you need!"
   ]
  },
  {
   "cell_type": "markdown",
   "metadata": {},
   "source": [
    "## Setup: Connect to Our Database\n",
    "\n",
    "First, let's load the SQL extension and connect to our sample e-commerce database:"
   ]
  },
  {
   "cell_type": "code",
   "execution_count": 14,
   "metadata": {},
   "outputs": [
    {
     "name": "stdout",
     "output_type": "stream",
     "text": [
      "c:\\Users\\RC\\miniconda3\\envs\\ML_Python\\python.exe\n",
      "True\n",
      "Name: ipython-sql\n",
      "Version: 0.5.0\n",
      "Summary: RDBMS access via IPython\n",
      "Home-page: https://github.com/catherinedevlin/ipython-sql\n",
      "Author: Catherine Devlin\n",
      "Author-email: catherine.devlin@gmail.com\n",
      "License: MIT\n",
      "Location: c:\\Users\\RC\\miniconda3\\envs\\ML_Python\\Lib\\site-packages\n",
      "Requires: ipython, ipython-genutils, prettytable, six, sqlalchemy, sqlparse\n",
      "Required-by: \n"
     ]
    }
   ],
   "source": [
    "# #install into the running kernel\n",
    "# import sys\n",
    "# !{sys.executable} -m pip install -U ipython-sql sqlalchemy sqlparse\n",
    "\n",
    "#===================\n",
    "import sys, pkgutil\n",
    "print(sys.executable)\n",
    "print(any(m.name==\"sql\" for m in pkgutil.iter_modules()))\n",
    "!{sys.executable} -m pip show ipython-sql\n",
    "\n"
   ]
  },
  {
   "cell_type": "markdown",
   "metadata": {},
   "source": [
    "## 1. First, install the required package (if not already installed)\n"
   ]
  },
  {
   "cell_type": "code",
   "execution_count": 6,
   "metadata": {},
   "outputs": [
    {
     "name": "stdout",
     "output_type": "stream",
     "text": [
      "Requirement already satisfied: ipython-sql in c:\\users\\rc\\miniconda3\\envs\\ml_python\\lib\\site-packages (0.5.0)"
     ]
    },
    {
     "name": "stderr",
     "output_type": "stream",
     "text": [
      "\n",
      "[notice] A new release of pip is available: 25.0.1 -> 25.2\n",
      "[notice] To update, run: python.exe -m pip install --upgrade pip\n"
     ]
    },
    {
     "name": "stdout",
     "output_type": "stream",
     "text": [
      "\n",
      "Requirement already satisfied: prettytable in c:\\users\\rc\\miniconda3\\envs\\ml_python\\lib\\site-packages (from ipython-sql) (3.16.0)\n",
      "Requirement already satisfied: ipython in c:\\users\\rc\\miniconda3\\envs\\ml_python\\lib\\site-packages (from ipython-sql) (8.20.0)\n",
      "Requirement already satisfied: sqlalchemy>=2.0 in c:\\users\\rc\\miniconda3\\envs\\ml_python\\lib\\site-packages (from ipython-sql) (2.0.43)\n",
      "Requirement already satisfied: sqlparse in c:\\users\\rc\\miniconda3\\envs\\ml_python\\lib\\site-packages (from ipython-sql) (0.5.3)\n",
      "Requirement already satisfied: six in c:\\users\\rc\\miniconda3\\envs\\ml_python\\lib\\site-packages (from ipython-sql) (1.16.0)\n",
      "Requirement already satisfied: ipython-genutils in c:\\users\\rc\\miniconda3\\envs\\ml_python\\lib\\site-packages (from ipython-sql) (0.2.0)\n",
      "Requirement already satisfied: greenlet>=1 in c:\\users\\rc\\miniconda3\\envs\\ml_python\\lib\\site-packages (from sqlalchemy>=2.0->ipython-sql) (3.1.1)\n",
      "Requirement already satisfied: typing-extensions>=4.6.0 in c:\\users\\rc\\miniconda3\\envs\\ml_python\\lib\\site-packages (from sqlalchemy>=2.0->ipython-sql) (4.12.2)\n",
      "Requirement already satisfied: decorator in c:\\users\\rc\\miniconda3\\envs\\ml_python\\lib\\site-packages (from ipython->ipython-sql) (4.4.2)\n",
      "Requirement already satisfied: jedi>=0.16 in c:\\users\\rc\\miniconda3\\envs\\ml_python\\lib\\site-packages (from ipython->ipython-sql) (0.18.1)\n",
      "Requirement already satisfied: matplotlib-inline in c:\\users\\rc\\miniconda3\\envs\\ml_python\\lib\\site-packages (from ipython->ipython-sql) (0.1.6)\n",
      "Requirement already satisfied: prompt-toolkit<3.1.0,>=3.0.41 in c:\\users\\rc\\miniconda3\\envs\\ml_python\\lib\\site-packages (from ipython->ipython-sql) (3.0.43)\n",
      "Requirement already satisfied: pygments>=2.4.0 in c:\\users\\rc\\miniconda3\\envs\\ml_python\\lib\\site-packages (from ipython->ipython-sql) (2.18.0)\n",
      "Requirement already satisfied: stack-data in c:\\users\\rc\\miniconda3\\envs\\ml_python\\lib\\site-packages (from ipython->ipython-sql) (0.2.0)\n",
      "Requirement already satisfied: traitlets>=5 in c:\\users\\rc\\miniconda3\\envs\\ml_python\\lib\\site-packages (from ipython->ipython-sql) (5.7.1)\n",
      "Requirement already satisfied: colorama in c:\\users\\rc\\miniconda3\\envs\\ml_python\\lib\\site-packages (from ipython->ipython-sql) (0.4.6)\n",
      "Requirement already satisfied: wcwidth in c:\\users\\rc\\miniconda3\\envs\\ml_python\\lib\\site-packages (from prettytable->ipython-sql) (0.2.5)\n",
      "Requirement already satisfied: parso<0.9.0,>=0.8.0 in c:\\users\\rc\\miniconda3\\envs\\ml_python\\lib\\site-packages (from jedi>=0.16->ipython->ipython-sql) (0.8.3)\n",
      "Requirement already satisfied: executing in c:\\users\\rc\\miniconda3\\envs\\ml_python\\lib\\site-packages (from stack-data->ipython->ipython-sql) (0.8.3)\n",
      "Requirement already satisfied: asttokens in c:\\users\\rc\\miniconda3\\envs\\ml_python\\lib\\site-packages (from stack-data->ipython->ipython-sql) (2.0.5)\n",
      "Requirement already satisfied: pure-eval in c:\\users\\rc\\miniconda3\\envs\\ml_python\\lib\\site-packages (from stack-data->ipython->ipython-sql) (0.2.2)\n"
     ]
    }
   ],
   "source": [
    "!pip install ipython-sql"
   ]
  },
  {
   "cell_type": "markdown",
   "metadata": {},
   "source": [
    "## 2. Load the SQL extension\n"
   ]
  },
  {
   "cell_type": "code",
   "execution_count": 8,
   "metadata": {},
   "outputs": [
    {
     "name": "stdout",
     "output_type": "stream",
     "text": [
      "The sql extension is already loaded. To reload it, use:\n",
      "  %reload_ext sql\n"
     ]
    }
   ],
   "source": [
    "%load_ext sql"
   ]
  },
  {
   "cell_type": "markdown",
   "metadata": {},
   "source": [
    "## 3. Connect to your specific database\n"
   ]
  },
  {
   "cell_type": "code",
   "execution_count": 12,
   "metadata": {},
   "outputs": [
    {
     "name": "stdout",
     "output_type": "stream",
     "text": [
      "Database exists: False\n",
      "Full path: E:\\GRIT\\02-SQL-Mastery\\ecommerce.db\n"
     ]
    }
   ],
   "source": [
    "import os\n",
    "\n",
    "# Check if the database file exists\n",
    "db_path = r\"E:\\GRIT\\02-SQL-Mastery\\ecommerce.db\"\n",
    "print(f\"Database exists: {os.path.exists(db_path)}\")\n",
    "print(f\"Full path: {os.path.abspath(db_path)}\")\n",
    "\n",
    "# If it exists, connect using the verified path\n",
    "if os.path.exists(db_path):\n",
    "    %sql sqlite:///{db_path.replace('\\\\', '/')}"
   ]
  },
  {
   "cell_type": "code",
   "execution_count": 9,
   "metadata": {},
   "outputs": [
    {
     "name": "stdout",
     "output_type": "stream",
     "text": [
      "          name\n",
      "0    customers\n",
      "1  order_items\n",
      "2       orders\n",
      "3     products\n",
      "✅ Connected to database!\n"
     ]
    }
   ],
   "source": [
    "\n",
    "import sqlite3, pandas as pd\n",
    "con = sqlite3.connect(\"ecommerce.db\")\n",
    "print(pd.read_sql(\"SELECT name FROM sqlite_master WHERE type='table' ORDER BY name;\", con))\n",
    "\n",
    "print(\"✅ Connected to database!\")\n",
    "\n"
   ]
  },
  {
   "cell_type": "code",
   "execution_count": 15,
   "metadata": {},
   "outputs": [
    {
     "name": "stdout",
     "output_type": "stream",
     "text": [
      "❌ Database NOT found at: E:\\GRIT\\02-SQL-Mastery\\ecommerce.db\n"
     ]
    }
   ],
   "source": [
    "import os\n",
    "import sqlite3\n",
    "\n",
    "# Set your database path\n",
    "db_path = r\"E:\\GRIT\\02-SQL-Mastery\\ecommerce.db\"\n",
    "\n",
    "# Check if file exists\n",
    "if os.path.exists(db_path):\n",
    "    print(f\"✅ Database found at: {db_path}\")\n",
    "    print(f\"File size: {os.path.getsize(db_path)} bytes\")\n",
    "else:\n",
    "    print(f\"❌ Database NOT found at: {db_path}\")"
   ]
  },
  {
   "cell_type": "markdown",
   "metadata": {},
   "source": [
    "## Theory: Understanding Databases & SQL\n",
    "\n",
    "### What is a Database?\n",
    "A database is like a digital filing cabinet that stores organized data. Our e-commerce database contains:\n",
    "- **customers**: People who buy from our store\n",
    "- **products**: Items we sell\n",
    "- **orders**: Purchase transactions\n",
    "- **order_items**: Individual items in each order\n",
    "\n",
    "### What is SQL?\n",
    "**SQL** = Structured Query Language  \n",
    "It's the language we use to \"talk\" to databases and ask questions like:\n",
    "- \"Show me all customers from California\"\n",
    "- \"What are our top-selling products?\"\n",
    "- \"How much did we sell last month?\"\n",
    "\n",
    "### Basic SQL Structure\n",
    "```sql\n",
    "SELECT column_names     -- What to show\n",
    "FROM table_name         -- Where to get it from\n",
    "WHERE conditions        -- Filter criteria\n",
    "ORDER BY column_name    -- How to sort\n",
    "LIMIT number           -- How many results\n",
    "```"
   ]
  },
  {
   "cell_type": "markdown",
   "metadata": {},
   "source": [
    "## Examples: Basic SELECT Queries\n",
    "\n",
    "Let's start with the simplest SQL query - selecting everything from a table:"
   ]
  },
  {
   "cell_type": "code",
   "execution_count": 18,
   "metadata": {},
   "outputs": [
    {
     "ename": "SyntaxError",
     "evalue": "invalid syntax (3518464437.py, line 2)",
     "output_type": "error",
     "traceback": [
      "\u001b[1;36m  Cell \u001b[1;32mIn[18], line 2\u001b[1;36m\u001b[0m\n\u001b[1;33m    SELECT * FROM customers LIMIT 5;\u001b[0m\n\u001b[1;37m                  ^\u001b[0m\n\u001b[1;31mSyntaxError\u001b[0m\u001b[1;31m:\u001b[0m invalid syntax\n"
     ]
    }
   ],
   "source": [
    "# -- Example 1: See all customers\n",
    "SELECT * FROM customers LIMIT 5;"
   ]
  },
  {
   "cell_type": "code",
   "execution_count": null,
   "metadata": {},
   "outputs": [],
   "source": [
    "-- Example 2: See specific columns only\n",
    "SELECT first_name, last_name, email FROM customers LIMIT 5;"
   ]
  },
  {
   "cell_type": "code",
   "execution_count": null,
   "metadata": {},
   "outputs": [],
   "source": [
    "-- Example 3: Count total customers\n",
    "SELECT COUNT(*) as total_customers FROM customers;"
   ]
  },
  {
   "cell_type": "markdown",
   "metadata": {},
   "source": [
    "## Examples: Filtering with WHERE\n",
    "\n",
    "The WHERE clause lets us filter data based on conditions:"
   ]
  },
  {
   "cell_type": "code",
   "execution_count": null,
   "metadata": {},
   "outputs": [],
   "source": [
    "-- Example 4: Find customers from California\n",
    "SELECT first_name, last_name, city, state \n",
    "FROM customers \n",
    "WHERE state = 'CA';"
   ]
  },
  {
   "cell_type": "code",
   "execution_count": null,
   "metadata": {},
   "outputs": [],
   "source": [
    "-- Example 5: Find expensive products (over $50)\n",
    "SELECT product_name, category, price \n",
    "FROM products \n",
    "WHERE price > 50 \n",
    "ORDER BY price DESC;"
   ]
  },
  {
   "cell_type": "code",
   "execution_count": null,
   "metadata": {},
   "outputs": [],
   "source": [
    "-- Example 6: Find active customers\n",
    "SELECT first_name, last_name, customer_status \n",
    "FROM customers \n",
    "WHERE customer_status = 'active';"
   ]
  },
  {
   "cell_type": "markdown",
   "metadata": {},
   "source": [
    "## Examples: Sorting with ORDER BY\n",
    "\n",
    "ORDER BY lets us sort results alphabetically or numerically:"
   ]
  },
  {
   "cell_type": "code",
   "execution_count": null,
   "metadata": {},
   "outputs": [],
   "source": [
    "-- Example 7: Sort products by price (lowest first)\n",
    "SELECT product_name, price \n",
    "FROM products \n",
    "ORDER BY price ASC \n",
    "LIMIT 5;"
   ]
  },
  {
   "cell_type": "code",
   "execution_count": null,
   "metadata": {},
   "outputs": [],
   "source": [
    "-- Example 8: Sort customers by registration date (newest first)\n",
    "SELECT first_name, last_name, registration_date \n",
    "FROM customers \n",
    "ORDER BY registration_date DESC \n",
    "LIMIT 5;"
   ]
  },
  {
   "cell_type": "markdown",
   "metadata": {},
   "source": [
    "## Examples: Combining Everything\n",
    "\n",
    "Let's put it all together with more complex queries:"
   ]
  },
  {
   "cell_type": "code",
   "execution_count": null,
   "metadata": {},
   "outputs": [],
   "source": [
    "-- Example 9: Electronics products under $100, sorted by price\n",
    "SELECT product_name, category, price \n",
    "FROM products \n",
    "WHERE category = 'Electronics' AND price < 100 \n",
    "ORDER BY price DESC;"
   ]
  },
  {
   "cell_type": "code",
   "execution_count": null,
   "metadata": {},
   "outputs": [],
   "source": [
    "-- Example 10: Recent orders with customer details\n",
    "SELECT o.order_id, c.first_name, c.last_name, o.order_date, o.total_amount \n",
    "FROM orders o \n",
    "JOIN customers c ON o.customer_id = c.customer_id \n",
    "ORDER BY o.order_date DESC \n",
    "LIMIT 10;"
   ]
  },
  {
   "cell_type": "markdown",
   "metadata": {},
   "source": [
    "## Exercises\n",
    "\n",
    "Now it's your turn! Complete these exercises using the patterns you learned:\n",
    "\n",
    "### Exercise 1: Basic SELECT\n",
    "Write a query to show all products (just the product names and prices)"
   ]
  },
  {
   "cell_type": "code",
   "execution_count": null,
   "metadata": {},
   "outputs": [],
   "source": [
    "-- Your code here\n",
    "SELECT product_name, price FROM products;"
   ]
  },
  {
   "cell_type": "markdown",
   "metadata": {},
   "source": [
    "### Exercise 2: Simple Filtering\n",
    "Find all customers from Texas (TX)"
   ]
  },
  {
   "cell_type": "code",
   "execution_count": null,
   "metadata": {},
   "outputs": [],
   "source": [
    "-- Your code here\n",
    "SELECT first_name, last_name, city, state \n",
    "FROM customers \n",
    "WHERE state = 'TX';"
   ]
  },
  {
   "cell_type": "markdown",
   "metadata": {},
   "source": [
    "### Exercise 3: Price Filtering\n",
    "Find all products that cost less than $50, sorted by price (lowest first)"
   ]
  },
  {
   "cell_type": "code",
   "execution_count": null,
   "metadata": {},
   "outputs": [],
   "source": [
    "-- Your code here\n",
    "SELECT product_name, price \n",
    "FROM products \n",
    "WHERE price < 50 \n",
    "ORDER BY price ASC;"
   ]
  },
  {
   "cell_type": "markdown",
   "metadata": {},
   "source": [
    "### Exercise 4: Sports Category\n",
    "Show all sports products with their prices, sorted by price highest to lowest"
   ]
  },
  {
   "cell_type": "code",
   "execution_count": null,
   "metadata": {},
   "outputs": [],
   "source": [
    "-- Your code here\n",
    "SELECT product_name, category, price \n",
    "FROM products \n",
    "WHERE category = 'Sports' \n",
    "ORDER BY price DESC;"
   ]
  },
  {
   "cell_type": "markdown",
   "metadata": {},
   "source": [
    "### Exercise 5: Customer Search\n",
    "Find all customers whose first name starts with 'J' or 'M'"
   ]
  },
  {
   "cell_type": "code",
   "execution_count": null,
   "metadata": {},
   "outputs": [],
   "source": [
    "-- Your code here\n",
    "SELECT first_name, last_name \n",
    "FROM customers \n",
    "WHERE first_name LIKE 'J%' OR first_name LIKE 'M%';"
   ]
  },
  {
   "cell_type": "markdown",
   "metadata": {},
   "source": [
    "### Exercise 6: Recent Registrations\n",
    "Show the 3 most recently registered customers"
   ]
  },
  {
   "cell_type": "code",
   "execution_count": null,
   "metadata": {},
   "outputs": [],
   "source": [
    "-- Your code here\n",
    "SELECT first_name, last_name, registration_date \n",
    "FROM customers \n",
    "ORDER BY registration_date DESC \n",
    "LIMIT 3;"
   ]
  },
  {
   "cell_type": "markdown",
   "metadata": {},
   "source": [
    "## Debug-Me Cell\n",
    "\n",
    "Here's a query with an error. Can you fix it?\n",
    "\n",
    "The goal: Show product names and prices for items over $100"
   ]
  },
  {
   "cell_type": "code",
   "execution_count": null,
   "metadata": {},
   "outputs": [],
   "source": [
    "-- Debug this query - it's supposed to show expensive products\n",
    "SELECT product_name, price \n",
    "FROM products \n",
    "WHERE price > 100  -- Hint: Check the column name\n",
    "ORDER BY price DESC;"
   ]
  },
  {
   "cell_type": "markdown",
   "metadata": {},
   "source": [
    "## Takeaways & Further Reading\n",
    "\n",
    "### What You Learned Today:\n",
    "✅ **SELECT** - Choose specific columns or all columns (*)  \n",
    "✅ **FROM** - Specify which table to query  \n",
    "✅ **WHERE** - Filter rows based on conditions  \n",
    "✅ **ORDER BY** - Sort results (ASC/DESC)  \n",
    "✅ **LIMIT** - Restrict number of results  \n",
    "\n",
    "### Key SQL Concepts:\n",
    "- **Tables** are like spreadsheets with rows and columns\n",
    "- **Columns** contain specific types of data (text, numbers, dates)\n",
    "- **Rows** represent individual records\n",
    "- **Primary Keys** uniquely identify each row\n",
    "- **Foreign Keys** link tables together\n",
    "\n",
    "### SQL Best Practices:\n",
    "- Use meaningful column names\n",
    "- Be specific with your SELECT (avoid SELECT * in production)\n",
    "- Use comments to explain complex queries\n",
    "- Test your queries with LIMIT first\n",
    "\n",
    "### Tomorrow Preview:\n",
    "Day 2: **Data Types & Operators** - We'll learn about different data types (text, numbers, dates) and powerful filtering operators like BETWEEN, IN, and LIKE!\n",
    "\n",
    "### Practice Resources:\n",
    "- [SQLZoo](https://sqlzoo.net/) - Interactive SQL practice\n",
    "- [SQLite Documentation](https://www.sqlite.org/docs.html)\n",
    "- [W3Schools SQL](https://www.w3schools.com/sql/)\n",
    "\n",
    "**Great work on Day 1! You're now speaking SQL! 🗣️**"
   ]
  }
 ],
 "metadata": {
  "kernelspec": {
   "display_name": "ML_Python",
   "language": "python",
   "name": "python3"
  },
  "language_info": {
   "codemirror_mode": {
    "name": "ipython",
    "version": 3
   },
   "file_extension": ".py",
   "mimetype": "text/x-python",
   "name": "python",
   "nbconvert_exporter": "python",
   "pygments_lexer": "ipython3",
   "version": "3.11.7"
  }
 },
 "nbformat": 4,
 "nbformat_minor": 4
}
