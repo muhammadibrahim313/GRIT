{
 "cells": [
  {
   "cell_type": "markdown",
   "metadata": {},
   "source": [
    "# GRIT: SQL Basics - Day 1\n",
    "\n",
    "**Learning Objectives**\n",
    "- Understand what databases and SQL are\n",
    "- Learn basic SELECT statements\n",
    "- Use WHERE clauses for filtering data\n",
    "- Sort results with ORDER BY\n",
    "- Limit results with LIMIT\n",
    "\n",
    "**Why this matters**  \n",
    "SQL is the universal language for working with data. Whether you're analyzing sales, building dashboards, or managing customer data, SQL gives you the power to ask questions of your data and get answers.\n",
    "\n",
    "Today we start with the fundamentals - reading data from databases. By the end of this notebook, you'll be able to query any table to find exactly the information you need!"
   ]
  },
  {
   "cell_type": "markdown",
   "metadata": {},
   "source": [
    "## Setup: Connect to Our Database\n",
    "\n",
    "First, let's load the SQL extension and connect to our sample e-commerce database:"
   ]
  },
  {
   "cell_type": "code",
   "execution_count": 1,
   "metadata": {},
   "outputs": [
    {
     "name": "stdout",
     "output_type": "stream",
     "text": [
      "The sql module is not an IPython extension.\n"
     ]
    },
    {
     "name": "stderr",
     "output_type": "stream",
     "text": [
      "UsageError: Line magic function `%sql` not found.\n"
     ]
    }
   ],
   "source": [
    "# Load the SQL extension\n",
    "%load_ext sql\n",
    "\n",
    "# Connect to our sample database\n",
    "%sql sqlite:///ecommerce.db\n",
    "\n",
    "print(\"✅ Connected to database!\")"
   ]
  },
  {
   "cell_type": "markdown",
   "metadata": {},
   "source": [
    "## Theory: Understanding Databases & SQL\n",
    "\n",
    "### What is a Database?\n",
    "A database is like a digital filing cabinet that stores organized data. Our e-commerce database contains:\n",
    "- **customers**: People who buy from our store\n",
    "- **products**: Items we sell\n",
    "- **orders**: Purchase transactions\n",
    "- **order_items**: Individual items in each order\n",
    "\n",
    "### What is SQL?\n",
    "**SQL** = Structured Query Language  \n",
    "It's the language we use to \"talk\" to databases and ask questions like:\n",
    "- \"Show me all customers from California\"\n",
    "- \"What are our top-selling products?\"\n",
    "- \"How much did we sell last month?\"\n",
    "\n",
    "### Basic SQL Structure\n",
    "```sql\n",
    "SELECT column_names     -- What to show\n",
    "FROM table_name         -- Where to get it from\n",
    "WHERE conditions        -- Filter criteria\n",
    "ORDER BY column_name    -- How to sort\n",
    "LIMIT number           -- How many results\n",
    "```"
   ]
  },
  {
   "cell_type": "markdown",
   "metadata": {},
   "source": [
    "## Examples: Basic SELECT Queries\n",
    "\n",
    "Let's start with the simplest SQL query - selecting everything from a table:"
   ]
  },
  {
   "cell_type": "code",
   "execution_count": null,
   "metadata": {},
   "outputs": [],
   "source": [
    "-- Example 1: See all customers\n",
    "SELECT * FROM customers LIMIT 5;"
   ]
  },
  {
   "cell_type": "code",
   "execution_count": null,
   "metadata": {},
   "outputs": [],
   "source": [
    "-- Example 2: See specific columns only\n",
    "SELECT first_name, last_name, email FROM customers LIMIT 5;"
   ]
  },
  {
   "cell_type": "code",
   "execution_count": null,
   "metadata": {},
   "outputs": [],
   "source": [
    "-- Example 3: Count total customers\n",
    "SELECT COUNT(*) as total_customers FROM customers;"
   ]
  },
  {
   "cell_type": "markdown",
   "metadata": {},
   "source": [
    "## Examples: Filtering with WHERE\n",
    "\n",
    "The WHERE clause lets us filter data based on conditions:"
   ]
  },
  {
   "cell_type": "code",
   "execution_count": null,
   "metadata": {},
   "outputs": [],
   "source": [
    "-- Example 4: Find customers from California\n",
    "SELECT first_name, last_name, city, state \n",
    "FROM customers \n",
    "WHERE state = 'CA';"
   ]
  },
  {
   "cell_type": "code",
   "execution_count": null,
   "metadata": {},
   "outputs": [],
   "source": [
    "-- Example 5: Find expensive products (over $50)\n",
    "SELECT product_name, category, price \n",
    "FROM products \n",
    "WHERE price > 50 \n",
    "ORDER BY price DESC;"
   ]
  },
  {
   "cell_type": "code",
   "execution_count": null,
   "metadata": {},
   "outputs": [],
   "source": [
    "-- Example 6: Find active customers\n",
    "SELECT first_name, last_name, customer_status \n",
    "FROM customers \n",
    "WHERE customer_status = 'active';"
   ]
  },
  {
   "cell_type": "markdown",
   "metadata": {},
   "source": [
    "## Examples: Sorting with ORDER BY\n",
    "\n",
    "ORDER BY lets us sort results alphabetically or numerically:"
   ]
  },
  {
   "cell_type": "code",
   "execution_count": null,
   "metadata": {},
   "outputs": [],
   "source": [
    "-- Example 7: Sort products by price (lowest first)\n",
    "SELECT product_name, price \n",
    "FROM products \n",
    "ORDER BY price ASC \n",
    "LIMIT 5;"
   ]
  },
  {
   "cell_type": "code",
   "execution_count": null,
   "metadata": {},
   "outputs": [],
   "source": [
    "-- Example 8: Sort customers by registration date (newest first)\n",
    "SELECT first_name, last_name, registration_date \n",
    "FROM customers \n",
    "ORDER BY registration_date DESC \n",
    "LIMIT 5;"
   ]
  },
  {
   "cell_type": "markdown",
   "metadata": {},
   "source": [
    "## Examples: Combining Everything\n",
    "\n",
    "Let's put it all together with more complex queries:"
   ]
  },
  {
   "cell_type": "code",
   "execution_count": null,
   "metadata": {},
   "outputs": [],
   "source": [
    "-- Example 9: Electronics products under $100, sorted by price\n",
    "SELECT product_name, category, price \n",
    "FROM products \n",
    "WHERE category = 'Electronics' AND price < 100 \n",
    "ORDER BY price DESC;"
   ]
  },
  {
   "cell_type": "code",
   "execution_count": null,
   "metadata": {},
   "outputs": [],
   "source": [
    "-- Example 10: Recent orders with customer details\n",
    "SELECT o.order_id, c.first_name, c.last_name, o.order_date, o.total_amount \n",
    "FROM orders o \n",
    "JOIN customers c ON o.customer_id = c.customer_id \n",
    "ORDER BY o.order_date DESC \n",
    "LIMIT 10;"
   ]
  },
  {
   "cell_type": "markdown",
   "metadata": {},
   "source": [
    "## Exercises\n",
    "\n",
    "Now it's your turn! Complete these exercises using the patterns you learned:\n",
    "\n",
    "### Exercise 1: Basic SELECT\n",
    "Write a query to show all products (just the product names and prices)"
   ]
  },
  {
   "cell_type": "code",
   "execution_count": null,
   "metadata": {},
   "outputs": [],
   "source": [
    "-- Your code here\n",
    "SELECT product_name, price FROM products;"
   ]
  },
  {
   "cell_type": "markdown",
   "metadata": {},
   "source": [
    "### Exercise 2: Simple Filtering\n",
    "Find all customers from Texas (TX)"
   ]
  },
  {
   "cell_type": "code",
   "execution_count": null,
   "metadata": {},
   "outputs": [],
   "source": [
    "-- Your code here\n",
    "SELECT first_name, last_name, city, state \n",
    "FROM customers \n",
    "WHERE state = 'TX';"
   ]
  },
  {
   "cell_type": "markdown",
   "metadata": {},
   "source": [
    "### Exercise 3: Price Filtering\n",
    "Find all products that cost less than $50, sorted by price (lowest first)"
   ]
  },
  {
   "cell_type": "code",
   "execution_count": null,
   "metadata": {},
   "outputs": [],
   "source": [
    "-- Your code here\n",
    "SELECT product_name, price \n",
    "FROM products \n",
    "WHERE price < 50 \n",
    "ORDER BY price ASC;"
   ]
  },
  {
   "cell_type": "markdown",
   "metadata": {},
   "source": [
    "### Exercise 4: Sports Category\n",
    "Show all sports products with their prices, sorted by price highest to lowest"
   ]
  },
  {
   "cell_type": "code",
   "execution_count": null,
   "metadata": {},
   "outputs": [],
   "source": [
    "-- Your code here\n",
    "SELECT product_name, category, price \n",
    "FROM products \n",
    "WHERE category = 'Sports' \n",
    "ORDER BY price DESC;"
   ]
  },
  {
   "cell_type": "markdown",
   "metadata": {},
   "source": [
    "### Exercise 5: Customer Search\n",
    "Find all customers whose first name starts with 'J' or 'M'"
   ]
  },
  {
   "cell_type": "code",
   "execution_count": null,
   "metadata": {},
   "outputs": [],
   "source": [
    "-- Your code here\n",
    "SELECT first_name, last_name \n",
    "FROM customers \n",
    "WHERE first_name LIKE 'J%' OR first_name LIKE 'M%';"
   ]
  },
  {
   "cell_type": "markdown",
   "metadata": {},
   "source": [
    "### Exercise 6: Recent Registrations\n",
    "Show the 3 most recently registered customers"
   ]
  },
  {
   "cell_type": "code",
   "execution_count": null,
   "metadata": {},
   "outputs": [],
   "source": [
    "-- Your code here\n",
    "SELECT first_name, last_name, registration_date \n",
    "FROM customers \n",
    "ORDER BY registration_date DESC \n",
    "LIMIT 3;"
   ]
  },
  {
   "cell_type": "markdown",
   "metadata": {},
   "source": [
    "## Debug-Me Cell\n",
    "\n",
    "Here's a query with an error. Can you fix it?\n",
    "\n",
    "The goal: Show product names and prices for items over $100"
   ]
  },
  {
   "cell_type": "code",
   "execution_count": null,
   "metadata": {},
   "outputs": [],
   "source": [
    "-- Debug this query - it's supposed to show expensive products\n",
    "SELECT product_name, price \n",
    "FROM products \n",
    "WHERE price > 100  -- Hint: Check the column name\n",
    "ORDER BY price DESC;"
   ]
  },
  {
   "cell_type": "markdown",
   "metadata": {},
   "source": [
    "## Takeaways & Further Reading\n",
    "\n",
    "### What You Learned Today:\n",
    "✅ **SELECT** - Choose specific columns or all columns (*)  \n",
    "✅ **FROM** - Specify which table to query  \n",
    "✅ **WHERE** - Filter rows based on conditions  \n",
    "✅ **ORDER BY** - Sort results (ASC/DESC)  \n",
    "✅ **LIMIT** - Restrict number of results  \n",
    "\n",
    "### Key SQL Concepts:\n",
    "- **Tables** are like spreadsheets with rows and columns\n",
    "- **Columns** contain specific types of data (text, numbers, dates)\n",
    "- **Rows** represent individual records\n",
    "- **Primary Keys** uniquely identify each row\n",
    "- **Foreign Keys** link tables together\n",
    "\n",
    "### SQL Best Practices:\n",
    "- Use meaningful column names\n",
    "- Be specific with your SELECT (avoid SELECT * in production)\n",
    "- Use comments to explain complex queries\n",
    "- Test your queries with LIMIT first\n",
    "\n",
    "### Tomorrow Preview:\n",
    "Day 2: **Data Types & Operators** - We'll learn about different data types (text, numbers, dates) and powerful filtering operators like BETWEEN, IN, and LIKE!\n",
    "\n",
    "### Practice Resources:\n",
    "- [SQLZoo](https://sqlzoo.net/) - Interactive SQL practice\n",
    "- [SQLite Documentation](https://www.sqlite.org/docs.html)\n",
    "- [W3Schools SQL](https://www.w3schools.com/sql/)\n",
    "\n",
    "**Great work on Day 1! You're now speaking SQL! 🗣️**"
   ]
  }
 ],
 "metadata": {
  "kernelspec": {
   "display_name": "ML_Python",
   "language": "python",
   "name": "python3"
  },
  "language_info": {
   "codemirror_mode": {
    "name": "ipython",
    "version": 3
   },
   "file_extension": ".py",
   "mimetype": "text/x-python",
   "name": "python",
   "nbconvert_exporter": "python",
   "pygments_lexer": "ipython3",
   "version": "3.11.7"
  }
 },
 "nbformat": 4,
 "nbformat_minor": 4
}
