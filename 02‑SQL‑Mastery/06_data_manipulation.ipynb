{
 "cells": [
  {
   "cell_type": "markdown",
   "metadata": {},
   "source": [
    "# GRIT: Data Manipulation - Day 6\n",
    "\n",
    "**Learning Objectives**\n",
    "- Master INSERT statements to add new data\n",
    "- Use UPDATE to modify existing records\n",
    "- Apply DELETE to remove data safely\n",
    "- Create new tables with CREATE TABLE\n",
    "- Modify table structures with ALTER TABLE\n",
    "- Understand constraints and data integrity\n",
    "- Use transactions for data safety\n",
    "\n",
    "**Why this matters**  \n",
    "Reading data is important, but real database work involves creating, updating, and managing data. Whether you're building a new application, cleaning up old records, or restructuring your database, these data manipulation skills are essential for any data professional.\n",
    "\n",
    "Today you'll learn to be the architect of your data - creating, modifying, and managing databases like a pro!"
   ]
  },
  {
   "cell_type": "markdown",
   "metadata": {},
   "source": [
    "## Setup: Connect to Our Database\n",
    "\n",
    "Let's connect to our e-commerce database:"
   ]
  },
  {
   "cell_type": "code",
   "execution_count": null,
   "metadata": {},
   "outputs": [],
   "source": [
    "# Load the SQL extension\n",
    "%load_ext sql\n",
    "\n",
    "# Connect to our sample database\n",
    "%sql sqlite:///ecommerce.db\n",
    "\n",
    "print(\"✅ Connected to database!\")"
   ]
  },
  {
   "cell_type": "markdown",
   "metadata": {},
   "source": [
    "## Theory: Data Manipulation Language (DML)\n",
    "\n",
    "### The Four Horsemen of Data Manipulation:\n",
    "- **CREATE**: Build new database objects (tables, indexes, etc.)\n",
    "- **READ**: Query data (SELECT - we learned this!)\n",
    "- **UPDATE**: Modify existing data\n",
    "- **DELETE**: Remove data\n",
    "\n",
    "### Data Integrity Rules:\n",
    "- **Primary Keys**: Unique identifiers for each record\n",
    "- **Foreign Keys**: Links between related tables\n",
    "- **NOT NULL**: Fields that must have values\n",
    "- **UNIQUE**: Values that must be unique\n",
    "- **CHECK**: Custom validation rules\n",
    "- **DEFAULT**: Automatic values when none provided\n",
    "\n",
    "### Transactions:\n",
    "Groups of operations that succeed or fail together:\n",
    "- **BEGIN**: Start a transaction\n",
    "- **COMMIT**: Save all changes\n",
    "- **ROLLBACK**: Undo all changes\n",
    "\n",
    "### Safety First:\n",
    "Always backup before major changes! Test on copies first!"
   ]
  },
  {
   "cell_type": "markdown",
   "metadata": {},
   "source": [
    "## Examples: CREATE TABLE\n",
    "\n",
    "Let's create some new tables for our e-commerce system:"
   ]
  },
  {
   "cell_type": "code",
   "execution_count": null,
   "metadata": {},
   "outputs": [],
   "source": [
    "-- Example 1: Create a reviews table\n",
    "CREATE TABLE product_reviews (\n",
    "    review_id INTEGER PRIMARY KEY,\n",
    "    product_id INTEGER NOT NULL,\n",
    "    customer_id INTEGER NOT NULL,\n",
    "    rating INTEGER CHECK(rating >= 1 AND rating <= 5),\n",
    "    review_text TEXT,\n",
    "    review_date DATE DEFAULT CURRENT_DATE,\n",
    "    helpful_votes INTEGER DEFAULT 0,\n",
    "    verified_purchase BOOLEAN DEFAULT FALSE,\n",
    "    FOREIGN KEY (product_id) REFERENCES products(product_id),\n",
    "    FOREIGN KEY (customer_id) REFERENCES customers(customer_id)\n",
    ");\n",
    "\n",
    "SELECT '✅ Product reviews table created!' as status;"
   ]
  },
  {
   "cell_type": "code",
   "execution_count": null,
   "metadata": {},
   "outputs": [],
   "source": [
    "-- Example 2: Create an inventory tracking table\n",
    "CREATE TABLE inventory_log (\n",
    "    log_id INTEGER PRIMARY KEY,\n",
    "    product_id INTEGER NOT NULL,\n",
    "    change_type TEXT CHECK(change_type IN ('restock', 'sale', 'adjustment', 'return')),\n",
    "    quantity_change INTEGER NOT NULL,\n",
    "    previous_stock INTEGER NOT NULL,\n",
    "    new_stock INTEGER NOT NULL,\n",
    "    change_reason TEXT,\n",
    "    changed_by TEXT DEFAULT 'system',\n",
    "    change_date DATETIME DEFAULT CURRENT_TIMESTAMP,\n",
    "    FOREIGN KEY (product_id) REFERENCES products(product_id)\n",
    ");\n",
    "\n",
    "SELECT '✅ Inventory log table created!' as status;"
   ]
  },
  {
   "cell_type": "code",
   "execution_count": null,
   "metadata": {},
   "outputs": [],
   "source": [
    "-- Example 3: Create a customer preferences table\n",
    "CREATE TABLE customer_preferences (\n",
    "    preference_id INTEGER PRIMARY KEY,\n",
    "    customer_id INTEGER NOT NULL UNIQUE,\n",
    "    email_marketing BOOLEAN DEFAULT TRUE,\n",
    "    sms_notifications BOOLEAN DEFAULT FALSE,\n",
    "    favorite_category TEXT,\n",
    "    preferred_contact_time TEXT CHECK(preferred_contact_time IN ('morning', 'afternoon', 'evening')),\n",
    "    loyalty_tier TEXT DEFAULT 'bronze' CHECK(loyalty_tier IN ('bronze', 'silver', 'gold', 'platinum')),\n",
    "    created_at DATETIME DEFAULT CURRENT_TIMESTAMP,\n",
    "    updated_at DATETIME DEFAULT CURRENT_TIMESTAMP,\n",
    "    FOREIGN KEY (customer_id) REFERENCES customers(customer_id)\n",
    ");\n",
    "\n",
    "SELECT '✅ Customer preferences table created!' as status;"
   ]
  },
  {
   "cell_type": "markdown",
   "metadata": {},
   "source": [
    "## Examples: INSERT Data\n",
    "\n",
    "Add new records to our tables:"
   ]
  },
  {
   "cell_type": "code",
   "execution_count": null,
   "metadata": {},
   "outputs": [],
   "source": [
    "-- Example 4: Insert a product review\n",
    "INSERT INTO product_reviews (product_id, customer_id, rating, review_text, verified_purchase)\n",
    "VALUES (1, 1, 5, 'Amazing wireless headphones! Great sound quality and comfortable for long listening sessions.', TRUE);\n",
    "\n",
    "SELECT '✅ Review inserted!' as status;"
   ]
  },
  {
   "cell_type": "code",
   "execution_count": null,
   "metadata": {},
   "outputs": [],
   "source": [
    "-- Example 5: Insert multiple reviews at once\n",
    "INSERT INTO product_reviews (product_id, customer_id, rating, review_text, verified_purchase) VALUES\n",
    "(2, 2, 4, 'Good gaming mouse with RGB lighting. Could be more responsive.', TRUE),\n",
    "(3, 3, 5, 'Perfect coffee maker! Brews excellent coffee every morning.', TRUE),\n",
    "(4, 4, 4, 'Great running shoes. Very comfortable and good support.', TRUE),\n",
    "(6, 5, 5, 'Smart watch is fantastic! Tracks everything I need and looks great.', TRUE);\n",
    "\n",
    "SELECT '✅ Multiple reviews inserted!' as status;"
   ]
  },
  {
   "cell_type": "code",
   "execution_count": null,
   "metadata": {},
   "outputs": [],
   "source": [
    "-- Example 6: Insert customer preferences\n",
    "INSERT INTO customer_preferences (customer_id, email_marketing, sms_notifications, favorite_category, preferred_contact_time, loyalty_tier) VALUES\n",
    "(1, TRUE, FALSE, 'Electronics', 'morning', 'gold'),\n",
    "(2, TRUE, TRUE, 'Sports', 'afternoon', 'silver'),\n",
    "(3, FALSE, FALSE, 'Appliances', 'evening', 'bronze'),\n",
    "(4, TRUE, TRUE, 'Sports', 'morning', 'silver');\n",
    "\n",
    "SELECT '✅ Customer preferences inserted!' as status;"
   ]
  },
  {
   "cell_type": "code",
   "execution_count": null,
   "metadata": {},
   "outputs": [],
   "source": [
    "-- Example 7: Insert with subquery (copy active customers to preferences)\n",
    "INSERT INTO customer_preferences (customer_id, email_marketing, loyalty_tier)\n",
    "SELECT customer_id, TRUE, 'bronze'\n",
    "FROM customers\n",
    "WHERE customer_id NOT IN (SELECT customer_id FROM customer_preferences);\n",
    "\n",
    "SELECT '✅ Remaining customers added to preferences!' as status;"
   ]
  },
  {
   "cell_type": "markdown",
   "metadata": {},
   "source": [
    "## Examples: UPDATE Data\n",
    "\n",
    "Modify existing records:"
   ]
  },
  {
   "cell_type": "code",
   "execution_count": null,
   "metadata": {},
   "outputs": [],
   "source": [
    "-- Example 8: Update product stock\n",
    "UPDATE products\n",
    "SET stock_quantity = stock_quantity + 10\n",
    "WHERE product_id = 1;\n",
    "\n",
    "SELECT product_name, stock_quantity\n",
    "FROM products\n",
    "WHERE product_id = 1;"
   ]
  },
  {
   "cell_type": "code",
   "execution_count": null,
   "metadata": {},
   "outputs": [],
   "source": [
    "-- Example 9: Update customer status based on spending\n",
    "UPDATE customer_preferences\n",
    "SET loyalty_tier = 'gold'\n",
    "WHERE customer_id IN (\n",
    "    SELECT c.customer_id\n",
    "    FROM customers c\n",
    "    LEFT JOIN orders o ON c.customer_id = o.customer_id\n",
    "    GROUP BY c.customer_id\n",
    "    HAVING COALESCE(SUM(o.total_amount), 0) > 200\n",
    ");\n",
    "\n",
    "SELECT '✅ High-value customers upgraded to gold!' as status;"
   ]
  },
  {
   "cell_type": "code",
   "execution_count": null,
   "metadata": {},
   "outputs": [],
   "source": [
    "-- Example 10: Update multiple fields with conditions\n",
    "UPDATE customer_preferences\n",
    "SET sms_notifications = TRUE,\n",
    "    preferred_contact_time = 'morning',\n",
    "    updated_at = CURRENT_TIMESTAMP\n",
    "WHERE loyalty_tier IN ('gold', 'platinum');\n",
    "\n",
    "SELECT '✅ Premium customers updated with preferences!' as status;"
   ]
  },
  {
   "cell_type": "code",
   "execution_count": null,
   "metadata": {},
   "outputs": [],
   "source": [
    "-- Example 11: Update based on related table data\n",
    "UPDATE products\n",
    "SET stock_quantity = stock_quantity - (\n",
    "    SELECT COALESCE(SUM(oi.quantity), 0)\n",
    "    FROM order_items oi\n",
    "    WHERE oi.product_id = products.product_id\n",
    ")\n",
    "WHERE product_id IN (SELECT DISTINCT product_id FROM order_items);\n",
    "\n",
    "SELECT '✅ Product stock updated based on sales!' as status;"
   ]
  },
  {
   "cell_type": "markdown",
   "metadata": {},
   "source": [
    "## Examples: DELETE Data\n",
    "\n",
    "Remove records safely:"
   ]
  },
  {
   "cell_type": "code",
   "execution_count": null,
   "metadata": {},
   "outputs": [],
   "source": [
    "-- Example 12: Delete old reviews (keep only recent ones)\n",
    "-- First, let's see what we have\n",
    "SELECT COUNT(*) as total_reviews FROM product_reviews;\n",
    "\n",
    "-- Delete reviews older than 1 year (but we just created them, so none will be deleted)\n",
    "DELETE FROM product_reviews\n",
    "WHERE review_date < DATE('now', '-1 year');\n",
    "\n",
    "SELECT COUNT(*) as remaining_reviews FROM product_reviews;"
   ]
  },
  {
   "cell_type": "code",
   "execution_count": null,
   "metadata": {},
   "outputs": [],
   "source": [
    "-- Example 13: Delete inactive customer preferences\n",
    "DELETE FROM customer_preferences\n",
    "WHERE customer_id IN (\n",
    "    SELECT c.customer_id\n",
    "    FROM customers c\n",
    "    WHERE c.customer_status = 'inactive'\n",
    ");\n",
    "\n",
    "SELECT '✅ Inactive customer preferences removed!' as status;"
   ]
  },
  {
   "cell_type": "code",
   "execution_count": null,
   "metadata": {},
   "outputs": [],
   "source": [
    "-- Example 14: Clean up low-rated reviews\n",
    "-- Delete reviews with rating 1 or 2 that have no helpful votes\n",
    "DELETE FROM product_reviews\n",
    "WHERE rating <= 2 AND helpful_votes = 0;\n",
    "\n",
    "SELECT '✅ Low-quality reviews cleaned up!' as status;"
   ]
  },
  {
   "cell_type": "markdown",
   "metadata": {},
   "source": [
    "## Examples: ALTER TABLE\n",
    "\n",
    "Modify table structures:"
   ]
  },
  {
   "cell_type": "code",
   "execution_count": null,
   "metadata": {},
   "outputs": [],
   "source": [
    "-- Example 15: Add a new column to products table\n",
    "ALTER TABLE products ADD COLUMN discontinued BOOLEAN DEFAULT FALSE;\n",
    "\n",
    "SELECT '✅ Discontinued column added to products!' as status;"
   ]
  },
  {
   "cell_type": "code",
   "execution_count": null,
   "metadata": {},
   "outputs": [],
   "source": [
    "-- Example 16: Add discount column to product_reviews\n",
    "ALTER TABLE product_reviews ADD COLUMN would_recommend BOOLEAN;\n",
    "\n",
    "SELECT '✅ Recommendation column added to reviews!' as status;"
   ]
  },
  {
   "cell_type": "code",
   "execution_count": null,
   "metadata": {},
   "outputs": [],
   "source": [
    "-- Example 17: Update the new columns with data\n",
    "UPDATE product_reviews\n",
    "SET would_recommend = CASE WHEN rating >= 4 THEN TRUE ELSE FALSE END\n",
    "WHERE would_recommend IS NULL;\n",
    "\n",
    "SELECT '✅ Review recommendations updated!' as status;"
   ]
  },
  {
   "cell_type": "markdown",
   "metadata": {},
   "source": [
    "## Examples: Transactions\n",
    "\n",
    "Group operations that must succeed or fail together:"
   ]
  },
  {
   "cell_type": "code",
   "execution_count": null,
   "metadata": {},
   "outputs": [],
   "source": [
    "-- Example 18: Transaction for order processing\n",
    "-- This is conceptual - SQLite transactions work but are harder to demonstrate in notebook\n",
    "-- In real applications, you'd use:\n",
    "\n",
    "-- BEGIN TRANSACTION;\n",
    "-- \n",
    "-- -- Step 1: Create order\n",
    "-- INSERT INTO orders (customer_id, order_date, total_amount) \n",
    "-- VALUES (1, CURRENT_DATE, 99.99);\n",
    "-- \n",
    "-- -- Step 2: Add order items\n",
    "-- INSERT INTO order_items (order_id, product_id, quantity, unit_price, total_price)\n",
    "-- VALUES (LAST_INSERT_ROWID(), 1, 1, 99.99, 99.99);\n",
    "-- \n",
    "-- -- Step 3: Update inventory\n",
    "-- UPDATE products SET stock_quantity = stock_quantity - 1 WHERE product_id = 1;\n",
    "-- \n",
    "-- COMMIT;\n",
    "\n",
    "SELECT '✅ Transaction concept demonstrated!' as status;"
   ]
  },
  {
   "cell_type": "markdown",
   "metadata": {},
   "source": [
    "## Examples: Data Integrity & Constraints\n",
    "\n",
    "Let's see how constraints protect our data:"
   ]
  },
  {
   "cell_type": "code",
   "execution_count": null,
   "metadata": {},
   "outputs": [],
   "source": [
    "-- Example 19: Try to insert invalid data (this will fail)\n",
    "-- INSERT INTO product_reviews (product_id, customer_id, rating) \n",
    "-- VALUES (999, 1, 6);  -- Rating 6 is invalid (max 5)\n",
    "\n",
    "SELECT '✅ Constraint example: Rating must be 1-5!' as note;"
   ]
  },
  {
   "cell_type": "code",
   "execution_count": null,
   "metadata": {},
   "outputs": [],
   "source": [
    "-- Example 20: Try to delete referenced data (this would fail)\n",
    "-- DELETE FROM customers WHERE customer_id = 1;  -- Will fail if there are orders\n",
    "\n",
    "SELECT '✅ Foreign key protection prevents orphaned records!' as note;"
   ]
  },
  {
   "cell_type": "markdown",
   "metadata": {},
   "source": [
    "## Examples: Advanced Data Management\n",
    "\n",
    "Complex data operations:"
   ]
  },
  {
   "cell_type": "code",
   "execution_count": null,
   "metadata": {},
   "outputs": [],
   "source": [
    "-- Example 21: Bulk update based on complex logic\n",
    "UPDATE customer_preferences\n",
    "SET loyalty_tier = CASE\n",
    "    WHEN customer_id IN (\n",
    "        SELECT c.customer_id\n",
    "        FROM customers c\n",
    "        LEFT JOIN orders o ON c.customer_id = o.customer_id\n",
    "        GROUP BY c.customer_id\n",
    "        HAVING COALESCE(SUM(o.total_amount), 0) > 300\n",
    "    ) THEN 'platinum'\n",
    "    WHEN customer_id IN (\n",
    "        SELECT c.customer_id\n",
    "        FROM customers c\n",
    "        LEFT JOIN orders o ON c.customer_id = o.customer_id\n",
    "        GROUP BY c.customer_id\n",
    "        HAVING COALESCE(SUM(o.total_amount), 0) > 150\n",
    "    ) THEN 'gold'\n",
    "    WHEN customer_id IN (\n",
    "        SELECT c.customer_id\n",
    "        FROM customers c\n",
    "        LEFT JOIN orders o ON c.customer_id = o.customer_id\n",
    "        GROUP BY c.customer_id\n",
    "        HAVING COALESCE(SUM(o.total_amount), 0) > 50\n",
    "    ) THEN 'silver'\n",
    "    ELSE 'bronze'\n",
    "END;\n",
    "\n",
    "SELECT '✅ Loyalty tiers updated based on spending!' as status;"
   ]
  },
  {
   "cell_type": "code",
   "execution_count": null,
   "metadata": {},
   "outputs": [],
   "source": [
    "-- Example 22: Create summary table from existing data\n",
    "CREATE TABLE sales_summary AS\n",
    "SELECT strftime('%Y-%m', o.order_date) as month,\n",
    "       COUNT(DISTINCT o.order_id) as orders_count,\n",
    "       COUNT(DISTINCT o.customer_id) as customers_count,\n",
    "       SUM(o.total_amount) as total_revenue,\n",
    "       AVG(o.total_amount) as avg_order_value,\n",
    "       COUNT(DISTINCT oi.product_id) as products_sold\n",
    "FROM orders o\n",
    "LEFT JOIN order_items oi ON o.order_id = oi.order_id\n",
    "GROUP BY strftime('%Y-%m', o.order_date)\n",
    "ORDER BY month;\n",
    "\n",
    "SELECT '✅ Sales summary table created!' as status;"
   ]
  },
  {
   "cell_type": "code",
   "execution_count": null,
   "metadata": {},
   "outputs": [],
   "source": [
    "-- Example 23: View the summary data\n",
    "SELECT * FROM sales_summary ORDER BY month DESC;"
   ]
  },
  {
   "cell_type": "markdown",
   "metadata": {},
   "source": [
    "## Exercises\n",
    "\n",
    "### Exercise 1: CREATE TABLE\n",
    "Create a table for product categories with proper constraints"
   ]
  },
  {
   "cell_type": "code",
   "execution_count": null,
   "metadata": {},
   "outputs": [],
   "source": [
    "-- Your code here\n",
    "CREATE TABLE categories (\n",
    "    category_id INTEGER PRIMARY KEY,\n",
    "    category_name TEXT NOT NULL UNIQUE,\n",
    "    description TEXT,\n",
    "    created_at DATETIME DEFAULT CURRENT_TIMESTAMP,\n",
    "    active BOOLEAN DEFAULT TRUE\n",
    ");\n",
    "\n",
    "SELECT '✅ Categories table created!' as status;"
   ]
  },
  {
   "cell_type": "markdown",
   "metadata": {},
   "source": [
    "### Exercise 2: INSERT Data\n",
    "Insert some sample categories and update products to reference them"
   ]
  },
  {
   "cell_type": "code",
   "execution_count": null,
   "metadata": {},
   "outputs": [],
   "source": [
    "-- Your code here\n",
    "INSERT INTO categories (category_name, description) VALUES\n",
    "('Electronics', 'Electronic devices and gadgets'),\n",
    "('Sports', 'Sports equipment and apparel'),\n",
    "('Appliances', 'Home appliances'),\n",
    "('Books', 'Books and publications');\n",
    "\n",
    "SELECT '✅ Categories inserted!' as status;"
   ]
  },
  {
   "cell_type": "markdown",
   "metadata": {},
   "source": [
    "### Exercise 3: UPDATE with JOIN\n",
    "Update customer preferences based on their order history"
   ]
  },
  {
   "cell_type": "code",
   "execution_count": null,
   "metadata": {},
   "outputs": [],
   "source": [
    "-- Your code here\n",
    "UPDATE customer_preferences\n",
    "SET favorite_category = (\n",
    "    SELECT p.category\n",
    "    FROM orders o\n",
    "    INNER JOIN order_items oi ON o.order_id = oi.order_id\n",
    "    INNER JOIN products p ON oi.product_id = p.product_id\n",
    "    WHERE o.customer_id = customer_preferences.customer_id\n",
    "    GROUP BY p.category\n",
    "    ORDER BY COUNT(*) DESC\n",
    "    LIMIT 1\n",
    ")\n",
    "WHERE customer_id IN (SELECT customer_id FROM orders);\n",
    "\n",
    "SELECT '✅ Customer favorite categories updated!' as status;"
   ]
  },
  {
   "cell_type": "markdown",
   "metadata": {},
   "source": [
    "### Exercise 4: Safe DELETE\n",
    "Delete reviews that are both low-rated and have no helpful votes"
   ]
  },
  {
   "cell_type": "code",
   "execution_count": null,
   "metadata": {},
   "outputs": [],
   "source": [
    "-- Your code here\n",
    "DELETE FROM product_reviews\n",
    "WHERE rating <= 2 \n",
    "  AND helpful_votes = 0 \n",
    "  AND review_date < DATE('now', '-30 days');\n",
    "\n",
    "SELECT '✅ Old low-quality reviews cleaned up!' as status;"
   ]
  },
  {
   "cell_type": "markdown",
   "metadata": {},
   "source": [
    "### Exercise 5: ALTER TABLE\n",
    "Add a new column to track product return rates"
   ]
  },
  {
   "cell_type": "code",
   "execution_count": null,
   "metadata": {},
   "outputs": [],
   "source": [
    "-- Your code here\n",
    "ALTER TABLE products ADD COLUMN return_rate DECIMAL(5,2) DEFAULT 0.00;\n",
    "\n",
    "SELECT '✅ Return rate column added!' as status;"
   ]
  },
  {
   "cell_type": "markdown",
   "metadata": {},
   "source": [
    "### Exercise 6: Complex UPDATE\n",
    "Update product return rates based on inventory log data"
   ]
  },
  {
   "cell_type": "code",
   "execution_count": null,
   "metadata": {},
   "outputs": [],
   "source": [
    "-- Your code here\n",
    "UPDATE products\n",
    "SET return_rate = (\n",
    "    SELECT ROUND(\n",
    "        CAST(COUNT(CASE WHEN change_type = 'return' THEN 1 END) AS FLOAT) /\n",
    "        NULLIF(COUNT(*), 0) * 100, 2\n",
    "    )\n",
    "    FROM inventory_log\n",
    "    WHERE inventory_log.product_id = products.product_id\n",
    ")\n",
    "WHERE product_id IN (SELECT DISTINCT product_id FROM inventory_log);\n",
    "\n",
    "SELECT '✅ Product return rates calculated!' as status;"
   ]
  },
  {
   "cell_type": "markdown",
   "metadata": {},
   "source": [
    "## Debug-Me Cell\n",
    "\n",
    "This UPDATE statement has an error. Can you fix it?\n",
    "\n",
    "The goal: Update all products to mark discontinued status for products with no recent sales"
   ]
  },
  {
   "cell_type": "code",
   "execution_count": null,
   "metadata": {},
   "outputs": [],
   "source": [
    "-- Debug this UPDATE - it should mark products as discontinued\n",
    "UPDATE products\n",
    "SET discontinued = TRUE\n",
    "WHERE product_id NOT IN (\n",
    "    SELECT DISTINCT oi.product_id\n",
    "    FROM order_items oi\n",
    "    INNER JOIN orders o ON oi.order_id = o.order_id\n",
    "    WHERE o.order_date > DATE('now', '-90 days')\n",
    ");\n",
    "\n",
    "-- This might fail because we just added the discontinued column!\n",
    "-- Hint: Make sure the column exists before trying to update it!"
   ]
  },
  {
   "cell_type": "markdown",
   "metadata": {},
   "source": [
    "## Takeaways & Further Reading\n",
    "\n",
    "### Data Manipulation Commands Mastered:\n",
    "✅ **CREATE TABLE**: Design database structures with constraints  \n",
    "✅ **INSERT**: Add new data (single row or multiple rows)  \n",
    "✅ **UPDATE**: Modify existing data with WHERE conditions  \n",
    "✅ **DELETE**: Remove data safely with proper WHERE clauses  \n",
    "✅ **ALTER TABLE**: Modify table structures after creation  \n",
    "\n",
    "### Data Integrity Features:\n",
    "✅ **Primary Keys**: Unique record identifiers  \n",
    "✅ **Foreign Keys**: Maintain relationships between tables  \n",
    "✅ **NOT NULL**: Required fields  \n",
    "✅ **UNIQUE**: Unique value constraints  \n",
    "✅ **CHECK**: Custom validation rules  \n",
    "✅ **DEFAULT**: Automatic values  \n",
    "\n",
    "### Key Concepts:\n",
    "- **Transactions**: Group operations for consistency\n",
    "- **Constraints**: Protect data integrity\n",
    "- **Bulk Operations**: Efficient mass updates/deletes\n",
    "- **Subqueries in DML**: Use SELECT in INSERT/UPDATE/DELETE\n",
    "- **Safe Operations**: Always test before production changes\n",
    "\n",
    "### Best Practices:\n",
    "- **Test First**: Always test operations on copies\n",
    "- **Backup Data**: Create backups before major changes\n",
    "- **Use Transactions**: Group related operations\n",
    "- **Validate Constraints**: Ensure data integrity\n",
    "- **Document Changes**: Track what you modify\n",
    "\n",
    "### Tomorrow Preview:\n",
    "Day 7: **SQL Project** - Apply everything you've learned to a comprehensive e-commerce analytics project. You'll build real business reports and insights!\n",
    "\n",
    "### Practice Resources:\n",
    "- [SQL INSERT Tutorial](https://www.w3schools.com/sql/sql_insert.asp)\n",
    "- [SQL UPDATE Tutorial](https://www.w3schools.com/sql/sql_update.asp)\n",
    "- [SQL Constraints](https://www.w3schools.com/sql/sql_constraints.asp)\n",
    "\n",
    "**Congratulations! You're now a database architect who can create, modify, and manage data like a pro! 🏗️**"
   ]
  }
 ],
 "metadata": {
  "kernelspec": {
   "display_name": "Python 3",
   "language": "python3"
  },
  "language_info": {
   "codemirror_mode": {
    "name": "ipython",
    "version": 3
   },
   "file_extension": ".py",
   "mimetype": "text/x-python",
   "name": "python",
   "nbconvert_exporter": "python",
   "pygments_lexer": "ipython3",
   "version": "3.8.5"
  }
 },
 "nbformat": 4,
 "nbformat_minor": 4
}
