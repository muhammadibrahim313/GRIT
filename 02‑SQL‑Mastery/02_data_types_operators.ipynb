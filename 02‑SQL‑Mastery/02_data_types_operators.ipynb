{
 "cells": [
  {
   "cell_type": "markdown",
   "metadata": {},
   "source": [
    "# GRIT: Data Types & Operators - Day 2\n",
    "\n",
    "**Learning Objectives**\n",
    "- Understand different SQL data types (text, numbers, dates)\n",
    "- Master comparison operators (=, ≠, <, >)\n",
    "- Use logical operators (AND, OR, NOT)\n",
    "- Filter with patterns using LIKE\n",
    "- Find ranges with BETWEEN\n",
    "- Check multiple values with IN\n",
    "\n",
    "**Why this matters**  \n",
    "Data types are like containers that hold different kinds of information. Just like you wouldn't put soup in a cardboard box or books in a refrigerator, each type of data needs the right \"container\" in SQL. Operators are the tools that help you ask specific questions about your data.\n",
    "\n",
    "Today you'll learn to be precise with your data filtering - finding exactly what you need from your database!"
   ]
  },
  {
   "cell_type": "markdown",
   "metadata": {},
   "source": [
    "## Setup: Connect to Our Database\n",
    "\n",
    "Let's connect to our e-commerce database again:"
   ]
  },
  {
   "cell_type": "code",
   "execution_count": null,
   "metadata": {},
   "outputs": [],
   "source": [
    "# Load the SQL extension\n",
    "%load_ext sql\n",
    "\n",
    "# Connect to our sample database\n",
    "%sql sqlite:///ecommerce.db\n",
    "\n",
    "print(\"✅ Connected to database!\")"
   ]
  },
  {
   "cell_type": "markdown",
   "metadata": {},
   "source": [
    "## Theory: Understanding Data Types\n",
    "\n",
    "### Data Types Are Like Containers\n",
    "\n",
    "Imagine you're packing for a trip:\n",
    "- **TEXT**: Like a suitcase for clothes (words, names, descriptions)\n",
    "- **INTEGER**: Like a wallet for money (whole numbers: 1, 2, 100)\n",
    "- **REAL**: Like a piggy bank for coins (decimal numbers: 19.99, 3.14)\n",
    "- **DATE**: Like a calendar (dates: 2023-12-25)\n",
    "- **BOOLEAN**: Like a light switch (TRUE or FALSE)\n",
    "\n",
    "### Why Data Types Matter\n",
    "- **Storage**: Different types use different amounts of space\n",
    "- **Operations**: You can do math on numbers but not on text\n",
    "- **Filtering**: You filter dates differently than numbers\n",
    "\n",
    "Let's see what data types our tables use:"
   ]
  },
  {
   "cell_type": "code",
   "execution_count": null,
   "metadata": {},
   "outputs": [],
   "source": [
    "-- See the structure of our customers table\n",
    ".schema customers"
   ]
  },
  {
   "cell_type": "code",
   "execution_count": null,
   "metadata": {},
   "outputs": [],
   "source": [
    "-- See the structure of our products table\n",
    ".schema products"
   ]
  },
  {
   "cell_type": "markdown",
   "metadata": {},
   "source": [
    "## Examples: Working with Text (TEXT/VARCHAR)\n",
    "\n",
    "Text data includes names, addresses, descriptions. Let's explore:"
   ]
  },
  {
   "cell_type": "code",
   "execution_count": null,
   "metadata": {},
   "outputs": [],
   "source": [
    "-- Example 1: Basic text filtering\n",
    "SELECT first_name, last_name, city\n",
    "FROM customers\n",
    "WHERE city = 'New York';"
   ]
  },
  {
   "cell_type": "code",
   "execution_count": null,
   "metadata": {},
   "outputs": [],
   "source": [
    "-- Example 2: Text is case-sensitive\n",
    "SELECT first_name, last_name, city\n",
    "FROM customers\n",
    "WHERE city = 'new york';  -- This won't find anything!"
   ]
  },
  {
   "cell_type": "code",
   "execution_count": null,
   "metadata": {},
   "outputs": [],
   "source": [
    "-- Example 3: Find products with 'Smart' in the name\n",
    "SELECT product_name, price\n",
    "FROM products\n",
    "WHERE product_name LIKE '%Smart%';"
   ]
  },
  {
   "cell_type": "markdown",
   "metadata": {},
   "source": [
    "## Examples: Working with Numbers (INTEGER/REAL)\n",
    "\n",
    "Numbers can be whole (INTEGER) or decimal (REAL). Let's explore:"
   ]
  },
  {
   "cell_type": "code",
   "execution_count": null,
   "metadata": {},
   "outputs": [],
   "source": [
    "-- Example 4: Find products cheaper than $50\n",
    "SELECT product_name, price\n",
    "FROM products\n",
    "WHERE price < 50\n",
    "ORDER BY price DESC;"
   ]
  },
  {
   "cell_type": "code",
   "execution_count": null,
   "metadata": {},
   "outputs": [],
   "source": [
    "-- Example 5: Find products in a price range\n",
    "SELECT product_name, price\n",
    "FROM products\n",
    "WHERE price BETWEEN 50 AND 150\n",
    "ORDER BY price;"
   ]
  },
  {
   "cell_type": "code",
   "execution_count": null,
   "metadata": {},
   "outputs": [],
   "source": [
    "-- Example 6: Find products with low stock\n",
    "SELECT product_name, stock_quantity\n",
    "FROM products\n",
    "WHERE stock_quantity <= 20\n",
    "ORDER BY stock_quantity;"
   ]
  },
  {
   "cell_type": "markdown",
   "metadata": {},
   "source": [
    "## Examples: Comparison Operators\n",
    "\n",
    "Comparison operators help you compare values:"
   ]
  },
  {
   "cell_type": "code",
   "execution_count": null,
   "metadata": {},
   "outputs": [],
   "source": [
    "-- Example 7: Equal (=) - exact match\n",
    "SELECT product_name, category\n",
    "FROM products\n",
    "WHERE category = 'Electronics';"
   ]
  },
  {
   "cell_type": "code",
   "execution_count": null,
   "metadata": {},
   "outputs": [],
   "source": [
    "-- Example 8: Not equal (!= or <>)\n",
    "SELECT product_name, category\n",
    "FROM products\n",
    "WHERE category != 'Electronics';"
   ]
  },
  {
   "cell_type": "code",
   "execution_count": null,
   "metadata": {},
   "outputs": [],
   "source": [
    "-- Example 9: Greater than (>) and less than or equal (<=)\n",
    "SELECT product_name, price\n",
    "FROM products\n",
    "WHERE price > 100 AND price <= 200;"
   ]
  },
  {
   "cell_type": "markdown",
   "metadata": {},
   "source": [
    "## Examples: Logical Operators (AND, OR, NOT)\n",
    "\n",
    "Logical operators combine conditions:"
   ]
  },
  {
   "cell_type": "code",
   "execution_count": null,
   "metadata": {},
   "outputs": [],
   "source": [
    "-- Example 10: AND - both conditions must be true\n",
    "SELECT product_name, category, price\n",
    "FROM products\n",
    "WHERE category = 'Electronics' AND price < 100;"
   ]
  },
  {
   "cell_type": "code",
   "execution_count": null,
   "metadata": {},
   "outputs": [],
   "source": [
    "-- Example 11: OR - either condition can be true\n",
    "SELECT product_name, category, price\n",
    "FROM products\n",
    "WHERE category = 'Electronics' OR category = 'Sports';"
   ]
  },
  {
   "cell_type": "code",
   "execution_count": null,
   "metadata": {},
   "outputs": [],
   "source": [
    "-- Example 12: NOT - reverse the condition\n",
    "SELECT product_name, category\n",
    "FROM products\n",
    "WHERE NOT category = 'Electronics';"
   ]
  },
  {
   "cell_type": "markdown",
   "metadata": {},
   "source": [
    "## Examples: Pattern Matching with LIKE\n",
    "\n",
    "LIKE helps you find text patterns:"
   ]
  },
  {
   "cell_type": "code",
   "execution_count": null,
   "metadata": {},
   "outputs": [],
   "source": [
    "-- Example 13: Names starting with 'J'\n",
    "SELECT first_name, last_name\n",
    "FROM customers\n",
    "WHERE first_name LIKE 'J%';"
   ]
  },
  {
   "cell_type": "code",
   "execution_count": null,
   "metadata": {},
   "outputs": [],
   "source": [
    "-- Example 14: Names ending with 'n'\n",
    "SELECT first_name, last_name\n",
    "FROM customers\n",
    "WHERE last_name LIKE '%n';"
   ]
  },
  {
   "cell_type": "code",
   "execution_count": null,
   "metadata": {},
   "outputs": [],
   "source": [
    "-- Example 15: Names containing 'ar'\n",
    "SELECT first_name, last_name\n",
    "FROM customers\n",
    "WHERE first_name LIKE '%ar%';"
   ]
  },
  {
   "cell_type": "code",
   "execution_count": null,
   "metadata": {},
   "outputs": [],
   "source": [
    "-- Example 16: Product names with exactly 5 characters followed by space\n",
    "SELECT product_name\n",
    "FROM products\n",
    "WHERE product_name LIKE '_____ %';"
   ]
  },
  {
   "cell_type": "markdown",
   "metadata": {},
   "source": [
    "## Examples: IN Operator for Multiple Values\n",
    "\n",
    "IN checks if a value is in a list:"
   ]
  },
  {
   "cell_type": "code",
   "execution_count": null,
   "metadata": {},
   "outputs": [],
   "source": [
    "-- Example 17: Find customers from specific states\n",
    "SELECT first_name, last_name, state\n",
    "FROM customers\n",
    "WHERE state IN ('CA', 'TX', 'NY');"
   ]
  },
  {
   "cell_type": "code",
   "execution_count": null,
   "metadata": {},
   "source": [
    "-- Example 18: Find specific product categories\n",
    "SELECT product_name, category, price\n",
    "FROM products\n",
    "WHERE category IN ('Electronics', 'Appliances')\n",
    "ORDER BY category, price;"
   ]
  },
  {
   "cell_type": "markdown",
   "metadata": {},
   "source": [
    "## Examples: NULL Values\n",
    "\n",
    "NULL means \"unknown\" or \"missing\" data:"
   ]
  },
  {
   "cell_type": "code",
   "execution_count": null,
   "metadata": {},
   "outputs": [],
   "source": [
    "-- Example 19: Find customers without phone numbers\n",
    "SELECT first_name, last_name, phone\n",
    "FROM customers\n",
    "WHERE phone IS NULL;"
   ]
  },
  {
   "cell_type": "code",
   "execution_count": null,
   "metadata": {},
   "outputs": [],
   "source": [
    "-- Example 20: Find customers with phone numbers\n",
    "SELECT first_name, last_name, phone\n",
    "FROM customers\n",
    "WHERE phone IS NOT NULL\n",
    "LIMIT 5;"
   ]
  },
  {
   "cell_type": "markdown",
   "metadata": {},
   "source": [
    "## Examples: Complex Filtering\n",
    "\n",
    "Let's combine multiple operators:"
   ]
  },
  {
   "cell_type": "code",
   "execution_count": null,
   "metadata": {},
   "outputs": [],
   "source": [
    "-- Example 21: Complex filter - Electronics OR Sports, under $100, in stock\n",
    "SELECT product_name, category, price, stock_quantity\n",
    "FROM products\n",
    "WHERE (category = 'Electronics' OR category = 'Sports')\n",
    "  AND price < 100\n",
    "  AND stock_quantity > 0\n",
    "ORDER BY price DESC;"
   ]
  },
  {
   "cell_type": "code",
   "execution_count": null,
   "metadata": {},
   "outputs": [],
   "source": [
    "-- Example 22: Customers from CA or NY with phone numbers\n",
    "SELECT first_name, last_name, city, state, phone\n",
    "FROM customers\n",
    "WHERE state IN ('CA', 'NY')\n",
    "  AND phone IS NOT NULL\n",
    "ORDER BY state, last_name;"
   ]
  },
  {
   "cell_type": "markdown",
   "metadata": {},
   "source": [
    "## Exercises\n",
    "\n",
    "### Exercise 1: Text Filtering\n",
    "Find all customers whose last name starts with 'M'"
   ]
  },
  {
   "cell_type": "code",
   "execution_count": null,
   "metadata": {},
   "outputs": [],
   "source": [
    "-- Your code here\n",
    "SELECT first_name, last_name\n",
    "FROM customers\n",
    "WHERE last_name LIKE 'M%';"
   ]
  },
  {
   "cell_type": "markdown",
   "metadata": {},
   "source": [
    "### Exercise 2: Number Ranges\n",
    "Find products that cost between $25 and $75"
   ]
  },
  {
   "cell_type": "code",
   "execution_count": null,
   "metadata": {},
   "outputs": [],
   "source": [
    "-- Your code here\n",
    "SELECT product_name, price\n",
    "FROM products\n",
    "WHERE price BETWEEN 25 AND 75\n",
    "ORDER BY price;"
   ]
  },
  {
   "cell_type": "markdown",
   "metadata": {},
   "source": [
    "### Exercise 3: Multiple Categories\n",
    "Find all products in 'Books' or 'Sports' categories"
   ]
  },
  {
   "cell_type": "code",
   "execution_count": null,
   "metadata": {},
   "outputs": [],
   "source": [
    "-- Your code here\n",
    "SELECT product_name, category\n",
    "FROM products\n",
    "WHERE category IN ('Books', 'Sports');"
   ]
  },
  {
   "cell_type": "markdown",
   "metadata": {},
   "source": [
    "### Exercise 4: Logical Operators\n",
    "Find customers from California who have phone numbers"
   ]
  },
  {
   "cell_type": "code",
   "execution_count": null,
   "metadata": {},
   "outputs": [],
   "source": [
    "-- Your code here\n",
    "SELECT first_name, last_name, state, phone\n",
    "FROM customers\n",
    "WHERE state = 'CA' AND phone IS NOT NULL;"
   ]
  },
  {
   "cell_type": "markdown",
   "metadata": {},
   "source": [
    "### Exercise 5: Pattern Matching\n",
    "Find products whose names contain the word 'Wireless'"
   ]
  },
  {
   "cell_type": "code",
   "execution_count": null,
   "metadata": {},
   "outputs": [],
   "source": [
    "-- Your code here\n",
    "SELECT product_name, category\n",
    "FROM products\n",
    "WHERE product_name LIKE '%Wireless%';"
   ]
  },
  {
   "cell_type": "markdown",
   "metadata": {},
   "source": [
    "### Exercise 6: Complex Filter\n",
    "Find products that are:\n",
    "- In Electronics category OR priced over $150\n",
    "- Have more than 10 items in stock\n",
    "- Sort by price highest to lowest"
   ]
  },
  {
   "cell_type": "code",
   "execution_count": null,
   "metadata": {},
   "outputs": [],
   "source": [
    "-- Your code here\n",
    "SELECT product_name, category, price, stock_quantity\n",
    "FROM products\n",
    "WHERE (category = 'Electronics' OR price > 150)\n",
    "  AND stock_quantity > 10\n",
    "ORDER BY price DESC;"
   ]
  },
  {
   "cell_type": "markdown",
   "metadata": {},
   "source": [
    "## Debug-Me Cell\n",
    "\n",
    "Find the error in this query and fix it. The goal is to find products under $50 in Electronics or Sports categories."
   ]
  },
  {
   "cell_type": "code",
   "execution_count": null,
   "metadata": {},
   "outputs": [],
   "source": [
    "-- Debug this query\n",
    "SELECT product_name, category, price\n",
    "FROM products\n",
    "WHERE category = 'Electronics' OR category = 'Sports' AND price < 50\n",
    "ORDER BY price;\n",
    "\n",
    "-- Hint: Check the parentheses - AND has higher precedence than OR!"
   ]
  },
  {
   "cell_type": "markdown",
   "metadata": {},
   "source": [
    "## Takeaways & Further Reading\n",
    "\n",
    "### Data Types You Learned:\n",
    "✅ **TEXT**: For names, addresses, descriptions  \n",
    "✅ **INTEGER**: For whole numbers (ages, quantities)  \n",
    "✅ **REAL**: For decimal numbers (prices, measurements)  \n",
    "✅ **DATE**: For calendar dates and times  \n",
    "✅ **NULL**: Represents missing or unknown data  \n",
    "\n",
    "### Operators You Mastered:\n",
    "✅ **Comparison**: =, !=, <, >, <=, >=  \n",
    "✅ **Logical**: AND, OR, NOT  \n",
    "✅ **Pattern**: LIKE with wildcards (%)  \n",
    "✅ **Range**: BETWEEN for number/date ranges  \n",
    "✅ **Sets**: IN for multiple value checks  \n",
    "✅ **NULL checks**: IS NULL, IS NOT NULL  \n",
    "\n",
    "### Key Concepts:\n",
    "- **Case sensitivity**: Text comparisons are case-sensitive\n",
    "- **Operator precedence**: AND is evaluated before OR (use parentheses!)\n",
    "- **Wildcards**: % matches any characters, _ matches single character\n",
    "- **NULL behavior**: NULL comparisons need special operators\n",
    "\n",
    "### SQL Best Practices:\n",
    "- Use parentheses to make complex conditions clear\n",
    "- Test queries with small datasets first\n",
    "- Use meaningful aliases for complex expressions\n",
    "- Comment complex WHERE clauses\n",
    "\n",
    "### Tomorrow Preview:\n",
    "Day 3: **Aggregation & Grouping** - Learn to summarize data with COUNT, SUM, AVG, and GROUP BY. We'll discover patterns in our sales data!\n",
    "\n",
    "### Practice Resources:\n",
    "- [SQL LIKE Patterns](https://www.w3schools.com/sql/sql_like.asp)\n",
    "- [SQL Operators Reference](https://www.w3schools.com/sql/sql_operators.asp)\n",
    "- [SQLite Data Types](https://www.sqlite.org/datatype3.html)\n",
    "\n",
    "**Excellent work! You now speak fluent SQL filtering! 🎯**"
   ]
  }
 ],
 "metadata": {
  "kernelspec": {
   "display_name": "Python 3",
   "language": "python",
   "name": "python3"
  },
  "language_info": {
   "codemirror_mode": {
    "name": "ipython",
    "version": 3
   },
   "file_extension": ".py",
   "mimetype": "text/x-python",
   "name": "python",
   "nbconvert_exporter": "python",
   "pygments_lexer": "ipython3",
   "version": "3.8.5"
  }
 },
 "nbformat": 4,
 "nbformat_minor": 4
}
